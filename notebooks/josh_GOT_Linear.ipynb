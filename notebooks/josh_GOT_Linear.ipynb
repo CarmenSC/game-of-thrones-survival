{
 "cells": [
  {
   "cell_type": "code",
   "execution_count": 2,
   "id": "946796be",
   "metadata": {},
   "outputs": [],
   "source": [
    "import pandas as pd\n",
    "import numpy as np\n",
    "import matplotlib.pyplot as plt\n",
    "import seaborn as sns\n",
    "import tensorflow as tf\n",
    "from sklearn.model_selection import train_test_split\n",
    "from sklearn.preprocessing import OneHotEncoder\n",
    "from sklearn.preprocessing import StandardScaler\n",
    "from sklearn.model_selection import learning_curve\n",
    "from sklearn.linear_model import LinearRegression\n",
    "from sklearn.model_selection import cross_validate\n",
    "from sklearn.model_selection import GridSearchCV\n",
    "from sklearn.model_selection import RandomizedSearchCV\n",
    "from scipy import stats\n",
    "from sklearn.pipeline import Pipeline\n",
    "from sklearn.compose import ColumnTransformer\n",
    "import warnings\n",
    "warnings.filterwarnings('ignore')"
   ]
  },
  {
   "cell_type": "code",
   "execution_count": 3,
   "id": "fa32d42e",
   "metadata": {},
   "outputs": [],
   "source": [
    "df = pd.read_csv(\"../processed_data/data_cleaned_Carmen/20231128_only_deaths_ep_weights.csv\")"
   ]
  },
  {
   "cell_type": "code",
   "execution_count": 4,
   "id": "6b75b5b6",
   "metadata": {},
   "outputs": [],
   "source": [
    "df = df[df['allegiance'].map(df['allegiance'].value_counts()) > 30]"
   ]
  },
  {
   "cell_type": "code",
   "execution_count": 7,
   "id": "8fdb0731",
   "metadata": {},
   "outputs": [],
   "source": [
    "df = df[df['killer'].map(df['killer'].value_counts()) > 30]"
   ]
  },
  {
   "cell_type": "code",
   "execution_count": 8,
   "id": "4d6a6785",
   "metadata": {},
   "outputs": [],
   "source": [
    "df = df[df['killers_house'].map(df['killers_house'].value_counts()) > 30]"
   ]
  },
  {
   "cell_type": "code",
   "execution_count": 9,
   "id": "b677cf0d",
   "metadata": {},
   "outputs": [],
   "source": [
    "df = df[df['location'].map(df['location'].value_counts()) > 30]"
   ]
  },
  {
   "cell_type": "code",
   "execution_count": 10,
   "id": "b12fcd4b",
   "metadata": {},
   "outputs": [],
   "source": [
    "df = df[df['method'].map(df['method'].value_counts()) > 30]"
   ]
  },
  {
   "cell_type": "code",
   "execution_count": 4,
   "id": "e1bb2f3e",
   "metadata": {},
   "outputs": [
    {
     "data": {
      "text/html": [
       "<div>\n",
       "<style scoped>\n",
       "    .dataframe tbody tr th:only-of-type {\n",
       "        vertical-align: middle;\n",
       "    }\n",
       "\n",
       "    .dataframe tbody tr th {\n",
       "        vertical-align: top;\n",
       "    }\n",
       "\n",
       "    .dataframe thead th {\n",
       "        text-align: right;\n",
       "    }\n",
       "</style>\n",
       "<table border=\"1\" class=\"dataframe\">\n",
       "  <thead>\n",
       "    <tr style=\"text-align: right;\">\n",
       "      <th></th>\n",
       "      <th>Unnamed: 0</th>\n",
       "      <th>allegiance</th>\n",
       "      <th>killer</th>\n",
       "      <th>killers_house</th>\n",
       "      <th>location</th>\n",
       "      <th>method</th>\n",
       "      <th>name</th>\n",
       "      <th>episode_global_num</th>\n",
       "      <th>weights_simple</th>\n",
       "    </tr>\n",
       "  </thead>\n",
       "  <tbody>\n",
       "    <tr>\n",
       "      <th>0</th>\n",
       "      <td>0</td>\n",
       "      <td>Night's Watch</td>\n",
       "      <td>White Walker</td>\n",
       "      <td>None</td>\n",
       "      <td>Beyond the Wall</td>\n",
       "      <td>Ice sword</td>\n",
       "      <td>Waymar Royce</td>\n",
       "      <td>1</td>\n",
       "      <td>0.999550</td>\n",
       "    </tr>\n",
       "    <tr>\n",
       "      <th>1</th>\n",
       "      <td>1</td>\n",
       "      <td>Night's Watch</td>\n",
       "      <td>White Walker</td>\n",
       "      <td>None</td>\n",
       "      <td>Beyond the Wall</td>\n",
       "      <td>Ice sword</td>\n",
       "      <td>Gared</td>\n",
       "      <td>1</td>\n",
       "      <td>0.999550</td>\n",
       "    </tr>\n",
       "    <tr>\n",
       "      <th>2</th>\n",
       "      <td>2</td>\n",
       "      <td>Night's Watch</td>\n",
       "      <td>Ned Stark</td>\n",
       "      <td>House Stark</td>\n",
       "      <td>Winterfell</td>\n",
       "      <td>Sword</td>\n",
       "      <td>Will</td>\n",
       "      <td>1</td>\n",
       "      <td>0.999550</td>\n",
       "    </tr>\n",
       "    <tr>\n",
       "      <th>3</th>\n",
       "      <td>3</td>\n",
       "      <td>None</td>\n",
       "      <td>Direwolf</td>\n",
       "      <td>None</td>\n",
       "      <td>Winterfell</td>\n",
       "      <td>Teeth</td>\n",
       "      <td>Stag</td>\n",
       "      <td>1</td>\n",
       "      <td>0.999550</td>\n",
       "    </tr>\n",
       "    <tr>\n",
       "      <th>4</th>\n",
       "      <td>4</td>\n",
       "      <td>None</td>\n",
       "      <td>Stag</td>\n",
       "      <td>None</td>\n",
       "      <td>Winterfell</td>\n",
       "      <td>Antler</td>\n",
       "      <td>Direwolf</td>\n",
       "      <td>1</td>\n",
       "      <td>0.999550</td>\n",
       "    </tr>\n",
       "    <tr>\n",
       "      <th>...</th>\n",
       "      <td>...</td>\n",
       "      <td>...</td>\n",
       "      <td>...</td>\n",
       "      <td>...</td>\n",
       "      <td>...</td>\n",
       "      <td>...</td>\n",
       "      <td>...</td>\n",
       "      <td>...</td>\n",
       "      <td>...</td>\n",
       "    </tr>\n",
       "    <tr>\n",
       "      <th>2219</th>\n",
       "      <td>2219</td>\n",
       "      <td>None</td>\n",
       "      <td>Daenerys Targaryen</td>\n",
       "      <td>House Targaryen</td>\n",
       "      <td>King's Landing</td>\n",
       "      <td>Dragonfire (Dragon)</td>\n",
       "      <td>King's Landing Citizen</td>\n",
       "      <td>72</td>\n",
       "      <td>0.895234</td>\n",
       "    </tr>\n",
       "    <tr>\n",
       "      <th>2220</th>\n",
       "      <td>2220</td>\n",
       "      <td>None</td>\n",
       "      <td>Daenerys Targaryen</td>\n",
       "      <td>House Targaryen</td>\n",
       "      <td>King's Landing</td>\n",
       "      <td>Dragonfire (Dragon)</td>\n",
       "      <td>King's Landing Citizen</td>\n",
       "      <td>72</td>\n",
       "      <td>0.895234</td>\n",
       "    </tr>\n",
       "    <tr>\n",
       "      <th>2221</th>\n",
       "      <td>2221</td>\n",
       "      <td>None</td>\n",
       "      <td>Daenerys Targaryen</td>\n",
       "      <td>House Targaryen</td>\n",
       "      <td>King's Landing</td>\n",
       "      <td>Dragonfire (Dragon)</td>\n",
       "      <td>King's Landing Citizen</td>\n",
       "      <td>72</td>\n",
       "      <td>0.895234</td>\n",
       "    </tr>\n",
       "    <tr>\n",
       "      <th>2222</th>\n",
       "      <td>2222</td>\n",
       "      <td>None</td>\n",
       "      <td>Daenerys Targaryen</td>\n",
       "      <td>House Targaryen</td>\n",
       "      <td>King's Landing</td>\n",
       "      <td>Dragonfire (Dragon)</td>\n",
       "      <td>King's Landing Citizen</td>\n",
       "      <td>72</td>\n",
       "      <td>0.895234</td>\n",
       "    </tr>\n",
       "    <tr>\n",
       "      <th>2223</th>\n",
       "      <td>2223</td>\n",
       "      <td>House Targaryen</td>\n",
       "      <td>Jon Snow</td>\n",
       "      <td>House Stark</td>\n",
       "      <td>King's Landing</td>\n",
       "      <td>Knife</td>\n",
       "      <td>Daenerys Targaryen</td>\n",
       "      <td>73</td>\n",
       "      <td>0.999550</td>\n",
       "    </tr>\n",
       "  </tbody>\n",
       "</table>\n",
       "<p>2224 rows × 9 columns</p>\n",
       "</div>"
      ],
      "text/plain": [
       "      Unnamed: 0       allegiance              killer    killers_house  \\\n",
       "0              0    Night's Watch        White Walker             None   \n",
       "1              1    Night's Watch        White Walker             None   \n",
       "2              2    Night's Watch           Ned Stark      House Stark   \n",
       "3              3             None            Direwolf             None   \n",
       "4              4             None                Stag             None   \n",
       "...          ...              ...                 ...              ...   \n",
       "2219        2219             None  Daenerys Targaryen  House Targaryen   \n",
       "2220        2220             None  Daenerys Targaryen  House Targaryen   \n",
       "2221        2221             None  Daenerys Targaryen  House Targaryen   \n",
       "2222        2222             None  Daenerys Targaryen  House Targaryen   \n",
       "2223        2223  House Targaryen            Jon Snow      House Stark   \n",
       "\n",
       "             location               method                    name  \\\n",
       "0     Beyond the Wall            Ice sword            Waymar Royce   \n",
       "1     Beyond the Wall            Ice sword                   Gared   \n",
       "2          Winterfell                Sword                    Will   \n",
       "3          Winterfell                Teeth                    Stag   \n",
       "4          Winterfell               Antler                Direwolf   \n",
       "...               ...                  ...                     ...   \n",
       "2219   King's Landing  Dragonfire (Dragon)  King's Landing Citizen   \n",
       "2220   King's Landing  Dragonfire (Dragon)  King's Landing Citizen   \n",
       "2221   King's Landing  Dragonfire (Dragon)  King's Landing Citizen   \n",
       "2222   King's Landing  Dragonfire (Dragon)  King's Landing Citizen   \n",
       "2223   King's Landing                Knife      Daenerys Targaryen   \n",
       "\n",
       "      episode_global_num  weights_simple  \n",
       "0                      1        0.999550  \n",
       "1                      1        0.999550  \n",
       "2                      1        0.999550  \n",
       "3                      1        0.999550  \n",
       "4                      1        0.999550  \n",
       "...                  ...             ...  \n",
       "2219                  72        0.895234  \n",
       "2220                  72        0.895234  \n",
       "2221                  72        0.895234  \n",
       "2222                  72        0.895234  \n",
       "2223                  73        0.999550  \n",
       "\n",
       "[2224 rows x 9 columns]"
      ]
     },
     "execution_count": 4,
     "metadata": {},
     "output_type": "execute_result"
    }
   ],
   "source": [
    "df"
   ]
  },
  {
   "cell_type": "code",
   "execution_count": 5,
   "id": "6bb96f41",
   "metadata": {},
   "outputs": [],
   "source": [
    "df = df.drop(columns=[\"Unnamed: 0\",'name'], axis=1)"
   ]
  },
  {
   "cell_type": "code",
   "execution_count": 6,
   "id": "00a0ef30",
   "metadata": {},
   "outputs": [
    {
     "data": {
      "text/html": [
       "<div>\n",
       "<style scoped>\n",
       "    .dataframe tbody tr th:only-of-type {\n",
       "        vertical-align: middle;\n",
       "    }\n",
       "\n",
       "    .dataframe tbody tr th {\n",
       "        vertical-align: top;\n",
       "    }\n",
       "\n",
       "    .dataframe thead th {\n",
       "        text-align: right;\n",
       "    }\n",
       "</style>\n",
       "<table border=\"1\" class=\"dataframe\">\n",
       "  <thead>\n",
       "    <tr style=\"text-align: right;\">\n",
       "      <th></th>\n",
       "      <th>episode_global_num</th>\n",
       "    </tr>\n",
       "  </thead>\n",
       "  <tbody>\n",
       "    <tr>\n",
       "      <th>0</th>\n",
       "      <td>1</td>\n",
       "    </tr>\n",
       "    <tr>\n",
       "      <th>1</th>\n",
       "      <td>1</td>\n",
       "    </tr>\n",
       "    <tr>\n",
       "      <th>2</th>\n",
       "      <td>1</td>\n",
       "    </tr>\n",
       "    <tr>\n",
       "      <th>3</th>\n",
       "      <td>1</td>\n",
       "    </tr>\n",
       "    <tr>\n",
       "      <th>4</th>\n",
       "      <td>1</td>\n",
       "    </tr>\n",
       "  </tbody>\n",
       "</table>\n",
       "</div>"
      ],
      "text/plain": [
       "   episode_global_num\n",
       "0                   1\n",
       "1                   1\n",
       "2                   1\n",
       "3                   1\n",
       "4                   1"
      ]
     },
     "execution_count": 6,
     "metadata": {},
     "output_type": "execute_result"
    }
   ],
   "source": [
    "y = df[\"episode_global_num\"]\n",
    "y = y.to_frame(name=\"episode_global_num\")\n",
    "y.head()"
   ]
  },
  {
   "cell_type": "code",
   "execution_count": 7,
   "id": "ec107e0a",
   "metadata": {},
   "outputs": [
    {
     "data": {
      "text/html": [
       "<div>\n",
       "<style scoped>\n",
       "    .dataframe tbody tr th:only-of-type {\n",
       "        vertical-align: middle;\n",
       "    }\n",
       "\n",
       "    .dataframe tbody tr th {\n",
       "        vertical-align: top;\n",
       "    }\n",
       "\n",
       "    .dataframe thead th {\n",
       "        text-align: right;\n",
       "    }\n",
       "</style>\n",
       "<table border=\"1\" class=\"dataframe\">\n",
       "  <thead>\n",
       "    <tr style=\"text-align: right;\">\n",
       "      <th></th>\n",
       "      <th>allegiance</th>\n",
       "      <th>killer</th>\n",
       "      <th>killers_house</th>\n",
       "      <th>location</th>\n",
       "      <th>method</th>\n",
       "      <th>weights_simple</th>\n",
       "    </tr>\n",
       "  </thead>\n",
       "  <tbody>\n",
       "    <tr>\n",
       "      <th>0</th>\n",
       "      <td>Night's Watch</td>\n",
       "      <td>White Walker</td>\n",
       "      <td>None</td>\n",
       "      <td>Beyond the Wall</td>\n",
       "      <td>Ice sword</td>\n",
       "      <td>0.99955</td>\n",
       "    </tr>\n",
       "    <tr>\n",
       "      <th>1</th>\n",
       "      <td>Night's Watch</td>\n",
       "      <td>White Walker</td>\n",
       "      <td>None</td>\n",
       "      <td>Beyond the Wall</td>\n",
       "      <td>Ice sword</td>\n",
       "      <td>0.99955</td>\n",
       "    </tr>\n",
       "    <tr>\n",
       "      <th>2</th>\n",
       "      <td>Night's Watch</td>\n",
       "      <td>Ned Stark</td>\n",
       "      <td>House Stark</td>\n",
       "      <td>Winterfell</td>\n",
       "      <td>Sword</td>\n",
       "      <td>0.99955</td>\n",
       "    </tr>\n",
       "    <tr>\n",
       "      <th>3</th>\n",
       "      <td>None</td>\n",
       "      <td>Direwolf</td>\n",
       "      <td>None</td>\n",
       "      <td>Winterfell</td>\n",
       "      <td>Teeth</td>\n",
       "      <td>0.99955</td>\n",
       "    </tr>\n",
       "    <tr>\n",
       "      <th>4</th>\n",
       "      <td>None</td>\n",
       "      <td>Stag</td>\n",
       "      <td>None</td>\n",
       "      <td>Winterfell</td>\n",
       "      <td>Antler</td>\n",
       "      <td>0.99955</td>\n",
       "    </tr>\n",
       "  </tbody>\n",
       "</table>\n",
       "</div>"
      ],
      "text/plain": [
       "      allegiance        killer killers_house         location     method  \\\n",
       "0  Night's Watch  White Walker          None  Beyond the Wall  Ice sword   \n",
       "1  Night's Watch  White Walker          None  Beyond the Wall  Ice sword   \n",
       "2  Night's Watch     Ned Stark   House Stark       Winterfell      Sword   \n",
       "3           None      Direwolf          None       Winterfell      Teeth   \n",
       "4           None          Stag          None       Winterfell     Antler   \n",
       "\n",
       "   weights_simple  \n",
       "0         0.99955  \n",
       "1         0.99955  \n",
       "2         0.99955  \n",
       "3         0.99955  \n",
       "4         0.99955  "
      ]
     },
     "execution_count": 7,
     "metadata": {},
     "output_type": "execute_result"
    }
   ],
   "source": [
    "X = df\n",
    "X = X.drop(columns = [\"episode_global_num\"], axis=1)\n",
    "X.head()"
   ]
  },
  {
   "cell_type": "code",
   "execution_count": 8,
   "id": "d27b3848",
   "metadata": {},
   "outputs": [],
   "source": [
    "num_transformer = Pipeline([('standard_scaler', StandardScaler())])\n",
    "\n",
    "cat_transformer = OneHotEncoder(handle_unknown='ignore', sparse_output=False)\n",
    "\n",
    "preprocessor = ColumnTransformer([\n",
    "    ('num_transformer', num_transformer, [\"weights_simple\"]),\n",
    "    ('cat_transformer', cat_transformer, ['allegiance','killer','killers_house','location','method'])\n",
    "])"
   ]
  },
  {
   "cell_type": "code",
   "execution_count": 11,
   "id": "1a129995",
   "metadata": {},
   "outputs": [],
   "source": [
    "X_train, X_test, y_train, y_test = train_test_split(X, y, test_size=0.3, random_state=42)"
   ]
  },
  {
   "cell_type": "code",
   "execution_count": 12,
   "id": "7c4fce80",
   "metadata": {},
   "outputs": [],
   "source": [
    "X_train = pd.DataFrame(preprocessor.fit_transform(X_train),\n",
    "            columns=preprocessor.get_feature_names_out())"
   ]
  },
  {
   "cell_type": "code",
   "execution_count": 16,
   "id": "1341dc67",
   "metadata": {},
   "outputs": [
    {
     "data": {
      "text/plain": [
       "Index(['num_transformer__weights_simple',\n",
       "       'cat_transformer__allegiance_Brotherhood Without Banners',\n",
       "       'cat_transformer__allegiance_Children of the Forest',\n",
       "       'cat_transformer__allegiance_Dothraki',\n",
       "       'cat_transformer__allegiance_Faith Militant',\n",
       "       'cat_transformer__allegiance_Faith of the Seven',\n",
       "       'cat_transformer__allegiance_Free Folk',\n",
       "       'cat_transformer__allegiance_Good Masters',\n",
       "       'cat_transformer__allegiance_Great Masters',\n",
       "       'cat_transformer__allegiance_House Arryn',\n",
       "       ...\n",
       "       'cat_transformer__method_Shield', 'cat_transformer__method_Spear',\n",
       "       'cat_transformer__method_Steak', 'cat_transformer__method_Sword',\n",
       "       'cat_transformer__method_Teeth',\n",
       "       'cat_transformer__method_Teeth (Dragon)',\n",
       "       'cat_transformer__method_Tusk', 'cat_transformer__method_Unknown',\n",
       "       'cat_transformer__method_Whip', 'cat_transformer__method_Wildfire'],\n",
       "      dtype='object', length=276)"
      ]
     },
     "execution_count": 16,
     "metadata": {},
     "output_type": "execute_result"
    }
   ],
   "source": [
    "X_train.columns"
   ]
  },
  {
   "cell_type": "code",
   "execution_count": 22,
   "id": "0f88607f",
   "metadata": {},
   "outputs": [
    {
     "data": {
      "text/plain": [
       "-1229826564721.7766"
      ]
     },
     "execution_count": 22,
     "metadata": {},
     "output_type": "execute_result"
    }
   ],
   "source": [
    "model = LinearRegression()\n",
    "#model.fit(X_train,y_train)\n",
    "cv_results = cross_validate(model, X_train, y_train, cv=5, scoring=('neg_mean_absolute_error'))\n",
    "test = cv_results[\"test_score\"].mean()\n",
    "test"
   ]
  },
  {
   "cell_type": "code",
   "execution_count": 20,
   "id": "a2afc78b",
   "metadata": {},
   "outputs": [
    {
     "data": {
      "text/plain": [
       "{'fit_time': array([0.02716804, 0.27970505, 0.28996301, 0.54973888, 0.29789972]),\n",
       " 'score_time': array([0.04364586, 0.0171001 , 0.02943397, 0.01625395, 0.04891014]),\n",
       " 'test_score': array([-1.28094492e+12, -1.44602049e+12, -1.25988697e+12, -1.18035326e+12,\n",
       "        -9.81927191e+11])}"
      ]
     },
     "execution_count": 20,
     "metadata": {},
     "output_type": "execute_result"
    }
   ],
   "source": [
    "cv_results"
   ]
  },
  {
   "cell_type": "code",
   "execution_count": null,
   "id": "cc3e41c4",
   "metadata": {},
   "outputs": [],
   "source": []
  }
 ],
 "metadata": {
  "kernelspec": {
   "display_name": "Python 3 (ipykernel)",
   "language": "python",
   "name": "python3"
  },
  "language_info": {
   "codemirror_mode": {
    "name": "ipython",
    "version": 3
   },
   "file_extension": ".py",
   "mimetype": "text/x-python",
   "name": "python",
   "nbconvert_exporter": "python",
   "pygments_lexer": "ipython3",
   "version": "3.10.6"
  }
 },
 "nbformat": 4,
 "nbformat_minor": 5
}
