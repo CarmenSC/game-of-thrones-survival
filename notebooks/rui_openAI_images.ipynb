{
 "cells": [
  {
   "cell_type": "code",
   "execution_count": 19,
   "metadata": {},
   "outputs": [
    {
     "name": "stdout",
     "output_type": "stream",
     "text": [
      "The autoreload extension is already loaded. To reload it, use:\n",
      "  %reload_ext autoreload\n"
     ]
    }
   ],
   "source": [
    "from openai import OpenAI\n",
    "import os\n",
    "from IPython.display import Image\n",
    "import requests\n",
    "from PIL import Image\n",
    "from io import BytesIO\n",
    "%load_ext autoreload\n",
    "%autoreload 2\n"
   ]
  },
  {
   "cell_type": "code",
   "execution_count": 22,
   "metadata": {},
   "outputs": [
    {
     "name": "stdout",
     "output_type": "stream",
     "text": [
      "Initial size: (1024, 1024)\n",
      "Final size: (256, 256)\n"
     ]
    },
    {
     "name": "stderr",
     "output_type": "stream",
     "text": [
      "/var/folders/hc/lcgvr8h11sq4z32r5nwftth80000gp/T/ipykernel_2920/229149890.py:42: DeprecationWarning: ANTIALIAS is deprecated and will be removed in Pillow 10 (2023-07-01). Use Resampling.LANCZOS instead.\n",
      "  img = img.resize((256, 256), Image.ANTIALIAS)\n"
     ]
    }
   ],
   "source": [
    "client = OpenAI(\n",
    "    api_key=os.getenv(\"OPENAI_API_KEY\")\n",
    ")\n",
    "\n",
    "#configuration, this can be the prompt from the new caracter creation form\n",
    "new_character = {\n",
    "        'house': 'House Stark',\n",
    "        'luck': 'unlucky',\n",
    "        'age': 28,\n",
    "        'popularity': 0.78,\n",
    "        'male': 0,\n",
    "        'nobility': 1,\n",
    "        'married': 1\n",
    "    }\n",
    "\n",
    "#generate image\n",
    "response = client.images.generate(\n",
    "    model=\"dall-e-3\",\n",
    "    prompt=f\"\"\"Create a Game of Thrones character picture from {new_character.get('house')}.\n",
    "    Explore the implications of being {new_character.get('age')} years old.\n",
    "    With a popularity index of {new_character.get('popularity')}, his interactions\n",
    "    within the realm are greatly influenced. This character, identified as\n",
    "    {'male' if new_character.get('male') else 'female'}, possesses nobility\n",
    "    status ({'Noble' if new_character.get('nobility') else 'Commoner'}) and\n",
    "    is {'married' if new_character.get('married') else 'unmarried'}.\n",
    "    Weave these elements into a narrative that seamlessly fits into the\n",
    "    rich and complex world of Westeros. Do not include any text in the image.\"\"\",\n",
    "    quality=\"standard\",\n",
    "    size=\"1024x1024\",\n",
    "    n=1,\n",
    ")\n",
    "\n",
    "#extract image url\n",
    "image_url = response.data[0].url\n",
    "\n",
    "# check size of image\n",
    "response = requests.get(image_url)\n",
    "img = Image.open(BytesIO(response.content))\n",
    "print(f\"Initial size: {img.size}\")\n",
    "\n",
    "#resize image to 256x256\n",
    "img = img.resize((256, 256), Image.ANTIALIAS)\n",
    "print(f\"Final size: {img.size}\")\n",
    "\n",
    "#show image\n",
    "img.show()\n"
   ]
  },
  {
   "cell_type": "code",
   "execution_count": 20,
   "metadata": {},
   "outputs": [
    {
     "data": {
      "text/plain": [
       "(1024, 1024)"
      ]
     },
     "execution_count": 20,
     "metadata": {},
     "output_type": "execute_result"
    }
   ],
   "source": []
  }
 ],
 "metadata": {
  "kernelspec": {
   "display_name": "game-of-thrones-survival",
   "language": "python",
   "name": "python3"
  },
  "language_info": {
   "codemirror_mode": {
    "name": "ipython",
    "version": 3
   },
   "file_extension": ".py",
   "mimetype": "text/x-python",
   "name": "python",
   "nbconvert_exporter": "python",
   "pygments_lexer": "ipython3",
   "version": "3.10.6"
  }
 },
 "nbformat": 4,
 "nbformat_minor": 2
}
