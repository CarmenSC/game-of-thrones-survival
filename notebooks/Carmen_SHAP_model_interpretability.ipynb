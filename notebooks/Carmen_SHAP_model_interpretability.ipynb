{
 "cells": [
  {
   "cell_type": "markdown",
   "metadata": {},
   "source": [
    "<font size=20>**Using SHAP Values for Model Interpretability**<font>"
   ]
  },
  {
   "cell_type": "code",
   "execution_count": 2,
   "metadata": {},
   "outputs": [
    {
     "name": "stdout",
     "output_type": "stream",
     "text": [
      "Requirement already satisfied: shap in /Users/Carmen/.pyenv/versions/3.10.6/envs/game-of-thrones-survival/lib/python3.10/site-packages (0.43.0)\n",
      "Requirement already satisfied: numpy in /Users/Carmen/.pyenv/versions/3.10.6/envs/game-of-thrones-survival/lib/python3.10/site-packages (from shap) (1.26.2)\n",
      "Requirement already satisfied: scipy in /Users/Carmen/.pyenv/versions/3.10.6/envs/game-of-thrones-survival/lib/python3.10/site-packages (from shap) (1.11.4)\n",
      "Requirement already satisfied: scikit-learn in /Users/Carmen/.pyenv/versions/3.10.6/envs/game-of-thrones-survival/lib/python3.10/site-packages (from shap) (1.3.2)\n",
      "Requirement already satisfied: pandas in /Users/Carmen/.pyenv/versions/3.10.6/envs/game-of-thrones-survival/lib/python3.10/site-packages (from shap) (2.1.3)\n",
      "Requirement already satisfied: tqdm>=4.27.0 in /Users/Carmen/.pyenv/versions/3.10.6/envs/game-of-thrones-survival/lib/python3.10/site-packages (from shap) (4.66.1)\n",
      "Requirement already satisfied: packaging>20.9 in /Users/Carmen/.pyenv/versions/3.10.6/envs/game-of-thrones-survival/lib/python3.10/site-packages (from shap) (23.2)\n",
      "Requirement already satisfied: slicer==0.0.7 in /Users/Carmen/.pyenv/versions/3.10.6/envs/game-of-thrones-survival/lib/python3.10/site-packages (from shap) (0.0.7)\n",
      "Requirement already satisfied: numba in /Users/Carmen/.pyenv/versions/3.10.6/envs/game-of-thrones-survival/lib/python3.10/site-packages (from shap) (0.58.1)\n",
      "Requirement already satisfied: cloudpickle in /Users/Carmen/.pyenv/versions/3.10.6/envs/game-of-thrones-survival/lib/python3.10/site-packages (from shap) (3.0.0)\n",
      "Requirement already satisfied: llvmlite<0.42,>=0.41.0dev0 in /Users/Carmen/.pyenv/versions/3.10.6/envs/game-of-thrones-survival/lib/python3.10/site-packages (from numba->shap) (0.41.1)\n",
      "Requirement already satisfied: python-dateutil>=2.8.2 in /Users/Carmen/.pyenv/versions/3.10.6/envs/game-of-thrones-survival/lib/python3.10/site-packages (from pandas->shap) (2.8.2)\n",
      "Requirement already satisfied: pytz>=2020.1 in /Users/Carmen/.pyenv/versions/3.10.6/envs/game-of-thrones-survival/lib/python3.10/site-packages (from pandas->shap) (2023.3.post1)\n",
      "Requirement already satisfied: tzdata>=2022.1 in /Users/Carmen/.pyenv/versions/3.10.6/envs/game-of-thrones-survival/lib/python3.10/site-packages (from pandas->shap) (2023.3)\n",
      "Requirement already satisfied: joblib>=1.1.1 in /Users/Carmen/.pyenv/versions/3.10.6/envs/game-of-thrones-survival/lib/python3.10/site-packages (from scikit-learn->shap) (1.3.2)\n",
      "Requirement already satisfied: threadpoolctl>=2.0.0 in /Users/Carmen/.pyenv/versions/3.10.6/envs/game-of-thrones-survival/lib/python3.10/site-packages (from scikit-learn->shap) (3.2.0)\n",
      "Requirement already satisfied: six>=1.5 in /Users/Carmen/.pyenv/versions/3.10.6/envs/game-of-thrones-survival/lib/python3.10/site-packages (from python-dateutil>=2.8.2->pandas->shap) (1.16.0)\n"
     ]
    }
   ],
   "source": [
    "#!pip install shap\n"
   ]
  },
  {
   "cell_type": "markdown",
   "metadata": {},
   "source": [
    "# Imports"
   ]
  },
  {
   "cell_type": "code",
   "execution_count": 2,
   "metadata": {},
   "outputs": [],
   "source": [
    "import pandas as pd\n"
   ]
  },
  {
   "cell_type": "markdown",
   "metadata": {},
   "source": [
    "# Loading Data"
   ]
  },
  {
   "cell_type": "code",
   "execution_count": 3,
   "metadata": {},
   "outputs": [
    {
     "data": {
      "text/html": [
       "<div>\n",
       "<style scoped>\n",
       "    .dataframe tbody tr th:only-of-type {\n",
       "        vertical-align: middle;\n",
       "    }\n",
       "\n",
       "    .dataframe tbody tr th {\n",
       "        vertical-align: top;\n",
       "    }\n",
       "\n",
       "    .dataframe thead th {\n",
       "        text-align: right;\n",
       "    }\n",
       "</style>\n",
       "<table border=\"1\" class=\"dataframe\">\n",
       "  <thead>\n",
       "    <tr style=\"text-align: right;\">\n",
       "      <th></th>\n",
       "      <th>name</th>\n",
       "      <th>male</th>\n",
       "      <th>origin</th>\n",
       "      <th>isMarried</th>\n",
       "      <th>isNoble</th>\n",
       "      <th>popularity</th>\n",
       "      <th>isAlive</th>\n",
       "      <th>season</th>\n",
       "      <th>episode</th>\n",
       "      <th>deaths</th>\n",
       "      <th>episode_num</th>\n",
       "    </tr>\n",
       "  </thead>\n",
       "  <tbody>\n",
       "    <tr>\n",
       "      <th>0</th>\n",
       "      <td>Viserys II Targaryen</td>\n",
       "      <td>1</td>\n",
       "      <td>House Targaryen</td>\n",
       "      <td>0</td>\n",
       "      <td>0</td>\n",
       "      <td>0.605351</td>\n",
       "      <td>0</td>\n",
       "      <td>8</td>\n",
       "      <td>The Bells</td>\n",
       "      <td>Lord Varys - Burned alive by Drogon with his f...</td>\n",
       "      <td>71</td>\n",
       "    </tr>\n",
       "    <tr>\n",
       "      <th>1</th>\n",
       "      <td>Walder Frey</td>\n",
       "      <td>1</td>\n",
       "      <td>House Frey</td>\n",
       "      <td>1</td>\n",
       "      <td>1</td>\n",
       "      <td>0.896321</td>\n",
       "      <td>0</td>\n",
       "      <td>6</td>\n",
       "      <td>The Winds of Winter</td>\n",
       "      <td>Lord Walder Frey - Throat slit by Arya Stark w...</td>\n",
       "      <td>60</td>\n",
       "    </tr>\n",
       "    <tr>\n",
       "      <th>2</th>\n",
       "      <td>Addison Hill</td>\n",
       "      <td>1</td>\n",
       "      <td>House Lannister</td>\n",
       "      <td>0</td>\n",
       "      <td>1</td>\n",
       "      <td>0.267559</td>\n",
       "      <td>1</td>\n",
       "      <td>0</td>\n",
       "      <td>NaN</td>\n",
       "      <td>NaN</td>\n",
       "      <td>0</td>\n",
       "    </tr>\n",
       "    <tr>\n",
       "      <th>3</th>\n",
       "      <td>Aemma Arryn</td>\n",
       "      <td>0</td>\n",
       "      <td>House Arryn</td>\n",
       "      <td>1</td>\n",
       "      <td>1</td>\n",
       "      <td>0.183946</td>\n",
       "      <td>0</td>\n",
       "      <td>5</td>\n",
       "      <td>The Gift</td>\n",
       "      <td>Maester Aemon Targaryen - Died of natural causes.</td>\n",
       "      <td>47</td>\n",
       "    </tr>\n",
       "    <tr>\n",
       "      <th>4</th>\n",
       "      <td>Sylva Santagar</td>\n",
       "      <td>0</td>\n",
       "      <td>House Martell</td>\n",
       "      <td>1</td>\n",
       "      <td>1</td>\n",
       "      <td>0.043478</td>\n",
       "      <td>1</td>\n",
       "      <td>0</td>\n",
       "      <td>NaN</td>\n",
       "      <td>NaN</td>\n",
       "      <td>0</td>\n",
       "    </tr>\n",
       "  </tbody>\n",
       "</table>\n",
       "</div>"
      ],
      "text/plain": [
       "                   name  male           origin  isMarried  isNoble  \\\n",
       "0  Viserys II Targaryen     1  House Targaryen          0        0   \n",
       "1           Walder Frey     1       House Frey          1        1   \n",
       "2          Addison Hill     1  House Lannister          0        1   \n",
       "3           Aemma Arryn     0      House Arryn          1        1   \n",
       "4        Sylva Santagar     0    House Martell          1        1   \n",
       "\n",
       "   popularity  isAlive  season              episode  \\\n",
       "0    0.605351        0       8            The Bells   \n",
       "1    0.896321        0       6  The Winds of Winter   \n",
       "2    0.267559        1       0                  NaN   \n",
       "3    0.183946        0       5             The Gift   \n",
       "4    0.043478        1       0                  NaN   \n",
       "\n",
       "                                              deaths  episode_num  \n",
       "0  Lord Varys - Burned alive by Drogon with his f...           71  \n",
       "1  Lord Walder Frey - Throat slit by Arya Stark w...           60  \n",
       "2                                                NaN            0  \n",
       "3  Maester Aemon Targaryen - Died of natural causes.           47  \n",
       "4                                                NaN            0  "
      ]
     },
     "execution_count": 3,
     "metadata": {},
     "output_type": "execute_result"
    }
   ],
   "source": [
    "df = pd.read_csv('../processed_data/cleaned_data_final.csv')\n",
    "df.head(5)\n"
   ]
  },
  {
   "cell_type": "code",
   "execution_count": 8,
   "metadata": {},
   "outputs": [
    {
     "name": "stdout",
     "output_type": "stream",
     "text": [
      "Features: Index(['male', 'origin', 'isMarried', 'isNoble', 'popularity'], dtype='object'),\n",
      " \n",
      "y.head(5):\n",
      "   isAlive\n",
      "0        0\n",
      "1        0\n",
      "2        1\n",
      "3        0\n",
      "4        1\n"
     ]
    }
   ],
   "source": [
    "X = df\n",
    "X = X.drop(columns = [\"name\",'isAlive','episode','deaths','season',\n",
    "       'episode_num'], axis=1)\n",
    "\n",
    "y = df[[\"isAlive\"]]\n",
    "\n",
    "print(f'Features: {X.columns},\\n \\ny.head(5):\\n{y.head()}')\n"
   ]
  },
  {
   "cell_type": "code",
   "execution_count": null,
   "metadata": {},
   "outputs": [],
   "source": []
  }
 ],
 "metadata": {
  "kernelspec": {
   "display_name": "game-of-thrones-survival",
   "language": "python",
   "name": "python3"
  },
  "language_info": {
   "codemirror_mode": {
    "name": "ipython",
    "version": 3
   },
   "file_extension": ".py",
   "mimetype": "text/x-python",
   "name": "python",
   "nbconvert_exporter": "python",
   "pygments_lexer": "ipython3",
   "version": "3.10.6"
  }
 },
 "nbformat": 4,
 "nbformat_minor": 2
}
