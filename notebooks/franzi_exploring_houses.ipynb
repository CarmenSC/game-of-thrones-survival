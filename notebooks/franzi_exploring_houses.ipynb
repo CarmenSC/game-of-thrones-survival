{
 "cells": [
  {
   "cell_type": "code",
   "execution_count": 178,
   "id": "6e13edd8",
   "metadata": {
    "ExecuteTime": {
     "end_time": "2023-11-28T12:31:27.838331Z",
     "start_time": "2023-11-28T12:31:27.779643Z"
    }
   },
   "outputs": [],
   "source": [
    "import pandas as pd\n",
    "import requests\n",
    "from ipywidgets import IntProgress\n",
    "from IPython.display import display\n",
    "import time"
   ]
  },
  {
   "cell_type": "code",
   "execution_count": 83,
   "id": "a6d3f822",
   "metadata": {
    "ExecuteTime": {
     "end_time": "2023-11-28T11:21:43.347382Z",
     "start_time": "2023-11-28T11:21:43.173270Z"
    }
   },
   "outputs": [],
   "source": [
    "houses = pd.read_csv('../raw_data/scrapped_houses.csv')\n",
    "characters = pd.read_csv('../raw_data/scrapped_characters.csv')\n",
    "character_predictions = pd.read_csv('../raw_data/character-predictions.csv')\n",
    "dead = pd.read_excel('../raw_data/only_dead.xlsx', header=1)"
   ]
  },
  {
   "cell_type": "code",
   "execution_count": 84,
   "id": "c0671f58",
   "metadata": {
    "ExecuteTime": {
     "end_time": "2023-11-28T11:21:43.504221Z",
     "start_time": "2023-11-28T11:21:43.499632Z"
    }
   },
   "outputs": [
    {
     "data": {
      "text/plain": [
       "Index(['Name', 'Region', 'Coat of Arms', 'Words', 'Titles', 'Seats',\n",
       "       'Current Lord', 'Heir', 'Overlord', 'Founded', 'Founder', 'Died Out',\n",
       "       'Ancestral Weapons', 'Cadet Branches', 'Sworn Members', 'URL'],\n",
       "      dtype='object')"
      ]
     },
     "execution_count": 84,
     "metadata": {},
     "output_type": "execute_result"
    }
   ],
   "source": [
    "houses.columns # Name, Region"
   ]
  },
  {
   "cell_type": "code",
   "execution_count": 85,
   "id": "028374c0",
   "metadata": {
    "ExecuteTime": {
     "end_time": "2023-11-28T11:21:43.916950Z",
     "start_time": "2023-11-28T11:21:43.907280Z"
    }
   },
   "outputs": [],
   "source": [
    "houses = houses[['Name', 'Region']]"
   ]
  },
  {
   "cell_type": "code",
   "execution_count": 86,
   "id": "9b45fe22",
   "metadata": {
    "ExecuteTime": {
     "end_time": "2023-11-28T11:21:45.162601Z",
     "start_time": "2023-11-28T11:21:45.155772Z"
    }
   },
   "outputs": [
    {
     "data": {
      "text/plain": [
       "Index(['Name', 'Culture', 'Born', 'Died', 'Titles', 'Aliases', 'Father',\n",
       "       'Mother', 'Spouse', 'Allegiances', 'Books', 'POV Books', 'TV Series',\n",
       "       'Played By', 'URL'],\n",
       "      dtype='object')"
      ]
     },
     "execution_count": 86,
     "metadata": {},
     "output_type": "execute_result"
    }
   ],
   "source": [
    "characters.columns # Culture, Allegiances"
   ]
  },
  {
   "cell_type": "code",
   "execution_count": 87,
   "id": "618a28dc",
   "metadata": {
    "ExecuteTime": {
     "end_time": "2023-11-28T11:21:45.423093Z",
     "start_time": "2023-11-28T11:21:45.416727Z"
    }
   },
   "outputs": [],
   "source": [
    "characters = characters[['Culture', 'Allegiances']]"
   ]
  },
  {
   "cell_type": "code",
   "execution_count": 88,
   "id": "8372e567",
   "metadata": {
    "ExecuteTime": {
     "end_time": "2023-11-28T11:21:46.402403Z",
     "start_time": "2023-11-28T11:21:46.396594Z"
    }
   },
   "outputs": [
    {
     "data": {
      "text/plain": [
       "Index(['S.No', 'actual', 'pred', 'alive', 'plod', 'name', 'title', 'male',\n",
       "       'culture', 'dateOfBirth', 'DateoFdeath', 'mother', 'father', 'heir',\n",
       "       'house', 'spouse', 'book1', 'book2', 'book3', 'book4', 'book5',\n",
       "       'isAliveMother', 'isAliveFather', 'isAliveHeir', 'isAliveSpouse',\n",
       "       'isMarried', 'isNoble', 'age', 'numDeadRelations', 'boolDeadRelations',\n",
       "       'isPopular', 'popularity', 'isAlive'],\n",
       "      dtype='object')"
      ]
     },
     "execution_count": 88,
     "metadata": {},
     "output_type": "execute_result"
    }
   ],
   "source": [
    "character_predictions.columns # culture, house"
   ]
  },
  {
   "cell_type": "code",
   "execution_count": 89,
   "id": "69934aa2",
   "metadata": {
    "ExecuteTime": {
     "end_time": "2023-11-28T11:21:46.859273Z",
     "start_time": "2023-11-28T11:21:46.852216Z"
    }
   },
   "outputs": [],
   "source": [
    "character_predictions = character_predictions[['culture', 'house']]"
   ]
  },
  {
   "cell_type": "code",
   "execution_count": 90,
   "id": "d8dccda7",
   "metadata": {
    "ExecuteTime": {
     "end_time": "2023-11-28T11:21:48.961875Z",
     "start_time": "2023-11-28T11:21:48.954087Z"
    }
   },
   "outputs": [
    {
     "data": {
      "text/plain": [
       "Index(['Allegiance', 'Death No.', 'Episode', 'Killer', 'Killers House',\n",
       "       'Location', 'Method', 'Name', 'Season'],\n",
       "      dtype='object')"
      ]
     },
     "execution_count": 90,
     "metadata": {},
     "output_type": "execute_result"
    }
   ],
   "source": [
    "dead.columns # Allegiance"
   ]
  },
  {
   "cell_type": "code",
   "execution_count": 91,
   "id": "3735d993",
   "metadata": {
    "ExecuteTime": {
     "end_time": "2023-11-28T11:21:49.248598Z",
     "start_time": "2023-11-28T11:21:49.241816Z"
    }
   },
   "outputs": [],
   "source": [
    "dead = dead[['Allegiance']]"
   ]
  },
  {
   "cell_type": "code",
   "execution_count": 92,
   "id": "7f4dc20e",
   "metadata": {
    "ExecuteTime": {
     "end_time": "2023-11-28T11:21:50.994680Z",
     "start_time": "2023-11-28T11:21:50.979895Z"
    },
    "scrolled": true
   },
   "outputs": [
    {
     "data": {
      "text/plain": [
       "Region         \n",
       "The Reach          72\n",
       "The North          61\n",
       "The Westerlands    55\n",
       "The Riverlands     52\n",
       "The Crownlands     49\n",
       "Iron Islands       38\n",
       "The Stormlands     38\n",
       "The Vale           35\n",
       "Dorne              29\n",
       "The Neck            7\n",
       "Beyond the Wall     1\n",
       "None                1\n",
       "dtype: int64"
      ]
     },
     "execution_count": 92,
     "metadata": {},
     "output_type": "execute_result"
    }
   ],
   "source": [
    "houses[['Region']].value_counts()"
   ]
  },
  {
   "cell_type": "code",
   "execution_count": 93,
   "id": "c298a3f9",
   "metadata": {
    "ExecuteTime": {
     "end_time": "2023-11-28T11:21:51.597289Z",
     "start_time": "2023-11-28T11:21:51.592395Z"
    }
   },
   "outputs": [],
   "source": [
    "#houses[houses['Region'] == 'The Vale']['Name'].value_counts()"
   ]
  },
  {
   "cell_type": "code",
   "execution_count": 95,
   "id": "3397c49e",
   "metadata": {
    "ExecuteTime": {
     "end_time": "2023-11-28T11:22:04.402826Z",
     "start_time": "2023-11-28T11:22:04.394078Z"
    },
    "collapsed": true
   },
   "outputs": [
    {
     "data": {
      "text/plain": [
       "Northmen                   137\n",
       "Ironborn                   127\n",
       "Free Folk                   70\n",
       "Valyrian                    57\n",
       "Braavosi                    46\n",
       "Dornish                     42\n",
       "Ghiscari                    35\n",
       "Dothraki                    23\n",
       "Rivermen                    22\n",
       "Valemen                     20\n",
       "Reach                       16\n",
       "Westeros                    14\n",
       "Westerman                   14\n",
       "Stormlands                  10\n",
       "Mountain clans               9\n",
       "Tyroshi                      9\n",
       "Lysene                       8\n",
       "First Men                    8\n",
       "Northern mountain clans      8\n",
       "Andal                        8\n",
       "Qartheen                     7\n",
       "Summer Isles                 7\n",
       "Myrish                       5\n",
       "Free folk                    5\n",
       "Astapori                     5\n",
       "Pentoshi                     4\n",
       "Meereenese                   4\n",
       "Crannogmen                   4\n",
       "Asshai                       3\n",
       "Sistermen                    3\n",
       "Norvoshi                     3\n",
       "Lhazareen                    3\n",
       "Rhoynar                      2\n",
       "Ibbenese                     2\n",
       "Qohor                        2\n",
       "Thenn                        1\n",
       "Westerlands                  1\n",
       "Naathi                       1\n",
       "Name: Culture, dtype: int64"
      ]
     },
     "execution_count": 95,
     "metadata": {},
     "output_type": "execute_result"
    }
   ],
   "source": [
    "characters['Culture'].value_counts()"
   ]
  },
  {
   "cell_type": "code",
   "execution_count": 128,
   "id": "e249ae4a",
   "metadata": {
    "ExecuteTime": {
     "end_time": "2023-11-28T11:35:47.877648Z",
     "start_time": "2023-11-28T11:35:47.866967Z"
    }
   },
   "outputs": [],
   "source": [
    "mylist = []\n",
    "for i in characters['Allegiances']:\n",
    "    j = i.strip('[]')\n",
    "    if j:\n",
    "        k = j.replace(\"https://www.anapioficeandfire.com/api/houses/\", '').\\\n",
    "              replace(' ', '').replace(\"'\", '')\n",
    "        if ',' in k:\n",
    "            for l in k.split(','):\n",
    "                mylist.append(int(l))\n",
    "        else:\n",
    "            mylist.append(int(k))"
   ]
  },
  {
   "cell_type": "code",
   "execution_count": 217,
   "id": "ad5ffcb3",
   "metadata": {
    "ExecuteTime": {
     "end_time": "2023-11-28T12:58:26.867437Z",
     "start_time": "2023-11-28T12:58:26.855415Z"
    }
   },
   "outputs": [],
   "source": [
    "lords = pd.DataFrame(set(sorted(mylist)), columns=['house'])\n",
    "lords['overlord'] = 0\n",
    "lords['ol_name'] = ''"
   ]
  },
  {
   "cell_type": "code",
   "execution_count": 218,
   "id": "066253b8",
   "metadata": {
    "ExecuteTime": {
     "end_time": "2023-11-28T12:58:27.308325Z",
     "start_time": "2023-11-28T12:58:27.293862Z"
    }
   },
   "outputs": [
    {
     "data": {
      "text/html": [
       "<div>\n",
       "<style scoped>\n",
       "    .dataframe tbody tr th:only-of-type {\n",
       "        vertical-align: middle;\n",
       "    }\n",
       "\n",
       "    .dataframe tbody tr th {\n",
       "        vertical-align: top;\n",
       "    }\n",
       "\n",
       "    .dataframe thead th {\n",
       "        text-align: right;\n",
       "    }\n",
       "</style>\n",
       "<table border=\"1\" class=\"dataframe\">\n",
       "  <thead>\n",
       "    <tr style=\"text-align: right;\">\n",
       "      <th></th>\n",
       "      <th>house</th>\n",
       "      <th>overlord</th>\n",
       "      <th>ol_name</th>\n",
       "    </tr>\n",
       "  </thead>\n",
       "  <tbody>\n",
       "    <tr>\n",
       "      <th>0</th>\n",
       "      <td>2</td>\n",
       "      <td>0</td>\n",
       "      <td></td>\n",
       "    </tr>\n",
       "    <tr>\n",
       "      <th>1</th>\n",
       "      <td>4</td>\n",
       "      <td>0</td>\n",
       "      <td></td>\n",
       "    </tr>\n",
       "    <tr>\n",
       "      <th>2</th>\n",
       "      <td>7</td>\n",
       "      <td>0</td>\n",
       "      <td></td>\n",
       "    </tr>\n",
       "    <tr>\n",
       "      <th>3</th>\n",
       "      <td>8</td>\n",
       "      <td>0</td>\n",
       "      <td></td>\n",
       "    </tr>\n",
       "    <tr>\n",
       "      <th>4</th>\n",
       "      <td>10</td>\n",
       "      <td>0</td>\n",
       "      <td></td>\n",
       "    </tr>\n",
       "    <tr>\n",
       "      <th>...</th>\n",
       "      <td>...</td>\n",
       "      <td>...</td>\n",
       "      <td>...</td>\n",
       "    </tr>\n",
       "    <tr>\n",
       "      <th>292</th>\n",
       "      <td>439</td>\n",
       "      <td>0</td>\n",
       "      <td></td>\n",
       "    </tr>\n",
       "    <tr>\n",
       "      <th>293</th>\n",
       "      <td>440</td>\n",
       "      <td>0</td>\n",
       "      <td></td>\n",
       "    </tr>\n",
       "    <tr>\n",
       "      <th>294</th>\n",
       "      <td>441</td>\n",
       "      <td>0</td>\n",
       "      <td></td>\n",
       "    </tr>\n",
       "    <tr>\n",
       "      <th>295</th>\n",
       "      <td>443</td>\n",
       "      <td>0</td>\n",
       "      <td></td>\n",
       "    </tr>\n",
       "    <tr>\n",
       "      <th>296</th>\n",
       "      <td>444</td>\n",
       "      <td>0</td>\n",
       "      <td></td>\n",
       "    </tr>\n",
       "  </tbody>\n",
       "</table>\n",
       "<p>297 rows × 3 columns</p>\n",
       "</div>"
      ],
      "text/plain": [
       "     house  overlord ol_name\n",
       "0        2         0        \n",
       "1        4         0        \n",
       "2        7         0        \n",
       "3        8         0        \n",
       "4       10         0        \n",
       "..     ...       ...     ...\n",
       "292    439         0        \n",
       "293    440         0        \n",
       "294    441         0        \n",
       "295    443         0        \n",
       "296    444         0        \n",
       "\n",
       "[297 rows x 3 columns]"
      ]
     },
     "execution_count": 218,
     "metadata": {},
     "output_type": "execute_result"
    }
   ],
   "source": [
    "lords"
   ]
  },
  {
   "cell_type": "code",
   "execution_count": 219,
   "id": "20ab4412",
   "metadata": {
    "ExecuteTime": {
     "end_time": "2023-11-28T12:58:28.930755Z",
     "start_time": "2023-11-28T12:58:28.927181Z"
    }
   },
   "outputs": [],
   "source": [
    "url = \"https://www.anapioficeandfire.com/api/houses/\""
   ]
  },
  {
   "cell_type": "code",
   "execution_count": 220,
   "id": "bd58a8e9",
   "metadata": {
    "ExecuteTime": {
     "end_time": "2023-11-28T13:01:00.553724Z",
     "start_time": "2023-11-28T12:58:29.737943Z"
    }
   },
   "outputs": [
    {
     "data": {
      "application/vnd.jupyter.widget-view+json": {
       "model_id": "47b48516b34b41bfa9df1912f2802832",
       "version_major": 2,
       "version_minor": 0
      },
      "text/plain": [
       "IntProgress(value=0, max=297)"
      ]
     },
     "metadata": {},
     "output_type": "display_data"
    }
   ],
   "source": [
    "f = IntProgress(min=0, max=len(lords)) # instantiate the bar\n",
    "display(f) # display the bar\n",
    "\n",
    "for row in range(len(lords)):\n",
    "    f.value += 1\n",
    "    i = lords.loc[row, 'house']\n",
    "    h = requests.get(f\"{url}{i}\").json()\n",
    "    ol = h['overlord'].strip(\"https://www.anapioficeandfire.com/api/houses/\")\n",
    "    if i == 16:\n",
    "        lords.loc[row, 'overlord'] = 16\n",
    "        lords.loc[row, 'ol_name'] = h['name']\n",
    "    elif ol == '16':\n",
    "        lords.loc[row, 'overlord'] = lords.loc[row, 'house']\n",
    "        lords.loc[row, 'ol_name'] = h['name']\n",
    "    else:\n",
    "        lords.loc[row, 'overlord'] = ol\n",
    "        if ol != '':\n",
    "            over = requests.get(f\"{url}{int(ol)}\").json()\n",
    "            lords.loc[row, 'ol_name'] = over['name']\n",
    "        #print(row)"
   ]
  },
  {
   "cell_type": "code",
   "execution_count": 221,
   "id": "01021a85",
   "metadata": {
    "ExecuteTime": {
     "end_time": "2023-11-28T13:01:00.573904Z",
     "start_time": "2023-11-28T13:01:00.559416Z"
    }
   },
   "outputs": [
    {
     "data": {
      "text/html": [
       "<div>\n",
       "<style scoped>\n",
       "    .dataframe tbody tr th:only-of-type {\n",
       "        vertical-align: middle;\n",
       "    }\n",
       "\n",
       "    .dataframe tbody tr th {\n",
       "        vertical-align: top;\n",
       "    }\n",
       "\n",
       "    .dataframe thead th {\n",
       "        text-align: right;\n",
       "    }\n",
       "</style>\n",
       "<table border=\"1\" class=\"dataframe\">\n",
       "  <thead>\n",
       "    <tr style=\"text-align: right;\">\n",
       "      <th></th>\n",
       "      <th>house</th>\n",
       "      <th>overlord</th>\n",
       "      <th>ol_name</th>\n",
       "    </tr>\n",
       "  </thead>\n",
       "  <tbody>\n",
       "    <tr>\n",
       "      <th>73</th>\n",
       "      <td>104</td>\n",
       "      <td>444</td>\n",
       "      <td>House Yronwood of Yronwood</td>\n",
       "    </tr>\n",
       "  </tbody>\n",
       "</table>\n",
       "</div>"
      ],
      "text/plain": [
       "    house overlord                     ol_name\n",
       "73    104      444  House Yronwood of Yronwood"
      ]
     },
     "execution_count": 221,
     "metadata": {},
     "output_type": "execute_result"
    }
   ],
   "source": [
    "lords[(lords['ol_name'] == 'House Yronwood of Yronwood')]"
   ]
  },
  {
   "cell_type": "code",
   "execution_count": 190,
   "id": "734163f5",
   "metadata": {
    "ExecuteTime": {
     "end_time": "2023-11-28T12:47:57.829682Z",
     "start_time": "2023-11-28T12:47:57.257134Z"
    }
   },
   "outputs": [],
   "source": [
    "test = requests.get(f\"{url}{444}\").json()"
   ]
  },
  {
   "cell_type": "code",
   "execution_count": 194,
   "id": "b45bf351",
   "metadata": {
    "ExecuteTime": {
     "end_time": "2023-11-28T12:48:53.470591Z",
     "start_time": "2023-11-28T12:48:53.464660Z"
    }
   },
   "outputs": [
    {
     "data": {
      "text/plain": [
       "'285'"
      ]
     },
     "execution_count": 194,
     "metadata": {},
     "output_type": "execute_result"
    }
   ],
   "source": [
    "ol = test['overlord'].strip(\"https://www.anapioficeandfire.com/api/houses/\")\n",
    "ol"
   ]
  },
  {
   "cell_type": "code",
   "execution_count": 195,
   "id": "b6260e4b",
   "metadata": {
    "ExecuteTime": {
     "end_time": "2023-11-28T12:48:57.115045Z",
     "start_time": "2023-11-28T12:48:56.502436Z"
    }
   },
   "outputs": [],
   "source": [
    "over = requests.get(f\"{url}{int(ol)}\").json()"
   ]
  },
  {
   "cell_type": "code",
   "execution_count": 196,
   "id": "8a906eff",
   "metadata": {
    "ExecuteTime": {
     "end_time": "2023-11-28T12:49:04.700589Z",
     "start_time": "2023-11-28T12:49:04.694327Z"
    }
   },
   "outputs": [
    {
     "data": {
      "text/plain": [
       "'House Nymeros Martell of Sunspear'"
      ]
     },
     "execution_count": 196,
     "metadata": {},
     "output_type": "execute_result"
    }
   ],
   "source": [
    "over['name']"
   ]
  },
  {
   "cell_type": "code",
   "execution_count": 222,
   "id": "1ed9e647",
   "metadata": {
    "ExecuteTime": {
     "end_time": "2023-11-28T13:02:40.466578Z",
     "start_time": "2023-11-28T13:01:00.576685Z"
    }
   },
   "outputs": [
    {
     "data": {
      "application/vnd.jupyter.widget-view+json": {
       "model_id": "de0dc18968f94b4b9392f5d3eff127dd",
       "version_major": 2,
       "version_minor": 0
      },
      "text/plain": [
       "IntProgress(value=0, max=297)"
      ]
     },
     "metadata": {},
     "output_type": "display_data"
    }
   ],
   "source": [
    "f = IntProgress(min=0, max=len(lords)) # instantiate the bar\n",
    "display(f) # display the bar\n",
    "\n",
    "for row in range(len(lords)):\n",
    "    f.value += 1\n",
    "    i = lords.loc[row, 'overlord']\n",
    "    if i == '':\n",
    "        continue\n",
    "    h = requests.get(f\"{url}{i}\").json()\n",
    "    ol = h['overlord'].strip(\"https://www.anapioficeandfire.com/api/houses/\")\n",
    "    if i == 16:\n",
    "        lords.loc[row, 'overlord'] = 16\n",
    "        lords.loc[row, 'ol_name'] = h['name']\n",
    "    elif ol == '16':\n",
    "        lords.loc[row, 'overlord'] = lords.loc[row, 'overlord']\n",
    "        lords.loc[row, 'ol_name'] = h['name']\n",
    "    else:\n",
    "        lords.loc[row, 'overlord'] = ol\n",
    "        if ol != '':\n",
    "            over = requests.get(f\"{url}{int(ol)}\").json()\n",
    "            lords.loc[row, 'ol_name'] = over['name']\n",
    "        #print(row)"
   ]
  },
  {
   "cell_type": "code",
   "execution_count": 223,
   "id": "adad04d3",
   "metadata": {
    "ExecuteTime": {
     "end_time": "2023-11-28T13:02:42.429872Z",
     "start_time": "2023-11-28T13:02:42.423744Z"
    }
   },
   "outputs": [
    {
     "data": {
      "text/plain": [
       "296"
      ]
     },
     "execution_count": 223,
     "metadata": {},
     "output_type": "execute_result"
    }
   ],
   "source": [
    "row"
   ]
  },
  {
   "cell_type": "code",
   "execution_count": 225,
   "id": "a0849641",
   "metadata": {
    "ExecuteTime": {
     "end_time": "2023-11-28T13:03:01.580420Z",
     "start_time": "2023-11-28T13:03:01.568754Z"
    }
   },
   "outputs": [
    {
     "data": {
      "text/plain": [
       "398    44\n",
       "229    37\n",
       "169    27\n",
       "10     27\n",
       "17     25\n",
       "7      22\n",
       "362    21\n",
       "285    17\n",
       "34     16\n",
       "       12\n",
       "15     11\n",
       "253     1\n",
       "169     1\n",
       "175     1\n",
       "189     1\n",
       "189     1\n",
       "378     1\n",
       "220     1\n",
       "229     1\n",
       "243     1\n",
       "17      1\n",
       "148     1\n",
       "285     1\n",
       "325     1\n",
       "334     1\n",
       "354     1\n",
       "362     1\n",
       "364     1\n",
       "386     1\n",
       "260     1\n",
       "136     1\n",
       "117     1\n",
       "85      1\n",
       "16      1\n",
       "15      1\n",
       "29      1\n",
       "31      1\n",
       "10      1\n",
       "34      1\n",
       "48      1\n",
       "49      1\n",
       "51      1\n",
       "56      1\n",
       "57      1\n",
       "65      1\n",
       "7       1\n",
       "69      1\n",
       "71      1\n",
       "398     1\n",
       "Name: overlord, dtype: int64"
      ]
     },
     "execution_count": 225,
     "metadata": {},
     "output_type": "execute_result"
    }
   ],
   "source": [
    "lords['overlord'].value_counts()"
   ]
  },
  {
   "cell_type": "code",
   "execution_count": null,
   "id": "2ae3b0ff",
   "metadata": {},
   "outputs": [],
   "source": []
  },
  {
   "cell_type": "code",
   "execution_count": null,
   "id": "21f5061d",
   "metadata": {},
   "outputs": [],
   "source": []
  },
  {
   "cell_type": "code",
   "execution_count": null,
   "id": "97e8beae",
   "metadata": {},
   "outputs": [],
   "source": []
  },
  {
   "cell_type": "code",
   "execution_count": null,
   "id": "62dcab98",
   "metadata": {},
   "outputs": [],
   "source": []
  },
  {
   "cell_type": "code",
   "execution_count": null,
   "id": "ef20551f",
   "metadata": {},
   "outputs": [],
   "source": []
  },
  {
   "cell_type": "code",
   "execution_count": null,
   "id": "bc3e6558",
   "metadata": {},
   "outputs": [],
   "source": []
  },
  {
   "cell_type": "code",
   "execution_count": 96,
   "id": "327c3bff",
   "metadata": {
    "ExecuteTime": {
     "end_time": "2023-11-28T11:22:08.996573Z",
     "start_time": "2023-11-28T11:22:08.986802Z"
    }
   },
   "outputs": [
    {
     "data": {
      "text/plain": [
       "Northmen     124\n",
       "Ironborn     112\n",
       "Free Folk     51\n",
       "Valyrian      43\n",
       "Braavosi      42\n",
       "            ... \n",
       "Andal          1\n",
       "Norvoshi       1\n",
       "Qarth          1\n",
       "Lhazarene      1\n",
       "The Reach      1\n",
       "Name: culture, Length: 64, dtype: int64"
      ]
     },
     "execution_count": 96,
     "metadata": {},
     "output_type": "execute_result"
    }
   ],
   "source": [
    "character_predictions['culture'].value_counts()"
   ]
  },
  {
   "cell_type": "code",
   "execution_count": 97,
   "id": "09e4d8da",
   "metadata": {
    "ExecuteTime": {
     "end_time": "2023-11-28T11:22:11.910692Z",
     "start_time": "2023-11-28T11:22:11.897134Z"
    },
    "collapsed": true
   },
   "outputs": [
    {
     "data": {
      "text/plain": [
       "Allegiance                       \n",
       "House Lannister                      835\n",
       "None                                 432\n",
       "House Stark                          121\n",
       "Free Folk                            121\n",
       "Night's Watch                         79\n",
       "House Targaryen                       68\n",
       "House Bolton                          68\n",
       "Sons of the Harpy                     68\n",
       "House Baratheon of Dragonstone        67\n",
       "House Frey                            62\n",
       "Faith Militant                        52\n",
       "Smallfolk                             44\n",
       "House Greyjoy                         41\n",
       "Dothraki                              23\n",
       "House Baratheon of King's Landing     22\n",
       "The Masters                           14\n",
       "The Thirteen                          12\n",
       "Wise Masters                          12\n",
       "Brotherhood Without Banners           10\n",
       "House Martell                          8\n",
       "House Mormont                          8\n",
       "Good Masters                           7\n",
       "House Baelish                          6\n",
       "Great Masters                          6\n",
       "Children of the Forest                 6\n",
       "House Tyrell                           4\n",
       "White Walkers                          3\n",
       "Sand Snakes                            3\n",
       "House Arryn                            3\n",
       "House Baratheon of Storm's End         3\n",
       "House Clegane                          3\n",
       "House Umber                            2\n",
       "Second Sons                            2\n",
       "Faith of the Seven                     2\n",
       "Lord of Light                          1\n",
       "Order of Maesters                      1\n",
       "House Tully                            1\n",
       "Faceless Men                           1\n",
       "Warlocks of Qarth                      1\n",
       "House Moore                            1\n",
       "House Hollard                          1\n",
       "dtype: int64"
      ]
     },
     "execution_count": 97,
     "metadata": {},
     "output_type": "execute_result"
    }
   ],
   "source": [
    "dead.value_counts()"
   ]
  },
  {
   "cell_type": "code",
   "execution_count": null,
   "id": "1096727a",
   "metadata": {},
   "outputs": [],
   "source": []
  }
 ],
 "metadata": {
  "kernelspec": {
   "display_name": "Python 3 (ipykernel)",
   "language": "python",
   "name": "python3"
  },
  "language_info": {
   "codemirror_mode": {
    "name": "ipython",
    "version": 3
   },
   "file_extension": ".py",
   "mimetype": "text/x-python",
   "name": "python",
   "nbconvert_exporter": "python",
   "pygments_lexer": "ipython3",
   "version": "3.10.6"
  },
  "toc": {
   "base_numbering": 1,
   "nav_menu": {},
   "number_sections": true,
   "sideBar": true,
   "skip_h1_title": false,
   "title_cell": "Table of Contents",
   "title_sidebar": "Contents",
   "toc_cell": false,
   "toc_position": {},
   "toc_section_display": true,
   "toc_window_display": false
  }
 },
 "nbformat": 4,
 "nbformat_minor": 5
}
