{
 "cells": [
  {
   "cell_type": "code",
   "execution_count": 178,
   "id": "ae745093",
   "metadata": {
    "ExecuteTime": {
     "end_time": "2023-11-28T12:31:27.838331Z",
     "start_time": "2023-11-28T12:31:27.779643Z"
    }
   },
   "outputs": [],
   "source": [
    "import pandas as pd\n",
    "import requests\n",
    "from ipywidgets import IntProgress\n",
    "from IPython.display import display\n",
    "import time"
   ]
  },
  {
   "cell_type": "code",
   "execution_count": 83,
   "id": "9ee7474d",
   "metadata": {
    "ExecuteTime": {
     "end_time": "2023-11-28T11:21:43.347382Z",
     "start_time": "2023-11-28T11:21:43.173270Z"
    }
   },
   "outputs": [],
   "source": [
    "houses = pd.read_csv('../raw_data/scrapped_houses.csv')\n",
    "characters = pd.read_csv('../raw_data/scrapped_characters.csv')\n",
    "character_predictions = pd.read_csv('../raw_data/character-predictions.csv')\n",
    "dead = pd.read_excel('../raw_data/only_dead.xlsx', header=1)"
   ]
  },
  {
   "cell_type": "code",
   "execution_count": 84,
   "id": "60eaa71c",
   "metadata": {
    "ExecuteTime": {
     "end_time": "2023-11-28T11:21:43.504221Z",
     "start_time": "2023-11-28T11:21:43.499632Z"
    }
   },
   "outputs": [
    {
     "data": {
      "text/plain": [
       "Index(['Name', 'Region', 'Coat of Arms', 'Words', 'Titles', 'Seats',\n",
       "       'Current Lord', 'Heir', 'Overlord', 'Founded', 'Founder', 'Died Out',\n",
       "       'Ancestral Weapons', 'Cadet Branches', 'Sworn Members', 'URL'],\n",
       "      dtype='object')"
      ]
     },
     "execution_count": 84,
     "metadata": {},
     "output_type": "execute_result"
    }
   ],
   "source": [
    "houses.columns # Name, Region"
   ]
  },
  {
   "cell_type": "code",
   "execution_count": 85,
   "id": "2f96faea",
   "metadata": {
    "ExecuteTime": {
     "end_time": "2023-11-28T11:21:43.916950Z",
     "start_time": "2023-11-28T11:21:43.907280Z"
    }
   },
   "outputs": [],
   "source": [
    "houses = houses[['Name', 'Region']]"
   ]
  },
  {
   "cell_type": "code",
   "execution_count": 86,
   "id": "d81ada2a",
   "metadata": {
    "ExecuteTime": {
     "end_time": "2023-11-28T11:21:45.162601Z",
     "start_time": "2023-11-28T11:21:45.155772Z"
    }
   },
   "outputs": [
    {
     "data": {
      "text/plain": [
       "Index(['Name', 'Culture', 'Born', 'Died', 'Titles', 'Aliases', 'Father',\n",
       "       'Mother', 'Spouse', 'Allegiances', 'Books', 'POV Books', 'TV Series',\n",
       "       'Played By', 'URL'],\n",
       "      dtype='object')"
      ]
     },
     "execution_count": 86,
     "metadata": {},
     "output_type": "execute_result"
    }
   ],
   "source": [
    "characters.columns # Culture, Allegiances"
   ]
  },
  {
   "cell_type": "code",
   "execution_count": 87,
   "id": "1b9fc22d",
   "metadata": {
    "ExecuteTime": {
     "end_time": "2023-11-28T11:21:45.423093Z",
     "start_time": "2023-11-28T11:21:45.416727Z"
    }
   },
   "outputs": [],
   "source": [
    "characters = characters[['Culture', 'Allegiances']]"
   ]
  },
  {
   "cell_type": "code",
   "execution_count": 88,
   "id": "e30d8e19",
   "metadata": {
    "ExecuteTime": {
     "end_time": "2023-11-28T11:21:46.402403Z",
     "start_time": "2023-11-28T11:21:46.396594Z"
    }
   },
   "outputs": [
    {
     "data": {
      "text/plain": [
       "Index(['S.No', 'actual', 'pred', 'alive', 'plod', 'name', 'title', 'male',\n",
       "       'culture', 'dateOfBirth', 'DateoFdeath', 'mother', 'father', 'heir',\n",
       "       'house', 'spouse', 'book1', 'book2', 'book3', 'book4', 'book5',\n",
       "       'isAliveMother', 'isAliveFather', 'isAliveHeir', 'isAliveSpouse',\n",
       "       'isMarried', 'isNoble', 'age', 'numDeadRelations', 'boolDeadRelations',\n",
       "       'isPopular', 'popularity', 'isAlive'],\n",
       "      dtype='object')"
      ]
     },
     "execution_count": 88,
     "metadata": {},
     "output_type": "execute_result"
    }
   ],
   "source": [
    "character_predictions.columns # culture, house"
   ]
  },
  {
   "cell_type": "code",
   "execution_count": 89,
   "id": "7ca808ec",
   "metadata": {
    "ExecuteTime": {
     "end_time": "2023-11-28T11:21:46.859273Z",
     "start_time": "2023-11-28T11:21:46.852216Z"
    }
   },
   "outputs": [],
   "source": [
    "character_predictions = character_predictions[['culture', 'house']]"
   ]
  },
  {
   "cell_type": "code",
   "execution_count": 90,
   "id": "c08c7fe6",
   "metadata": {
    "ExecuteTime": {
     "end_time": "2023-11-28T11:21:48.961875Z",
     "start_time": "2023-11-28T11:21:48.954087Z"
    }
   },
   "outputs": [
    {
     "data": {
      "text/plain": [
       "Index(['Allegiance', 'Death No.', 'Episode', 'Killer', 'Killers House',\n",
       "       'Location', 'Method', 'Name', 'Season'],\n",
       "      dtype='object')"
      ]
     },
     "execution_count": 90,
     "metadata": {},
     "output_type": "execute_result"
    }
   ],
   "source": [
    "dead.columns # Allegiance"
   ]
  },
  {
   "cell_type": "code",
   "execution_count": 91,
   "id": "80f09f18",
   "metadata": {
    "ExecuteTime": {
     "end_time": "2023-11-28T11:21:49.248598Z",
     "start_time": "2023-11-28T11:21:49.241816Z"
    }
   },
   "outputs": [],
   "source": [
    "dead = dead[['Allegiance']]"
   ]
  },
  {
   "cell_type": "code",
   "execution_count": 92,
   "id": "11026d81",
   "metadata": {
    "ExecuteTime": {
     "end_time": "2023-11-28T11:21:50.994680Z",
     "start_time": "2023-11-28T11:21:50.979895Z"
    },
    "scrolled": true
   },
   "outputs": [
    {
     "data": {
      "text/plain": [
       "Region         \n",
       "The Reach          72\n",
       "The North          61\n",
       "The Westerlands    55\n",
       "The Riverlands     52\n",
       "The Crownlands     49\n",
       "Iron Islands       38\n",
       "The Stormlands     38\n",
       "The Vale           35\n",
       "Dorne              29\n",
       "The Neck            7\n",
       "Beyond the Wall     1\n",
       "None                1\n",
       "dtype: int64"
      ]
     },
     "execution_count": 92,
     "metadata": {},
     "output_type": "execute_result"
    }
   ],
   "source": [
    "houses[['Region']].value_counts()"
   ]
  },
  {
   "cell_type": "code",
   "execution_count": 93,
   "id": "28b0a331",
   "metadata": {
    "ExecuteTime": {
     "end_time": "2023-11-28T11:21:51.597289Z",
     "start_time": "2023-11-28T11:21:51.592395Z"
    }
   },
   "outputs": [],
   "source": [
    "#houses[houses['Region'] == 'The Vale']['Name'].value_counts()"
   ]
  },
  {
   "cell_type": "code",
   "execution_count": 95,
   "id": "15fcaf96",
   "metadata": {
    "ExecuteTime": {
     "end_time": "2023-11-28T11:22:04.402826Z",
     "start_time": "2023-11-28T11:22:04.394078Z"
    },
    "collapsed": true
   },
   "outputs": [
    {
     "data": {
      "text/plain": [
       "Northmen                   137\n",
       "Ironborn                   127\n",
       "Free Folk                   70\n",
       "Valyrian                    57\n",
       "Braavosi                    46\n",
       "Dornish                     42\n",
       "Ghiscari                    35\n",
       "Dothraki                    23\n",
       "Rivermen                    22\n",
       "Valemen                     20\n",
       "Reach                       16\n",
       "Westeros                    14\n",
       "Westerman                   14\n",
       "Stormlands                  10\n",
       "Mountain clans               9\n",
       "Tyroshi                      9\n",
       "Lysene                       8\n",
       "First Men                    8\n",
       "Northern mountain clans      8\n",
       "Andal                        8\n",
       "Qartheen                     7\n",
       "Summer Isles                 7\n",
       "Myrish                       5\n",
       "Free folk                    5\n",
       "Astapori                     5\n",
       "Pentoshi                     4\n",
       "Meereenese                   4\n",
       "Crannogmen                   4\n",
       "Asshai                       3\n",
       "Sistermen                    3\n",
       "Norvoshi                     3\n",
       "Lhazareen                    3\n",
       "Rhoynar                      2\n",
       "Ibbenese                     2\n",
       "Qohor                        2\n",
       "Thenn                        1\n",
       "Westerlands                  1\n",
       "Naathi                       1\n",
       "Name: Culture, dtype: int64"
      ]
     },
     "execution_count": 95,
     "metadata": {},
     "output_type": "execute_result"
    }
   ],
   "source": [
    "characters['Culture'].value_counts()"
   ]
  },
  {
   "cell_type": "code",
   "execution_count": 128,
   "id": "05936c64",
   "metadata": {
    "ExecuteTime": {
     "end_time": "2023-11-28T11:35:47.877648Z",
     "start_time": "2023-11-28T11:35:47.866967Z"
    }
   },
   "outputs": [],
   "source": [
    "mylist = []\n",
    "for i in characters['Allegiances']:\n",
    "    j = i.strip('[]')\n",
    "    if j:\n",
    "        k = j.replace(\"https://www.anapioficeandfire.com/api/houses/\", '').\\\n",
    "              replace(' ', '').replace(\"'\", '')\n",
    "        if ',' in k:\n",
    "            for l in k.split(','):\n",
    "                mylist.append(int(l))\n",
    "        else:\n",
    "            mylist.append(int(k))"
   ]
  },
  {
   "cell_type": "code",
   "execution_count": 217,
   "id": "19e57d4f",
   "metadata": {
    "ExecuteTime": {
     "end_time": "2023-11-28T12:58:26.867437Z",
     "start_time": "2023-11-28T12:58:26.855415Z"
    }
   },
   "outputs": [],
   "source": [
    "lords = pd.DataFrame(set(sorted(mylist)), columns=['house'])\n",
    "lords['overlord'] = 0\n",
    "lords['ol_name'] = ''"
   ]
  },
  {
   "cell_type": "code",
   "execution_count": 218,
   "id": "914ff760",
   "metadata": {
    "ExecuteTime": {
     "end_time": "2023-11-28T12:58:27.308325Z",
     "start_time": "2023-11-28T12:58:27.293862Z"
    }
   },
   "outputs": [
    {
     "data": {
      "text/html": [
       "<div>\n",
       "<style scoped>\n",
       "    .dataframe tbody tr th:only-of-type {\n",
       "        vertical-align: middle;\n",
       "    }\n",
       "\n",
       "    .dataframe tbody tr th {\n",
       "        vertical-align: top;\n",
       "    }\n",
       "\n",
       "    .dataframe thead th {\n",
       "        text-align: right;\n",
       "    }\n",
       "</style>\n",
       "<table border=\"1\" class=\"dataframe\">\n",
       "  <thead>\n",
       "    <tr style=\"text-align: right;\">\n",
       "      <th></th>\n",
       "      <th>house</th>\n",
       "      <th>overlord</th>\n",
       "      <th>ol_name</th>\n",
       "    </tr>\n",
       "  </thead>\n",
       "  <tbody>\n",
       "    <tr>\n",
       "      <th>0</th>\n",
       "      <td>2</td>\n",
       "      <td>0</td>\n",
       "      <td></td>\n",
       "    </tr>\n",
       "    <tr>\n",
       "      <th>1</th>\n",
       "      <td>4</td>\n",
       "      <td>0</td>\n",
       "      <td></td>\n",
       "    </tr>\n",
       "    <tr>\n",
       "      <th>2</th>\n",
       "      <td>7</td>\n",
       "      <td>0</td>\n",
       "      <td></td>\n",
       "    </tr>\n",
       "    <tr>\n",
       "      <th>3</th>\n",
       "      <td>8</td>\n",
       "      <td>0</td>\n",
       "      <td></td>\n",
       "    </tr>\n",
       "    <tr>\n",
       "      <th>4</th>\n",
       "      <td>10</td>\n",
       "      <td>0</td>\n",
       "      <td></td>\n",
       "    </tr>\n",
       "    <tr>\n",
       "      <th>...</th>\n",
       "      <td>...</td>\n",
       "      <td>...</td>\n",
       "      <td>...</td>\n",
       "    </tr>\n",
       "    <tr>\n",
       "      <th>292</th>\n",
       "      <td>439</td>\n",
       "      <td>0</td>\n",
       "      <td></td>\n",
       "    </tr>\n",
       "    <tr>\n",
       "      <th>293</th>\n",
       "      <td>440</td>\n",
       "      <td>0</td>\n",
       "      <td></td>\n",
       "    </tr>\n",
       "    <tr>\n",
       "      <th>294</th>\n",
       "      <td>441</td>\n",
       "      <td>0</td>\n",
       "      <td></td>\n",
       "    </tr>\n",
       "    <tr>\n",
       "      <th>295</th>\n",
       "      <td>443</td>\n",
       "      <td>0</td>\n",
       "      <td></td>\n",
       "    </tr>\n",
       "    <tr>\n",
       "      <th>296</th>\n",
       "      <td>444</td>\n",
       "      <td>0</td>\n",
       "      <td></td>\n",
       "    </tr>\n",
       "  </tbody>\n",
       "</table>\n",
       "<p>297 rows × 3 columns</p>\n",
       "</div>"
      ],
      "text/plain": [
       "     house  overlord ol_name\n",
       "0        2         0        \n",
       "1        4         0        \n",
       "2        7         0        \n",
       "3        8         0        \n",
       "4       10         0        \n",
       "..     ...       ...     ...\n",
       "292    439         0        \n",
       "293    440         0        \n",
       "294    441         0        \n",
       "295    443         0        \n",
       "296    444         0        \n",
       "\n",
       "[297 rows x 3 columns]"
      ]
     },
     "execution_count": 218,
     "metadata": {},
     "output_type": "execute_result"
    }
   ],
   "source": [
    "lords"
   ]
  },
  {
   "cell_type": "code",
   "execution_count": 219,
   "id": "fc276459",
   "metadata": {
    "ExecuteTime": {
     "end_time": "2023-11-28T12:58:28.930755Z",
     "start_time": "2023-11-28T12:58:28.927181Z"
    }
   },
   "outputs": [],
   "source": [
    "url = \"https://www.anapioficeandfire.com/api/houses/\""
   ]
  },
  {
   "cell_type": "code",
   "execution_count": 220,
   "id": "8d5c2059",
   "metadata": {
    "ExecuteTime": {
     "end_time": "2023-11-28T13:01:00.553724Z",
     "start_time": "2023-11-28T12:58:29.737943Z"
    }
   },
   "outputs": [
    {
     "data": {
      "application/vnd.jupyter.widget-view+json": {
       "model_id": "47b48516b34b41bfa9df1912f2802832",
       "version_major": 2,
       "version_minor": 0
      },
      "text/plain": [
       "IntProgress(value=0, max=297)"
      ]
     },
     "metadata": {},
     "output_type": "display_data"
    }
   ],
   "source": [
    "f = IntProgress(min=0, max=len(lords)) # instantiate the bar\n",
    "display(f) # display the bar\n",
    "\n",
    "for row in range(len(lords)):\n",
    "    f.value += 1\n",
    "    i = lords.loc[row, 'house']\n",
    "    h = requests.get(f\"{url}{i}\").json()\n",
    "    ol = h['overlord'].strip(\"https://www.anapioficeandfire.com/api/houses/\")\n",
    "    if i == 16:\n",
    "        lords.loc[row, 'overlord'] = 16\n",
    "        lords.loc[row, 'ol_name'] = h['name']\n",
    "    elif ol == '16':\n",
    "        lords.loc[row, 'overlord'] = lords.loc[row, 'house']\n",
    "        lords.loc[row, 'ol_name'] = h['name']\n",
    "    else:\n",
    "        lords.loc[row, 'overlord'] = ol\n",
    "        if ol != '':\n",
    "            over = requests.get(f\"{url}{int(ol)}\").json()\n",
    "            lords.loc[row, 'ol_name'] = over['name']\n",
    "        #print(row)"
   ]
  },
  {
   "cell_type": "code",
   "execution_count": 221,
   "id": "4ddad8a3",
   "metadata": {
    "ExecuteTime": {
     "end_time": "2023-11-28T13:01:00.573904Z",
     "start_time": "2023-11-28T13:01:00.559416Z"
    }
   },
   "outputs": [
    {
     "data": {
      "text/html": [
       "<div>\n",
       "<style scoped>\n",
       "    .dataframe tbody tr th:only-of-type {\n",
       "        vertical-align: middle;\n",
       "    }\n",
       "\n",
       "    .dataframe tbody tr th {\n",
       "        vertical-align: top;\n",
       "    }\n",
       "\n",
       "    .dataframe thead th {\n",
       "        text-align: right;\n",
       "    }\n",
       "</style>\n",
       "<table border=\"1\" class=\"dataframe\">\n",
       "  <thead>\n",
       "    <tr style=\"text-align: right;\">\n",
       "      <th></th>\n",
       "      <th>house</th>\n",
       "      <th>overlord</th>\n",
       "      <th>ol_name</th>\n",
       "    </tr>\n",
       "  </thead>\n",
       "  <tbody>\n",
       "    <tr>\n",
       "      <th>73</th>\n",
       "      <td>104</td>\n",
       "      <td>444</td>\n",
       "      <td>House Yronwood of Yronwood</td>\n",
       "    </tr>\n",
       "  </tbody>\n",
       "</table>\n",
       "</div>"
      ],
      "text/plain": [
       "    house overlord                     ol_name\n",
       "73    104      444  House Yronwood of Yronwood"
      ]
     },
     "execution_count": 221,
     "metadata": {},
     "output_type": "execute_result"
    }
   ],
   "source": [
    "lords[(lords['ol_name'] == 'House Yronwood of Yronwood')]"
   ]
  },
  {
   "cell_type": "code",
   "execution_count": 190,
   "id": "800c13a6",
   "metadata": {
    "ExecuteTime": {
     "end_time": "2023-11-28T12:47:57.829682Z",
     "start_time": "2023-11-28T12:47:57.257134Z"
    }
   },
   "outputs": [],
   "source": [
    "test = requests.get(f\"{url}{444}\").json()"
   ]
  },
  {
   "cell_type": "code",
   "execution_count": 194,
   "id": "cb954379",
   "metadata": {
    "ExecuteTime": {
     "end_time": "2023-11-28T12:48:53.470591Z",
     "start_time": "2023-11-28T12:48:53.464660Z"
    }
   },
   "outputs": [
    {
     "data": {
      "text/plain": [
       "'285'"
      ]
     },
     "execution_count": 194,
     "metadata": {},
     "output_type": "execute_result"
    }
   ],
   "source": [
    "ol = test['overlord'].strip(\"https://www.anapioficeandfire.com/api/houses/\")\n",
    "ol"
   ]
  },
  {
   "cell_type": "code",
   "execution_count": 195,
   "id": "7e907898",
   "metadata": {
    "ExecuteTime": {
     "end_time": "2023-11-28T12:48:57.115045Z",
     "start_time": "2023-11-28T12:48:56.502436Z"
    }
   },
   "outputs": [],
   "source": [
    "over = requests.get(f\"{url}{int(ol)}\").json()"
   ]
  },
  {
   "cell_type": "code",
   "execution_count": 196,
   "id": "35943e6d",
   "metadata": {
    "ExecuteTime": {
     "end_time": "2023-11-28T12:49:04.700589Z",
     "start_time": "2023-11-28T12:49:04.694327Z"
    }
   },
   "outputs": [
    {
     "data": {
      "text/plain": [
       "'House Nymeros Martell of Sunspear'"
      ]
     },
     "execution_count": 196,
     "metadata": {},
     "output_type": "execute_result"
    }
   ],
   "source": [
    "over['name']"
   ]
  },
  {
   "cell_type": "code",
   "execution_count": 222,
   "id": "85f3199a",
   "metadata": {
    "ExecuteTime": {
     "end_time": "2023-11-28T13:02:40.466578Z",
     "start_time": "2023-11-28T13:01:00.576685Z"
    }
   },
   "outputs": [
    {
     "data": {
      "application/vnd.jupyter.widget-view+json": {
       "model_id": "de0dc18968f94b4b9392f5d3eff127dd",
       "version_major": 2,
       "version_minor": 0
      },
      "text/plain": [
       "IntProgress(value=0, max=297)"
      ]
     },
     "metadata": {},
     "output_type": "display_data"
    }
   ],
   "source": [
    "f = IntProgress(min=0, max=len(lords)) # instantiate the bar\n",
    "display(f) # display the bar\n",
    "\n",
    "for row in range(len(lords)):\n",
    "    f.value += 1\n",
    "    i = lords.loc[row, 'overlord']\n",
    "    if i == '':\n",
    "        continue\n",
    "    h = requests.get(f\"{url}{i}\").json()\n",
    "    ol = h['overlord'].strip(\"https://www.anapioficeandfire.com/api/houses/\")\n",
    "    if i == 16:\n",
    "        lords.loc[row, 'overlord'] = 16\n",
    "        lords.loc[row, 'ol_name'] = h['name']\n",
    "    elif ol == '16':\n",
    "        lords.loc[row, 'overlord'] = lords.loc[row, 'overlord']\n",
    "        lords.loc[row, 'ol_name'] = h['name']\n",
    "    else:\n",
    "        lords.loc[row, 'overlord'] = ol\n",
    "        if ol != '':\n",
    "            over = requests.get(f\"{url}{int(ol)}\").json()\n",
    "            lords.loc[row, 'ol_name'] = over['name']\n",
    "        #print(row)"
   ]
  },
  {
   "cell_type": "code",
   "execution_count": 223,
   "id": "92079513",
   "metadata": {
    "ExecuteTime": {
     "end_time": "2023-11-28T13:02:42.429872Z",
     "start_time": "2023-11-28T13:02:42.423744Z"
    }
   },
   "outputs": [
    {
     "data": {
      "text/plain": [
       "296"
      ]
     },
     "execution_count": 223,
     "metadata": {},
     "output_type": "execute_result"
    }
   ],
   "source": [
    "row"
   ]
  },
  {
   "cell_type": "code",
   "execution_count": 233,
   "id": "e0b60c87",
   "metadata": {
    "ExecuteTime": {
     "end_time": "2023-11-28T13:56:11.082629Z",
     "start_time": "2023-11-28T13:56:11.068334Z"
    },
    "scrolled": true
   },
   "outputs": [
    {
     "name": "stdout",
     "output_type": "stream",
     "text": [
      "     house overlord                            ol_name\n",
      "0        2      285  House Nymeros Martell of Sunspear\n",
      "1        4      398         House Tyrell of Highgarden\n",
      "2        7        7           House Arryn of the Eyrie\n",
      "3        8      398         House Tyrell of Highgarden\n",
      "4       10       10         House Baelish of Harrenhal\n",
      "5       11        7           House Arryn of the Eyrie\n",
      "6       12      398         House Tyrell of Highgarden\n",
      "7       13      229   House Lannister of Casterly Rock\n",
      "8       14       15     House Baratheon of Dragonstone\n",
      "9       15       15     House Baratheon of Dragonstone\n",
      "10      16       16  House Baratheon of King's Landing\n",
      "11      17       17     House Baratheon of Storm's End\n",
      "12      18      398         House Tyrell of Highgarden\n",
      "13      19        7           House Arryn of the Eyrie\n",
      "14      20      229   House Lannister of Casterly Rock\n",
      "15      22      398         House Tyrell of Highgarden\n",
      "16      23           House Targaryen of King's Landing\n",
      "17      24      285  House Nymeros Martell of Sunspear\n",
      "18      26      169              House Greyjoy of Pyke\n",
      "19      27       10         House Baelish of Harrenhal\n",
      "20      28      362          House Stark of Winterfell\n",
      "21      29       29                       House Blount\n",
      "22      31       31     House Boggs of Crackclaw Point\n",
      "23      33       17     House Baratheon of Storm's End\n",
      "24      34       34      House Bolton of the Dreadfort\n",
      "25      35        7           House Arryn of the Eyrie\n",
      "26      36      169              House Greyjoy of Pyke\n",
      "27      37       10         House Baelish of Harrenhal\n",
      "28      40      229   House Lannister of Casterly Rock\n",
      "29      46      229   House Lannister of Casterly Rock\n",
      "30      48       48         House Brune of Brownhollow\n",
      "31      49       49        House Brune of the Dyre Den\n",
      "32      50       17     House Baratheon of Storm's End\n",
      "33      51       51      House Buckwell of the Antlers\n",
      "34      52      398         House Tyrell of Highgarden\n",
      "35      54      398         House Tyrell of Highgarden\n",
      "36      55       10         House Baelish of Harrenhal\n",
      "37      56       56                        House Byrch\n",
      "38      57       57                      House Bywater\n",
      "39      58       17     House Baratheon of Storm's End\n",
      "40      60       15     House Baratheon of Dragonstone\n",
      "41      61      362          House Stark of Winterfell\n",
      "42      62                                            \n",
      "43      63      398         House Tyrell of Highgarden\n",
      "44      65       65        House Celtigar of Claw Isle\n",
      "45      66       34      House Bolton of the Dreadfort\n",
      "46      68       10         House Baelish of Harrenhal\n",
      "47      69       69                     House Chelsted\n",
      "48      70      398         House Tyrell of Highgarden\n",
      "49      71       71                   House Chyttering\n",
      "50      72      229   House Lannister of Casterly Rock\n",
      "51      73      229   House Lannister of Casterly Rock\n",
      "52      74      398         House Tyrell of Highgarden\n",
      "53      75      169              House Greyjoy of Pyke\n",
      "54      76        7           House Arryn of the Eyrie\n",
      "55      77                                            \n",
      "56      78       34      House Bolton of the Dreadfort\n",
      "57      79      398         House Tyrell of Highgarden\n",
      "58      80       17     House Baratheon of Storm's End\n",
      "59      81        7           House Arryn of the Eyrie\n",
      "60      83      398         House Tyrell of Highgarden\n",
      "61      84      362          House Stark of Winterfell\n",
      "62      85       85                        House Crabb\n",
      "63      86      229   House Lannister of Casterly Rock\n",
      "64      87      398         House Tyrell of Highgarden\n",
      "65      91      398         House Tyrell of Highgarden\n",
      "66      92      285  House Nymeros Martell of Sunspear\n",
      "67      95           House Targaryen of King's Landing\n",
      "68      97       10         House Baelish of Harrenhal\n",
      "69      98      285  House Nymeros Martell of Sunspear\n",
      "70      99      285  House Nymeros Martell of Sunspear\n",
      "71     100       10         House Baelish of Harrenhal\n",
      "72     102       17     House Baratheon of Storm's End\n",
      "73     104      285  House Nymeros Martell of Sunspear\n",
      "74     106      169              House Greyjoy of Pyke\n",
      "75     109                                            \n",
      "76     111       34      House Bolton of the Dreadfort\n",
      "77     113        7           House Arryn of the Eyrie\n",
      "78     115       10         House Baelish of Harrenhal\n",
      "79     116       17     House Baratheon of Storm's End\n",
      "80     117      117      House Estermont of Greenstone\n",
      "81     118      229   House Lannister of Casterly Rock\n",
      "82     120      229   House Lannister of Casterly Rock\n",
      "83     121       15     House Baratheon of Dragonstone\n",
      "84     122      169              House Greyjoy of Pyke\n",
      "85     123      169              House Greyjoy of Pyke\n",
      "86     124       17     House Baratheon of Storm's End\n",
      "87     129      362          House Stark of Winterfell\n",
      "88     131       34      House Bolton of the Dreadfort\n",
      "89     132       34      House Bolton of the Dreadfort\n",
      "90     133       15     House Baratheon of Dragonstone\n",
      "91     135      229   House Lannister of Casterly Rock\n",
      "92     136      136           House Foote of Nightsong\n",
      "93     139      398         House Tyrell of Highgarden\n",
      "94     140      398         House Tyrell of Highgarden\n",
      "95     141      285  House Nymeros Martell of Sunspear\n",
      "96     142       10         House Baelish of Harrenhal\n",
      "97     143       10         House Baelish of Harrenhal\n",
      "98     145                                            \n",
      "99     146      285  House Nymeros Martell of Sunspear\n",
      "100    148      148                        House Gaunt\n",
      "101    150      362          House Stark of Winterfell\n",
      "102    151       10         House Baelish of Harrenhal\n",
      "103    155      169              House Greyjoy of Pyke\n",
      "104    157      169              House Greyjoy of Pyke\n",
      "105    158       17     House Baratheon of Storm's End\n",
      "106    159      398         House Tyrell of Highgarden\n",
      "107    160        7           House Arryn of the Eyrie\n",
      "108    161       17     House Baratheon of Storm's End\n",
      "109    163      229   House Lannister of Casterly Rock\n",
      "110    166      362          House Stark of Winterfell\n",
      "111    169      169              House Greyjoy of Pyke\n",
      "112    171      398         House Tyrell of Highgarden\n",
      "113    172       10         House Baelish of Harrenhal\n",
      "114    174       34      House Bolton of the Dreadfort\n",
      "115    175      175                        House Hardy\n",
      "116    176        7           House Arryn of the Eyrie\n",
      "117    177      169              House Greyjoy of Pyke\n",
      "118    178      169              House Greyjoy of Pyke\n",
      "119    179      169              House Greyjoy of Pyke\n",
      "120    180      169              House Greyjoy of Pyke\n",
      "121    181      169              House Greyjoy of Pyke\n",
      "122    185      398         House Tyrell of Highgarden\n",
      "123    186       17     House Baratheon of Storm's End\n",
      "124    187       10         House Baelish of Harrenhal\n",
      "125    189      189           House Hayford of Hayford\n",
      "126    190       10         House Baelish of Harrenhal\n",
      "127    193      229   House Lannister of Casterly Rock\n",
      "128    194      398         House Tyrell of Highgarden\n",
      "129    195      398         House Tyrell of Highgarden\n",
      "130    196                                            \n",
      "131    197      189           House Hayford of Hayford\n",
      "132    198      378  House Targaryen of King's Landing\n",
      "133    202      362          House Stark of Winterfell\n",
      "134    203       17     House Baratheon of Storm's End\n",
      "135    205      169              House Greyjoy of Pyke\n",
      "136    206      398         House Tyrell of Highgarden\n",
      "137    207        7           House Arryn of the Eyrie\n",
      "138    209      398         House Tyrell of Highgarden\n",
      "139    210      169              House Greyjoy of Pyke\n",
      "140    212      229   House Lannister of Casterly Rock\n",
      "141    213      285  House Nymeros Martell of Sunspear\n",
      "142    215       34      House Bolton of the Dreadfort\n",
      "143    218      169              House Greyjoy of Pyke\n",
      "144    219      229   House Lannister of Casterly Rock\n",
      "145    220      220                  House Kettleblack\n",
      "146    223      229   House Lannister of Casterly Rock\n",
      "147    229      229   House Lannister of Casterly Rock\n",
      "148    230       10         House Baelish of Harrenhal\n",
      "149    231      229   House Lannister of Casterly Rock\n",
      "150    234      229   House Lannister of Casterly Rock\n",
      "151    235      398         House Tyrell of Highgarden\n",
      "152    236      362          House Stark of Winterfell\n",
      "153    239       34      House Bolton of the Dreadfort\n",
      "154    242        7           House Arryn of the Eyrie\n",
      "155    243      243                   House Longwaters\n",
      "156    244       17     House Baratheon of Storm's End\n",
      "157    245      229   House Lannister of Casterly Rock\n",
      "158    246      362          House Stark of Winterfell\n",
      "159    249       10         House Baelish of Harrenhal\n",
      "160    250      229   House Lannister of Casterly Rock\n",
      "161    251        7           House Arryn of the Eyrie\n",
      "162    253      253                      House Mallery\n",
      "163    254       10         House Baelish of Harrenhal\n",
      "164    255       34      House Bolton of the Dreadfort\n",
      "165    257      285  House Nymeros Martell of Sunspear\n",
      "166    258      229   House Lannister of Casterly Rock\n",
      "167    260      260         House Massey of Stonedance\n",
      "168    261       17     House Baratheon of Storm's End\n",
      "169    263      169              House Greyjoy of Pyke\n",
      "170    264      398         House Tyrell of Highgarden\n",
      "171    265       17     House Baratheon of Storm's End\n",
      "172    267      362          House Stark of Winterfell\n",
      "173    268        7           House Arryn of the Eyrie\n",
      "174    269       10         House Baelish of Harrenhal\n",
      "175    270      229   House Lannister of Casterly Rock\n",
      "176    271      362          House Stark of Winterfell\n",
      "177    272       17     House Baratheon of Storm's End\n",
      "178    274                                            \n",
      "179    275      398         House Tyrell of Highgarden\n",
      "180    276       17     House Baratheon of Storm's End\n",
      "181    278      169              House Greyjoy of Pyke\n",
      "182    279       10         House Baelish of Harrenhal\n",
      "183    281      398         House Tyrell of Highgarden\n",
      "184    282      362          House Stark of Winterfell\n",
      "185    283      398         House Tyrell of Highgarden\n",
      "186    285      285  House Nymeros Martell of Sunspear\n",
      "187    286      398         House Tyrell of Highgarden\n",
      "188    291      398         House Tyrell of Highgarden\n",
      "189    293       10         House Baelish of Harrenhal\n",
      "190    295      229   House Lannister of Casterly Rock\n",
      "191    296      398         House Tyrell of Highgarden\n",
      "192    297       15     House Baratheon of Dragonstone\n",
      "193    299      229   House Lannister of Casterly Rock\n",
      "194    300       17     House Baratheon of Storm's End\n",
      "195    302       10         House Baelish of Harrenhal\n",
      "196    303      229   House Lannister of Casterly Rock\n",
      "197    305       34      House Bolton of the Dreadfort\n",
      "198    306      229   House Lannister of Casterly Rock\n",
      "199    310      362          House Stark of Winterfell\n",
      "200    311      285  House Nymeros Martell of Sunspear\n",
      "201    313       15     House Baratheon of Dragonstone\n",
      "202    314       15     House Baratheon of Dragonstone\n",
      "203    316        7           House Arryn of the Eyrie\n",
      "204    317      398         House Tyrell of Highgarden\n",
      "205    318      362          House Stark of Winterfell\n",
      "206    319      229   House Lannister of Casterly Rock\n",
      "207    320      398         House Tyrell of Highgarden\n",
      "208    321      398         House Tyrell of Highgarden\n",
      "209    324       10         House Baelish of Harrenhal\n",
      "210    325      325               House Rosby of Rosby\n",
      "211    326      398         House Tyrell of Highgarden\n",
      "212    328        7           House Arryn of the Eyrie\n",
      "213    329        7           House Arryn of the Eyrie\n",
      "214    331      229   House Lannister of Casterly Rock\n",
      "215    333       10         House Baelish of Harrenhal\n",
      "216    334      334         House Rykker of Duskendale\n",
      "217    335       34      House Bolton of the Dreadfort\n",
      "218    336      169              House Greyjoy of Pyke\n",
      "219    337      285  House Nymeros Martell of Sunspear\n",
      "220    338      229   House Lannister of Casterly Rock\n",
      "221    340       15     House Baratheon of Dragonstone\n",
      "222    341       17     House Baratheon of Storm's End\n",
      "223    343      398         House Tyrell of Highgarden\n",
      "224    344      169              House Greyjoy of Pyke\n",
      "225    348      169              House Greyjoy of Pyke\n",
      "226    350        7           House Arryn of the Eyrie\n",
      "227    352       34      House Bolton of the Dreadfort\n",
      "228    354      354           House Slynt of Harrenhal\n",
      "229    355       10         House Baelish of Harrenhal\n",
      "230    356      169              House Greyjoy of Pyke\n",
      "231    357      229   House Lannister of Casterly Rock\n",
      "232    359      229   House Lannister of Casterly Rock\n",
      "233    360       17     House Baratheon of Storm's End\n",
      "234    362      362          House Stark of Winterfell\n",
      "235    363       15     House Baratheon of Dragonstone\n",
      "236    364      364     House Stokeworth of Stokeworth\n",
      "237    365      169              House Greyjoy of Pyke\n",
      "238    366      169              House Greyjoy of Pyke\n",
      "239    367       34      House Bolton of the Dreadfort\n",
      "240    368                                            \n",
      "241    369      362          House Stark of Winterfell\n",
      "242    370        7           House Arryn of the Eyrie\n",
      "243    372       15     House Baratheon of Dragonstone\n",
      "244    373       17     House Baratheon of Storm's End\n",
      "245    374      229   House Lannister of Casterly Rock\n",
      "246    376       34      House Bolton of the Dreadfort\n",
      "247    377      229   House Lannister of Casterly Rock\n",
      "248    378                                            \n",
      "249    379      398         House Tyrell of Highgarden\n",
      "250    380       17     House Baratheon of Storm's End\n",
      "251    381      169              House Greyjoy of Pyke\n",
      "252    383        7           House Arryn of the Eyrie\n",
      "253    385                                            \n",
      "254    386      386                       House Thorne\n",
      "255    387      285  House Nymeros Martell of Sunspear\n",
      "256    388        7           House Arryn of the Eyrie\n",
      "257    389        7           House Arryn of the Eyrie\n",
      "258    392       17     House Baratheon of Storm's End\n",
      "259    393       17     House Baratheon of Storm's End\n",
      "260    395      362          House Stark of Winterfell\n",
      "261    396      229   House Lannister of Casterly Rock\n",
      "262    397      398         House Tyrell of Highgarden\n",
      "263    398      398         House Tyrell of Highgarden\n",
      "264    399      398         House Tyrell of Highgarden\n",
      "265    400      285  House Nymeros Martell of Sunspear\n",
      "266    401      362          House Stark of Winterfell\n",
      "267    403      285  House Nymeros Martell of Sunspear\n",
      "268    404       10         House Baelish of Harrenhal\n",
      "269    405       10         House Baelish of Harrenhal\n",
      "270    406      398         House Tyrell of Highgarden\n",
      "271    407       15     House Baratheon of Dragonstone\n",
      "272    408      229   House Lannister of Casterly Rock\n",
      "273    409      169              House Greyjoy of Pyke\n",
      "274    410       10         House Baelish of Harrenhal\n",
      "275    411      398         House Tyrell of Highgarden\n",
      "276    413       17     House Baratheon of Storm's End\n",
      "277    415        7           House Arryn of the Eyrie\n",
      "278    416      362          House Stark of Winterfell\n",
      "279    417        7           House Arryn of the Eyrie\n",
      "280    418                                            \n",
      "281    419      398         House Tyrell of Highgarden\n",
      "282    420      285  House Nymeros Martell of Sunspear\n",
      "283    421       34      House Bolton of the Dreadfort\n",
      "284    425      229   House Lannister of Casterly Rock\n",
      "285    427      362          House Stark of Winterfell\n",
      "286    429      398         House Tyrell of Highgarden\n",
      "287    430       10         House Baelish of Harrenhal\n",
      "288    432      362          House Stark of Winterfell\n",
      "289    434       34      House Bolton of the Dreadfort\n",
      "290    435      362          House Stark of Winterfell\n",
      "291    438       17     House Baratheon of Storm's End\n",
      "292    439      169              House Greyjoy of Pyke\n",
      "293    440      398         House Tyrell of Highgarden\n",
      "294    441      229   House Lannister of Casterly Rock\n",
      "295    443      229   House Lannister of Casterly Rock\n",
      "296    444      285  House Nymeros Martell of Sunspear\n"
     ]
    }
   ],
   "source": [
    "print(lords.to_string())"
   ]
  },
  {
   "cell_type": "code",
   "execution_count": 239,
   "id": "c27f68b5",
   "metadata": {
    "ExecuteTime": {
     "end_time": "2023-11-28T13:58:36.450289Z",
     "start_time": "2023-11-28T13:58:36.433317Z"
    },
    "scrolled": true
   },
   "outputs": [
    {
     "data": {
      "text/plain": [
       "ol_name                            overlord\n",
       "House Tyrell of Highgarden         398         44\n",
       "House Lannister of Casterly Rock   229         37\n",
       "House Baelish of Harrenhal         10          27\n",
       "House Greyjoy of Pyke              169         27\n",
       "House Baratheon of Storm's End     17          25\n",
       "House Arryn of the Eyrie           7           22\n",
       "House Stark of Winterfell          362         21\n",
       "House Nymeros Martell of Sunspear  285         17\n",
       "House Bolton of the Dreadfort      34          16\n",
       "House Baratheon of Dragonstone     15          11\n",
       "                                               10\n",
       "House Targaryen of King's Landing               2\n",
       "House Boggs of Crackclaw Point     31           1\n",
       "House Rykker of Duskendale         334          1\n",
       "House Baratheon of King's Landing  16           1\n",
       "House Longwaters                   243          1\n",
       "House Mallery                      253          1\n",
       "House Massey of Stonedance         260          1\n",
       "House Nymeros Martell of Sunspear  285          1\n",
       "House Baratheon of Dragonstone     15           1\n",
       "House Rosby of Rosby               325          1\n",
       "House Slynt of Harrenhal           354          1\n",
       "House Kettleblack                  220          1\n",
       "House Stark of Winterfell          362          1\n",
       "House Baelish of Harrenhal         10           1\n",
       "House Stokeworth of Stokeworth     364          1\n",
       "House Targaryen of King's Landing  378          1\n",
       "House Thorne                       386          1\n",
       "House Tyrell of Highgarden         398          1\n",
       "House Lannister of Casterly Rock   229          1\n",
       "House Hayford of Hayford           189          1\n",
       "House Bolton of the Dreadfort      34           1\n",
       "House Chelsted                     69           1\n",
       "House Blount                       29           1\n",
       "House Brune of Brownhollow         48           1\n",
       "House Brune of the Dyre Den        49           1\n",
       "House Buckwell of the Antlers      51           1\n",
       "House Byrch                        56           1\n",
       "House Bywater                      57           1\n",
       "House Celtigar of Claw Isle        65           1\n",
       "House Chyttering                   71           1\n",
       "House Hayford of Hayford           189          1\n",
       "House Crabb                        85           1\n",
       "House Estermont of Greenstone      117          1\n",
       "House Foote of Nightsong           136          1\n",
       "House Arryn of the Eyrie           7            1\n",
       "House Greyjoy of Pyke              169          1\n",
       "House Baratheon of Storm's End     17           1\n",
       "House Hardy                        175          1\n",
       "House Gaunt                        148          1\n",
       "dtype: int64"
      ]
     },
     "execution_count": 239,
     "metadata": {},
     "output_type": "execute_result"
    }
   ],
   "source": [
    "lords[['ol_name', 'overlord']].value_counts()"
   ]
  },
  {
   "cell_type": "code",
   "execution_count": 249,
   "id": "48ec4155",
   "metadata": {
    "ExecuteTime": {
     "end_time": "2023-11-28T14:12:12.482044Z",
     "start_time": "2023-11-28T14:12:12.472259Z"
    }
   },
   "outputs": [],
   "source": [
    "great_houses = lords[['ol_name']].drop_duplicates().reset_index(drop=True)"
   ]
  },
  {
   "cell_type": "code",
   "execution_count": 259,
   "id": "1e2b7741",
   "metadata": {
    "ExecuteTime": {
     "end_time": "2023-11-28T14:14:35.338523Z",
     "start_time": "2023-11-28T14:14:35.334623Z"
    }
   },
   "outputs": [],
   "source": [
    "i = -1"
   ]
  },
  {
   "cell_type": "code",
   "execution_count": 299,
   "id": "a68c3636",
   "metadata": {
    "ExecuteTime": {
     "end_time": "2023-11-28T14:48:43.991944Z",
     "start_time": "2023-11-28T14:48:43.986767Z"
    }
   },
   "outputs": [],
   "source": [
    "i += 1\n",
    "#great_houses.loc[i]"
   ]
  },
  {
   "cell_type": "code",
   "execution_count": null,
   "id": "01690cd4",
   "metadata": {},
   "outputs": [],
   "source": []
  },
  {
   "cell_type": "code",
   "execution_count": null,
   "id": "1aca9da8",
   "metadata": {},
   "outputs": [],
   "source": []
  },
  {
   "cell_type": "code",
   "execution_count": null,
   "id": "cc90c067",
   "metadata": {},
   "outputs": [],
   "source": []
  },
  {
   "cell_type": "code",
   "execution_count": null,
   "id": "3e5204ab",
   "metadata": {},
   "outputs": [],
   "source": []
  },
  {
   "cell_type": "code",
   "execution_count": null,
   "id": "5c1ebfcd",
   "metadata": {},
   "outputs": [],
   "source": []
  },
  {
   "cell_type": "code",
   "execution_count": 453,
   "id": "ce985c05",
   "metadata": {
    "ExecuteTime": {
     "end_time": "2023-11-28T17:25:57.483376Z",
     "start_time": "2023-11-28T17:25:57.461326Z"
    }
   },
   "outputs": [],
   "source": [
    "character_predictions = pd.read_csv('../raw_data/character-predictions.csv')\n",
    "character_predictions = character_predictions[['culture', 'house']]"
   ]
  },
  {
   "cell_type": "code",
   "execution_count": 454,
   "id": "7dac60bb",
   "metadata": {
    "ExecuteTime": {
     "end_time": "2023-11-28T17:25:58.131582Z",
     "start_time": "2023-11-28T17:25:58.119709Z"
    }
   },
   "outputs": [
    {
     "data": {
      "text/plain": [
       "Night's Watch      105\n",
       "House Frey          97\n",
       "House Stark         72\n",
       "House Targaryen     62\n",
       "House Lannister     49\n",
       "                  ... \n",
       "House Gower          1\n",
       "House Borrell        1\n",
       "Citadel              1\n",
       "Wise Masters         1\n",
       "Three-eyed crow      1\n",
       "Name: house, Length: 347, dtype: int64"
      ]
     },
     "execution_count": 454,
     "metadata": {},
     "output_type": "execute_result"
    }
   ],
   "source": [
    "character_predictions['house'].value_counts()"
   ]
  },
  {
   "cell_type": "code",
   "execution_count": 455,
   "id": "d32e1f14",
   "metadata": {
    "ExecuteTime": {
     "end_time": "2023-11-28T17:26:01.375177Z",
     "start_time": "2023-11-28T17:26:01.364598Z"
    }
   },
   "outputs": [
    {
     "data": {
      "text/plain": [
       "0            NaN\n",
       "1       Rivermen\n",
       "2            NaN\n",
       "3            NaN\n",
       "4        Dornish\n",
       "          ...   \n",
       "1941    Westeros\n",
       "1942         NaN\n",
       "1943         NaN\n",
       "1944         NaN\n",
       "1945         NaN\n",
       "Name: culture, Length: 1946, dtype: object"
      ]
     },
     "execution_count": 455,
     "metadata": {},
     "output_type": "execute_result"
    }
   ],
   "source": [
    "character_predictions['culture']"
   ]
  },
  {
   "cell_type": "code",
   "execution_count": 456,
   "id": "3e1e2b65",
   "metadata": {
    "ExecuteTime": {
     "end_time": "2023-11-28T17:26:07.873315Z",
     "start_time": "2023-11-28T17:26:07.860214Z"
    }
   },
   "outputs": [],
   "source": [
    "only_houses = character_predictions[['house']].drop_duplicates().dropna().reset_index(drop=True)"
   ]
  },
  {
   "cell_type": "code",
   "execution_count": 457,
   "id": "19f448bb",
   "metadata": {
    "ExecuteTime": {
     "end_time": "2023-11-28T17:26:08.153247Z",
     "start_time": "2023-11-28T17:26:08.144874Z"
    }
   },
   "outputs": [],
   "source": [
    "only_houses['house_num'] = 0\n",
    "only_houses['overlord'] = ''\n",
    "only_houses['overlord_num'] = 0"
   ]
  },
  {
   "cell_type": "code",
   "execution_count": 458,
   "id": "f9a2dae3",
   "metadata": {
    "ExecuteTime": {
     "end_time": "2023-11-28T17:26:08.550389Z",
     "start_time": "2023-11-28T17:26:08.543472Z"
    }
   },
   "outputs": [],
   "source": [
    "origins = []\n",
    "for house in only_houses['house']:\n",
    "    if 'House' not in house:\n",
    "        origins.append(house)"
   ]
  },
  {
   "cell_type": "code",
   "execution_count": 459,
   "id": "09a4497c",
   "metadata": {
    "ExecuteTime": {
     "end_time": "2023-11-28T17:26:08.967894Z",
     "start_time": "2023-11-28T17:26:08.961901Z"
    }
   },
   "outputs": [],
   "source": [
    "i = -1"
   ]
  },
  {
   "cell_type": "code",
   "execution_count": 460,
   "id": "a4308054",
   "metadata": {
    "ExecuteTime": {
     "end_time": "2023-11-28T17:26:09.647663Z",
     "start_time": "2023-11-28T17:26:09.642546Z"
    }
   },
   "outputs": [],
   "source": [
    "i += 1\n",
    "#origins[i]"
   ]
  },
  {
   "cell_type": "code",
   "execution_count": 461,
   "id": "65c38535",
   "metadata": {
    "ExecuteTime": {
     "end_time": "2023-11-28T17:26:10.765418Z",
     "start_time": "2023-11-28T17:26:10.757870Z"
    }
   },
   "outputs": [
    {
     "data": {
      "text/plain": [
       "0"
      ]
     },
     "execution_count": 461,
     "metadata": {},
     "output_type": "execute_result"
    }
   ],
   "source": [
    "i"
   ]
  },
  {
   "cell_type": "code",
   "execution_count": 462,
   "id": "a0dec05f",
   "metadata": {
    "ExecuteTime": {
     "end_time": "2023-11-28T17:26:12.411670Z",
     "start_time": "2023-11-28T17:26:12.408349Z"
    }
   },
   "outputs": [],
   "source": [
    "# for page in range(375, 379): #445\n",
    "#     house = requests.get(f\"{url}{page}\").json()\n",
    "#     print(f\"\\nhouse: {house['name']}\")\n",
    "#     for test in only_houses['house'].loc[0:6]:\n",
    "#         print(test)\n",
    "#         if test in house['name']:\n",
    "#             print(house['url'].strip(\"https://www.anapioficeandfire.com/api/houses/\"))"
   ]
  },
  {
   "cell_type": "code",
   "execution_count": 463,
   "id": "fa6cd2ab",
   "metadata": {
    "ExecuteTime": {
     "end_time": "2023-11-28T17:26:12.575219Z",
     "start_time": "2023-11-28T17:26:12.570332Z"
    }
   },
   "outputs": [],
   "source": [
    "# for hi in only_houses['house'].loc[0:6]:\n",
    "#     print(hi)"
   ]
  },
  {
   "cell_type": "code",
   "execution_count": 464,
   "id": "2e12d008",
   "metadata": {
    "ExecuteTime": {
     "end_time": "2023-11-28T17:26:13.053140Z",
     "start_time": "2023-11-28T17:26:13.044811Z"
    },
    "scrolled": true
   },
   "outputs": [
    {
     "data": {
      "text/plain": [
       "[\"Night's Watch\",\n",
       " 'Brotherhood Without Banners',\n",
       " 'Happy Port',\n",
       " 'Kingswood Brotherhood',\n",
       " 'Burned Men',\n",
       " 'wildling',\n",
       " 'Kingdom of the Three Daughters',\n",
       " 'Drowned men',\n",
       " 'Stormcrows',\n",
       " 'Antler Men',\n",
       " 'Peach',\n",
       " 'Stone Crows',\n",
       " 'Sea watch',\n",
       " 'Second Sons',\n",
       " 'Moon Brothers',\n",
       " 'Faceless Men',\n",
       " 'Brave Companions',\n",
       " 'Band of Nine',\n",
       " \"Alchemists' Guild\",\n",
       " 'Black Ears',\n",
       " 'Faith of the Seven',\n",
       " 'Pureborn',\n",
       " \"R'hllor\",\n",
       " 'Kingsguard',\n",
       " \"Chataya's brothel\",\n",
       " 'Brotherhood without banners',\n",
       " 'Windblown',\n",
       " 'Queensguard',\n",
       " \"City Watch of King's Landing\",\n",
       " 'Blacks',\n",
       " 'Citadel',\n",
       " 'Wise Masters',\n",
       " 'Good Masters',\n",
       " 'The Citadel',\n",
       " 'Iron Bank of Braavos',\n",
       " 'Maesters',\n",
       " 'Golden Company',\n",
       " 'Company of the Cat',\n",
       " 'Khal',\n",
       " 'Summer Islands',\n",
       " 'Undying Ones',\n",
       " 'Thenn',\n",
       " 'Graces',\n",
       " 'Unsullied',\n",
       " 'Brotherhood without Banners',\n",
       " 'Mance Rayder',\n",
       " 'Thirteen',\n",
       " 'brotherhood without banners',\n",
       " 'Three-eyed crow']"
      ]
     },
     "execution_count": 464,
     "metadata": {},
     "output_type": "execute_result"
    }
   ],
   "source": [
    "origins"
   ]
  },
  {
   "cell_type": "code",
   "execution_count": 465,
   "id": "58fd7738",
   "metadata": {
    "ExecuteTime": {
     "end_time": "2023-11-28T17:26:16.476518Z",
     "start_time": "2023-11-28T17:26:16.470163Z"
    },
    "scrolled": true
   },
   "outputs": [
    {
     "name": "stdout",
     "output_type": "stream",
     "text": [
      "House Frey\n",
      "House Swyft\n",
      "House Arryn\n",
      "House Santagar\n",
      "House Targaryen\n",
      "House Osgrey\n",
      "Night's Watch\n",
      "House Humble\n",
      "House Wylde\n",
      "House Wode\n",
      "House Fell\n",
      "Brotherhood Without Banners\n",
      "House Webber\n",
      "House Greyjoy\n",
      "House Stark\n",
      "House Waynwood\n",
      "House Dayne\n",
      "House Manderly\n",
      "House Farwynd of the Lonely Light\n",
      "Happy Port\n",
      "House of Loraq\n",
      "Kingswood Brotherhood\n",
      "House Botley\n",
      "Burned Men\n",
      "House Velaryon\n",
      "House Tallhart\n",
      "House Tyrell\n",
      "House Blackwood\n",
      "House Blackfyre\n",
      "wildling\n",
      "Kingdom of the Three Daughters\n",
      "House Royce of the Gates of the Moon\n",
      "House Nayland\n",
      "House Vance of Wayfarer's Rest\n",
      "House Rowan\n",
      "House Farrow\n",
      "House Lonmouth\n",
      "House Reyne\n",
      "House Ashford\n",
      "House Brax\n",
      "House Paege\n",
      "House Hollard\n",
      "House Tarth\n",
      "House Ryswell\n",
      "House Lannister\n",
      "House Crakehall\n",
      "House Darklyn\n",
      "House Westerling\n",
      "House Weaver\n",
      "House Connington\n",
      "House Stout\n",
      "House Harclay\n",
      "House Drumm\n",
      "House Lannister of Lannisport\n",
      "House Crabb\n",
      "Drowned men\n",
      "Stormcrows\n",
      "Antler Men\n",
      "House Spicer\n",
      "House Staunton\n",
      "House Stonetree\n",
      "House Leygood\n",
      "House Bolton\n",
      "House Sparr\n",
      "House Fossoway of Cider Hall\n",
      "House Varner\n",
      "House Tarly\n",
      "Peach\n",
      "House Lynderly\n",
      "House Ironmaker\n",
      "House Martell\n",
      "House Clegane\n",
      "House Costayne\n",
      "House Heddle\n",
      "Stone Crows\n",
      "House Ryger\n",
      "Sea watch\n",
      "Second Sons\n",
      "Moon Brothers\n",
      "House Baelish\n",
      "Faceless Men\n",
      "Brave Companions\n",
      "House Frey of Riverrun\n",
      "House Stokeworth\n",
      "House Hightower\n",
      "Band of Nine\n",
      "House Oakheart\n",
      "House Sharp\n",
      "House Hunt\n",
      "House Bracken\n",
      "House Whent\n",
      "House Dalt\n",
      "House Charlton\n",
      "House Butterwell\n",
      "House Qorgyle\n",
      "House Ambrose\n",
      "Alchemists' Guild\n",
      "House Bushy\n",
      "House Blacktyde\n",
      "House Beesbury\n",
      "House Baratheon\n",
      "House Bulwer\n",
      "House Cafferen\n",
      "House Smallwood\n",
      "House Payne\n",
      "House Buckler\n",
      "House Tully\n",
      "Black Ears\n",
      "House Caswell\n",
      "House Conklyn\n",
      "House Greenhill\n",
      "House Karstark\n",
      "House Redfort\n",
      "House Baratheon of Dragonstone\n",
      "House Deddings\n",
      "House Slynt\n",
      "House Plumm\n",
      "House Redwyne\n",
      "House Manwoody\n",
      "House Harlaw\n",
      "House Risley\n",
      "Faith of the Seven\n",
      "Pureborn\n",
      "House Codd\n",
      "House Willum\n",
      "House of Galare\n",
      "R'hllor\n",
      "House Morrigen\n",
      "House Corbray\n",
      "House Gaunt\n",
      "House Goodbrother\n",
      "Kingsguard\n",
      "House Grafton\n",
      "House Hornwood\n",
      "House Grandison\n",
      "House Sawyer\n",
      "House Uffering\n",
      "House Bolling\n",
      "House Clifton\n",
      "House Blackberry\n",
      "Chataya's brothel\n",
      "House Norcross\n",
      "House Mallister\n",
      "House Fossoway of New Barrel\n",
      "House Swann\n",
      "House Cupps\n",
      "House Penny\n",
      "House Penrose\n",
      "House Umber\n",
      "House Vance of Atranta\n",
      "Brotherhood without banners\n",
      "House Royce\n",
      "House Tawney\n",
      "Windblown\n",
      "House Piper\n",
      "House Serry\n",
      "House Lorch\n",
      "House Lefford\n",
      "House Strong\n",
      "House Roote\n",
      "House Hardy\n",
      "Queensguard\n",
      "House Meadows\n",
      "House Dondarrion\n",
      "House Lothston\n",
      "House Yew\n",
      "House Mullendore\n",
      "House Florent\n",
      "House Mertyns\n",
      "House Boggs\n",
      "House Woods\n",
      "House Inchfield\n",
      "House Blackmont\n",
      "House Pemford\n",
      "House Kenning of Harlaw\n",
      "House Shepherd\n",
      "House Estermont\n",
      "House Wynch\n",
      "House Staedmon\n",
      "House Seaworth\n",
      "City Watch of King's Landing\n",
      "House Cockshaw\n",
      "House Graceford\n",
      "House Stackspear\n",
      "House Haigh\n",
      "House Jast\n",
      "House Farring\n",
      "House Celtigar\n",
      "House of Ghazeen\n",
      "House Byrch\n",
      "House Hawick\n",
      "House Belmore\n",
      "House Broom\n",
      "House Brune of Brownhollow\n",
      "House Cassel\n",
      "House Rosby\n",
      "House Harlaw of Harridan Hill\n",
      "House Cuy\n",
      "House Caron\n",
      "House Cerwyn\n",
      "House Vaith\n",
      "House Vance\n",
      "House Shett of Gull Tower\n",
      "House Vypren\n",
      "House Marbrand\n",
      "House Hardyng\n",
      "House Allyrion\n",
      "House Locke\n",
      "House Bar Emmon\n",
      "House Mooton\n",
      "House Norridge\n",
      "House Hunter\n",
      "House Hayford\n",
      "House Glover\n",
      "House Brune of the Dyre Den\n",
      "House Prester\n",
      "House Fowler\n",
      "House Goodbrook\n",
      "House Greenfield\n",
      "House Gower\n",
      "Blacks\n",
      "House Hewett\n",
      "House Borrell\n",
      "House Peake\n",
      "Citadel\n",
      "Wise Masters\n",
      "Good Masters\n",
      "House Sunglass\n",
      "House Grimm\n",
      "The Citadel\n",
      "House Mollen\n",
      "House Hoare\n",
      "House Rambton\n",
      "House Harlaw of the Tower of Glimmering\n",
      "House Wull\n",
      "House Wagstaff\n",
      "House Vyrwel\n",
      "House Darry\n",
      "House Lydden\n",
      "House Bettley\n",
      "House Myre\n",
      "House Mormont\n",
      "House Reed\n",
      "House Kenning of Kayce\n",
      "House of Pahl\n",
      "House Turnberry\n",
      "House Blackbar\n",
      "House Woolfield\n",
      "House Fossoway\n",
      "House Mallery\n",
      "House Chyttering\n",
      "House Flint of Widow's Watch\n",
      "House Lychester\n",
      "House Vikary\n",
      "House Selmy\n",
      "House Volmark\n",
      "House Merlyn\n",
      "House Crane\n",
      "House Sarsfield\n",
      "House of Merreq\n",
      "House Chester\n",
      "House Jordayne\n",
      "Iron Bank of Braavos\n",
      "House Goodbrother of Shatterstone\n",
      "House Toland\n",
      "House Baratheon of King's Landing\n",
      "House Yronwood\n",
      "House Kettleblack\n",
      "House Wythers\n",
      "House Norrey\n",
      "House Foote\n",
      "House Chelsted\n",
      "House Banefort\n",
      "House Ball\n",
      "House Cox\n",
      "House Ruttiger\n",
      "House Estren\n",
      "House Rykker\n",
      "House Longwaters\n",
      "House Thorne\n",
      "House Moreland\n",
      "House Flint\n",
      "House Hogg\n",
      "House Longthorpe\n",
      "House Coldwater\n",
      "House Leek\n",
      "House Farman\n",
      "House Harlaw of Harlaw Hall\n",
      "House Templeton\n",
      "House Wells\n",
      "House Toyne\n",
      "House Liddle\n",
      "House Gargalen\n",
      "House Mudd\n",
      "House Farwynd\n",
      "House Sunderland\n",
      "House Hetherspoon\n",
      "House Uller\n",
      "House Wayn\n",
      "House Tollett\n",
      "House Poole\n",
      "Maesters\n",
      "House Blanetree\n",
      "House Blount\n",
      "Golden Company\n",
      "Company of the Cat\n",
      "House Suggs\n",
      "Khal\n",
      "House Nymeros Martell\n",
      "House Drinkwater\n",
      "House Harlaw of Grey Garden\n",
      "Summer Islands\n",
      "House Condon\n",
      "House Lannister of Casterly Rock\n",
      "House Moore\n",
      "House Trant\n",
      "House Yarwyck\n",
      "Undying Ones\n",
      "House Stonehouse\n",
      "House Bolton of the Dreadfort\n",
      "Thenn\n",
      "House Hasty\n",
      "House Cole\n",
      "Graces\n",
      "House Tyrell of Brightwater Keep\n",
      "House Dayne of High Hermitage\n",
      "Unsullied\n",
      "House Strickland\n",
      "House Bywater\n",
      "House Massey\n",
      "Brotherhood without Banners\n",
      "House Rhysling\n",
      "House Potter\n",
      "House Horpe\n",
      "House of Kandaq\n",
      "House of Reznak\n",
      "House Peckledon\n",
      "House Dustin\n",
      "Mance Rayder\n",
      "House Egen\n",
      "House Merryweather\n",
      "House Errol\n",
      "Thirteen\n",
      "House Erenford\n",
      "House Grell\n",
      "brotherhood without banners\n",
      "Three-eyed crow\n"
     ]
    }
   ],
   "source": [
    "for i in only_houses['house']:\n",
    "    print(i)"
   ]
  },
  {
   "cell_type": "code",
   "execution_count": null,
   "id": "cb1fa276",
   "metadata": {},
   "outputs": [],
   "source": []
  },
  {
   "cell_type": "code",
   "execution_count": 466,
   "id": "632d73c8",
   "metadata": {
    "ExecuteTime": {
     "end_time": "2023-11-28T17:26:20.241829Z",
     "start_time": "2023-11-28T17:26:20.229911Z"
    }
   },
   "outputs": [],
   "source": [
    "culture = character_predictions[['culture']].drop_duplicates().dropna().reset_index(drop=True)"
   ]
  },
  {
   "cell_type": "code",
   "execution_count": 467,
   "id": "d4cdd8bf",
   "metadata": {
    "ExecuteTime": {
     "end_time": "2023-11-28T17:26:20.774590Z",
     "start_time": "2023-11-28T17:26:20.767946Z"
    },
    "collapsed": true
   },
   "outputs": [
    {
     "name": "stdout",
     "output_type": "stream",
     "text": [
      "Rivermen\n",
      "Dornish\n",
      "Valyrian\n",
      "Ironborn\n",
      "Free Folk\n",
      "Northmen\n",
      "Summer Isles\n",
      "Braavosi\n",
      "Dothraki\n",
      "Ghiscari\n",
      "Vale mountain clans\n",
      "Reach\n",
      "Tyroshi\n",
      "Lhazarene\n",
      "Free folk\n",
      "Ironmen\n",
      "Qartheen\n",
      "Lysene\n",
      "westermen\n",
      "Westerman\n",
      "Qarth\n",
      "Lyseni\n",
      "northmen\n",
      "Qohor\n",
      "Westeros\n",
      "Norvoshi\n",
      "First Men\n",
      "Meereenese\n",
      "Andal\n",
      "Astapori\n",
      "Westermen\n",
      "ironborn\n",
      "Ghiscaricari\n",
      "Braavos\n",
      "Stormlands\n",
      "Valemen\n",
      "Myrish\n",
      "Lhazareen\n",
      "Dornishmen\n",
      "Sistermen\n",
      "Northern mountain clans\n",
      "Andals\n",
      "Vale\n",
      "Crannogmen\n",
      "Wildling\n",
      "Dorne\n",
      "Pentoshi\n",
      "free folk\n",
      "Summer Islander\n",
      "Westerlands\n",
      "Summer Islands\n",
      "Asshai\n",
      "Riverlands\n",
      "Naathi\n",
      "Rhoynar\n",
      "Meereen\n",
      "Norvos\n",
      "Stormlander\n",
      "Wildlings\n",
      "Astapor\n",
      "Reachmen\n",
      "Asshai'i\n",
      "Ibbenese\n",
      "The Reach\n"
     ]
    }
   ],
   "source": [
    "for i in culture['culture']:\n",
    "    print(i)"
   ]
  },
  {
   "cell_type": "code",
   "execution_count": 468,
   "id": "12066ef5",
   "metadata": {
    "ExecuteTime": {
     "end_time": "2023-11-28T17:26:25.641674Z",
     "start_time": "2023-11-28T17:26:25.633638Z"
    }
   },
   "outputs": [],
   "source": [
    "character_predictions.drop_duplicates(inplace=True)"
   ]
  },
  {
   "cell_type": "code",
   "execution_count": 469,
   "id": "2d866b5f",
   "metadata": {
    "ExecuteTime": {
     "end_time": "2023-11-28T17:26:31.188045Z",
     "start_time": "2023-11-28T17:26:31.179425Z"
    }
   },
   "outputs": [],
   "source": [
    "character_predictions.dropna(how='all', inplace=True)"
   ]
  },
  {
   "cell_type": "code",
   "execution_count": 470,
   "id": "141eccbf",
   "metadata": {
    "ExecuteTime": {
     "end_time": "2023-11-28T17:26:34.284463Z",
     "start_time": "2023-11-28T17:26:34.279610Z"
    }
   },
   "outputs": [],
   "source": [
    "#character_predictions.fillna('unknown', inplace=True)"
   ]
  },
  {
   "cell_type": "code",
   "execution_count": 471,
   "id": "fd1c6d22",
   "metadata": {
    "ExecuteTime": {
     "end_time": "2023-11-28T17:26:34.997032Z",
     "start_time": "2023-11-28T17:26:34.989410Z"
    }
   },
   "outputs": [],
   "source": [
    "sort = character_predictions.sort_values(by='culture').reset_index(drop=True)"
   ]
  },
  {
   "cell_type": "code",
   "execution_count": 472,
   "id": "b6983057",
   "metadata": {
    "ExecuteTime": {
     "end_time": "2023-11-28T17:26:37.475386Z",
     "start_time": "2023-11-28T17:26:37.470926Z"
    }
   },
   "outputs": [],
   "source": [
    "#sort['location'] = ''\n",
    "sort['origin'] = ''"
   ]
  },
  {
   "cell_type": "code",
   "execution_count": 473,
   "id": "96112779",
   "metadata": {
    "ExecuteTime": {
     "end_time": "2023-11-28T17:26:38.617294Z",
     "start_time": "2023-11-28T17:26:38.603209Z"
    }
   },
   "outputs": [
    {
     "data": {
      "text/html": [
       "<div>\n",
       "<style scoped>\n",
       "    .dataframe tbody tr th:only-of-type {\n",
       "        vertical-align: middle;\n",
       "    }\n",
       "\n",
       "    .dataframe tbody tr th {\n",
       "        vertical-align: top;\n",
       "    }\n",
       "\n",
       "    .dataframe thead th {\n",
       "        text-align: right;\n",
       "    }\n",
       "</style>\n",
       "<table border=\"1\" class=\"dataframe\">\n",
       "  <thead>\n",
       "    <tr style=\"text-align: right;\">\n",
       "      <th></th>\n",
       "      <th>culture</th>\n",
       "      <th>house</th>\n",
       "      <th>origin</th>\n",
       "    </tr>\n",
       "  </thead>\n",
       "  <tbody>\n",
       "    <tr>\n",
       "      <th>0</th>\n",
       "      <td>Andal</td>\n",
       "      <td>NaN</td>\n",
       "      <td></td>\n",
       "    </tr>\n",
       "    <tr>\n",
       "      <th>1</th>\n",
       "      <td>Andals</td>\n",
       "      <td>NaN</td>\n",
       "      <td></td>\n",
       "    </tr>\n",
       "    <tr>\n",
       "      <th>2</th>\n",
       "      <td>Asshai</td>\n",
       "      <td>R'hllor</td>\n",
       "      <td></td>\n",
       "    </tr>\n",
       "    <tr>\n",
       "      <th>3</th>\n",
       "      <td>Asshai</td>\n",
       "      <td>NaN</td>\n",
       "      <td></td>\n",
       "    </tr>\n",
       "    <tr>\n",
       "      <th>4</th>\n",
       "      <td>Asshai'i</td>\n",
       "      <td>NaN</td>\n",
       "      <td></td>\n",
       "    </tr>\n",
       "    <tr>\n",
       "      <th>...</th>\n",
       "      <td>...</td>\n",
       "      <td>...</td>\n",
       "      <td>...</td>\n",
       "    </tr>\n",
       "    <tr>\n",
       "      <th>482</th>\n",
       "      <td>NaN</td>\n",
       "      <td>House Erenford</td>\n",
       "      <td></td>\n",
       "    </tr>\n",
       "    <tr>\n",
       "      <th>483</th>\n",
       "      <td>NaN</td>\n",
       "      <td>House Grell</td>\n",
       "      <td></td>\n",
       "    </tr>\n",
       "    <tr>\n",
       "      <th>484</th>\n",
       "      <td>NaN</td>\n",
       "      <td>brotherhood without banners</td>\n",
       "      <td></td>\n",
       "    </tr>\n",
       "    <tr>\n",
       "      <th>485</th>\n",
       "      <td>NaN</td>\n",
       "      <td>R'hllor</td>\n",
       "      <td></td>\n",
       "    </tr>\n",
       "    <tr>\n",
       "      <th>486</th>\n",
       "      <td>NaN</td>\n",
       "      <td>Three-eyed crow</td>\n",
       "      <td></td>\n",
       "    </tr>\n",
       "  </tbody>\n",
       "</table>\n",
       "<p>487 rows × 3 columns</p>\n",
       "</div>"
      ],
      "text/plain": [
       "      culture                        house origin\n",
       "0       Andal                          NaN       \n",
       "1      Andals                          NaN       \n",
       "2      Asshai                      R'hllor       \n",
       "3      Asshai                          NaN       \n",
       "4    Asshai'i                          NaN       \n",
       "..        ...                          ...    ...\n",
       "482       NaN               House Erenford       \n",
       "483       NaN                  House Grell       \n",
       "484       NaN  brotherhood without banners       \n",
       "485       NaN                      R'hllor       \n",
       "486       NaN              Three-eyed crow       \n",
       "\n",
       "[487 rows x 3 columns]"
      ]
     },
     "execution_count": 473,
     "metadata": {},
     "output_type": "execute_result"
    }
   ],
   "source": [
    "sort"
   ]
  },
  {
   "cell_type": "code",
   "execution_count": 474,
   "id": "0e8670cd",
   "metadata": {
    "ExecuteTime": {
     "end_time": "2023-11-28T17:26:41.313993Z",
     "start_time": "2023-11-28T17:26:41.301077Z"
    }
   },
   "outputs": [],
   "source": [
    "sort.to_csv('../features_for_quiz/origins.txt', index=False)"
   ]
  },
  {
   "cell_type": "code",
   "execution_count": null,
   "id": "5f0d00c4",
   "metadata": {},
   "outputs": [],
   "source": []
  },
  {
   "cell_type": "code",
   "execution_count": 439,
   "id": "54ed398d",
   "metadata": {
    "ExecuteTime": {
     "end_time": "2023-11-28T17:09:28.854934Z",
     "start_time": "2023-11-28T17:09:28.827225Z"
    }
   },
   "outputs": [],
   "source": [
    "checking = pd.read_csv('../raw_data/character-predictions.csv')"
   ]
  },
  {
   "cell_type": "code",
   "execution_count": 440,
   "id": "6f8d8adc",
   "metadata": {
    "ExecuteTime": {
     "end_time": "2023-11-28T17:09:31.498891Z",
     "start_time": "2023-11-28T17:09:31.464955Z"
    }
   },
   "outputs": [
    {
     "data": {
      "text/html": [
       "<div>\n",
       "<style scoped>\n",
       "    .dataframe tbody tr th:only-of-type {\n",
       "        vertical-align: middle;\n",
       "    }\n",
       "\n",
       "    .dataframe tbody tr th {\n",
       "        vertical-align: top;\n",
       "    }\n",
       "\n",
       "    .dataframe thead th {\n",
       "        text-align: right;\n",
       "    }\n",
       "</style>\n",
       "<table border=\"1\" class=\"dataframe\">\n",
       "  <thead>\n",
       "    <tr style=\"text-align: right;\">\n",
       "      <th></th>\n",
       "      <th>S.No</th>\n",
       "      <th>actual</th>\n",
       "      <th>pred</th>\n",
       "      <th>alive</th>\n",
       "      <th>plod</th>\n",
       "      <th>name</th>\n",
       "      <th>title</th>\n",
       "      <th>male</th>\n",
       "      <th>culture</th>\n",
       "      <th>dateOfBirth</th>\n",
       "      <th>...</th>\n",
       "      <th>isAliveHeir</th>\n",
       "      <th>isAliveSpouse</th>\n",
       "      <th>isMarried</th>\n",
       "      <th>isNoble</th>\n",
       "      <th>age</th>\n",
       "      <th>numDeadRelations</th>\n",
       "      <th>boolDeadRelations</th>\n",
       "      <th>isPopular</th>\n",
       "      <th>popularity</th>\n",
       "      <th>isAlive</th>\n",
       "    </tr>\n",
       "  </thead>\n",
       "  <tbody>\n",
       "    <tr>\n",
       "      <th>0</th>\n",
       "      <td>1</td>\n",
       "      <td>0</td>\n",
       "      <td>0</td>\n",
       "      <td>0.054</td>\n",
       "      <td>0.946</td>\n",
       "      <td>Viserys II Targaryen</td>\n",
       "      <td>NaN</td>\n",
       "      <td>1</td>\n",
       "      <td>NaN</td>\n",
       "      <td>NaN</td>\n",
       "      <td>...</td>\n",
       "      <td>0.0</td>\n",
       "      <td>NaN</td>\n",
       "      <td>0</td>\n",
       "      <td>0</td>\n",
       "      <td>NaN</td>\n",
       "      <td>11</td>\n",
       "      <td>1</td>\n",
       "      <td>1</td>\n",
       "      <td>0.605351</td>\n",
       "      <td>0</td>\n",
       "    </tr>\n",
       "    <tr>\n",
       "      <th>1</th>\n",
       "      <td>2</td>\n",
       "      <td>1</td>\n",
       "      <td>0</td>\n",
       "      <td>0.387</td>\n",
       "      <td>0.613</td>\n",
       "      <td>Walder Frey</td>\n",
       "      <td>Lord of the Crossing</td>\n",
       "      <td>1</td>\n",
       "      <td>Rivermen</td>\n",
       "      <td>208.0</td>\n",
       "      <td>...</td>\n",
       "      <td>NaN</td>\n",
       "      <td>1.0</td>\n",
       "      <td>1</td>\n",
       "      <td>1</td>\n",
       "      <td>97.0</td>\n",
       "      <td>1</td>\n",
       "      <td>1</td>\n",
       "      <td>1</td>\n",
       "      <td>0.896321</td>\n",
       "      <td>1</td>\n",
       "    </tr>\n",
       "    <tr>\n",
       "      <th>2</th>\n",
       "      <td>3</td>\n",
       "      <td>1</td>\n",
       "      <td>0</td>\n",
       "      <td>0.493</td>\n",
       "      <td>0.507</td>\n",
       "      <td>Addison Hill</td>\n",
       "      <td>Ser</td>\n",
       "      <td>1</td>\n",
       "      <td>NaN</td>\n",
       "      <td>NaN</td>\n",
       "      <td>...</td>\n",
       "      <td>NaN</td>\n",
       "      <td>NaN</td>\n",
       "      <td>0</td>\n",
       "      <td>1</td>\n",
       "      <td>NaN</td>\n",
       "      <td>0</td>\n",
       "      <td>0</td>\n",
       "      <td>0</td>\n",
       "      <td>0.267559</td>\n",
       "      <td>1</td>\n",
       "    </tr>\n",
       "    <tr>\n",
       "      <th>3</th>\n",
       "      <td>4</td>\n",
       "      <td>0</td>\n",
       "      <td>0</td>\n",
       "      <td>0.076</td>\n",
       "      <td>0.924</td>\n",
       "      <td>Aemma Arryn</td>\n",
       "      <td>Queen</td>\n",
       "      <td>0</td>\n",
       "      <td>NaN</td>\n",
       "      <td>82.0</td>\n",
       "      <td>...</td>\n",
       "      <td>NaN</td>\n",
       "      <td>0.0</td>\n",
       "      <td>1</td>\n",
       "      <td>1</td>\n",
       "      <td>23.0</td>\n",
       "      <td>0</td>\n",
       "      <td>0</td>\n",
       "      <td>0</td>\n",
       "      <td>0.183946</td>\n",
       "      <td>0</td>\n",
       "    </tr>\n",
       "    <tr>\n",
       "      <th>4</th>\n",
       "      <td>5</td>\n",
       "      <td>1</td>\n",
       "      <td>1</td>\n",
       "      <td>0.617</td>\n",
       "      <td>0.383</td>\n",
       "      <td>Sylva Santagar</td>\n",
       "      <td>Greenstone</td>\n",
       "      <td>0</td>\n",
       "      <td>Dornish</td>\n",
       "      <td>276.0</td>\n",
       "      <td>...</td>\n",
       "      <td>NaN</td>\n",
       "      <td>1.0</td>\n",
       "      <td>1</td>\n",
       "      <td>1</td>\n",
       "      <td>29.0</td>\n",
       "      <td>0</td>\n",
       "      <td>0</td>\n",
       "      <td>0</td>\n",
       "      <td>0.043478</td>\n",
       "      <td>1</td>\n",
       "    </tr>\n",
       "    <tr>\n",
       "      <th>...</th>\n",
       "      <td>...</td>\n",
       "      <td>...</td>\n",
       "      <td>...</td>\n",
       "      <td>...</td>\n",
       "      <td>...</td>\n",
       "      <td>...</td>\n",
       "      <td>...</td>\n",
       "      <td>...</td>\n",
       "      <td>...</td>\n",
       "      <td>...</td>\n",
       "      <td>...</td>\n",
       "      <td>...</td>\n",
       "      <td>...</td>\n",
       "      <td>...</td>\n",
       "      <td>...</td>\n",
       "      <td>...</td>\n",
       "      <td>...</td>\n",
       "      <td>...</td>\n",
       "      <td>...</td>\n",
       "      <td>...</td>\n",
       "      <td>...</td>\n",
       "    </tr>\n",
       "    <tr>\n",
       "      <th>1941</th>\n",
       "      <td>1942</td>\n",
       "      <td>0</td>\n",
       "      <td>1</td>\n",
       "      <td>0.803</td>\n",
       "      <td>0.197</td>\n",
       "      <td>Luwin</td>\n",
       "      <td>NaN</td>\n",
       "      <td>1</td>\n",
       "      <td>Westeros</td>\n",
       "      <td>NaN</td>\n",
       "      <td>...</td>\n",
       "      <td>NaN</td>\n",
       "      <td>NaN</td>\n",
       "      <td>0</td>\n",
       "      <td>0</td>\n",
       "      <td>NaN</td>\n",
       "      <td>0</td>\n",
       "      <td>0</td>\n",
       "      <td>1</td>\n",
       "      <td>0.351171</td>\n",
       "      <td>0</td>\n",
       "    </tr>\n",
       "    <tr>\n",
       "      <th>1942</th>\n",
       "      <td>1943</td>\n",
       "      <td>0</td>\n",
       "      <td>1</td>\n",
       "      <td>0.987</td>\n",
       "      <td>0.013</td>\n",
       "      <td>Reek</td>\n",
       "      <td>NaN</td>\n",
       "      <td>1</td>\n",
       "      <td>NaN</td>\n",
       "      <td>NaN</td>\n",
       "      <td>...</td>\n",
       "      <td>NaN</td>\n",
       "      <td>NaN</td>\n",
       "      <td>0</td>\n",
       "      <td>0</td>\n",
       "      <td>NaN</td>\n",
       "      <td>0</td>\n",
       "      <td>0</td>\n",
       "      <td>0</td>\n",
       "      <td>0.096990</td>\n",
       "      <td>0</td>\n",
       "    </tr>\n",
       "    <tr>\n",
       "      <th>1943</th>\n",
       "      <td>1944</td>\n",
       "      <td>1</td>\n",
       "      <td>1</td>\n",
       "      <td>0.520</td>\n",
       "      <td>0.480</td>\n",
       "      <td>Symeon Star-Eyes</td>\n",
       "      <td>NaN</td>\n",
       "      <td>1</td>\n",
       "      <td>NaN</td>\n",
       "      <td>NaN</td>\n",
       "      <td>...</td>\n",
       "      <td>NaN</td>\n",
       "      <td>NaN</td>\n",
       "      <td>0</td>\n",
       "      <td>0</td>\n",
       "      <td>NaN</td>\n",
       "      <td>0</td>\n",
       "      <td>0</td>\n",
       "      <td>0</td>\n",
       "      <td>0.030100</td>\n",
       "      <td>1</td>\n",
       "    </tr>\n",
       "    <tr>\n",
       "      <th>1944</th>\n",
       "      <td>1945</td>\n",
       "      <td>1</td>\n",
       "      <td>1</td>\n",
       "      <td>0.637</td>\n",
       "      <td>0.363</td>\n",
       "      <td>Coldhands</td>\n",
       "      <td>NaN</td>\n",
       "      <td>1</td>\n",
       "      <td>NaN</td>\n",
       "      <td>NaN</td>\n",
       "      <td>...</td>\n",
       "      <td>NaN</td>\n",
       "      <td>NaN</td>\n",
       "      <td>0</td>\n",
       "      <td>0</td>\n",
       "      <td>NaN</td>\n",
       "      <td>0</td>\n",
       "      <td>0</td>\n",
       "      <td>0</td>\n",
       "      <td>0.130435</td>\n",
       "      <td>1</td>\n",
       "    </tr>\n",
       "    <tr>\n",
       "      <th>1945</th>\n",
       "      <td>1946</td>\n",
       "      <td>0</td>\n",
       "      <td>0</td>\n",
       "      <td>0.093</td>\n",
       "      <td>0.907</td>\n",
       "      <td>Tytos Lannister</td>\n",
       "      <td>Casterly Rock</td>\n",
       "      <td>1</td>\n",
       "      <td>NaN</td>\n",
       "      <td>220.0</td>\n",
       "      <td>...</td>\n",
       "      <td>NaN</td>\n",
       "      <td>1.0</td>\n",
       "      <td>1</td>\n",
       "      <td>1</td>\n",
       "      <td>47.0</td>\n",
       "      <td>4</td>\n",
       "      <td>1</td>\n",
       "      <td>0</td>\n",
       "      <td>0.210702</td>\n",
       "      <td>0</td>\n",
       "    </tr>\n",
       "  </tbody>\n",
       "</table>\n",
       "<p>1946 rows × 33 columns</p>\n",
       "</div>"
      ],
      "text/plain": [
       "      S.No  actual  pred  alive   plod                  name  \\\n",
       "0        1       0     0  0.054  0.946  Viserys II Targaryen   \n",
       "1        2       1     0  0.387  0.613           Walder Frey   \n",
       "2        3       1     0  0.493  0.507          Addison Hill   \n",
       "3        4       0     0  0.076  0.924           Aemma Arryn   \n",
       "4        5       1     1  0.617  0.383        Sylva Santagar   \n",
       "...    ...     ...   ...    ...    ...                   ...   \n",
       "1941  1942       0     1  0.803  0.197                 Luwin   \n",
       "1942  1943       0     1  0.987  0.013                  Reek   \n",
       "1943  1944       1     1  0.520  0.480      Symeon Star-Eyes   \n",
       "1944  1945       1     1  0.637  0.363             Coldhands   \n",
       "1945  1946       0     0  0.093  0.907       Tytos Lannister   \n",
       "\n",
       "                     title  male   culture  dateOfBirth  ...  isAliveHeir  \\\n",
       "0                      NaN     1       NaN          NaN  ...          0.0   \n",
       "1     Lord of the Crossing     1  Rivermen        208.0  ...          NaN   \n",
       "2                      Ser     1       NaN          NaN  ...          NaN   \n",
       "3                    Queen     0       NaN         82.0  ...          NaN   \n",
       "4               Greenstone     0   Dornish        276.0  ...          NaN   \n",
       "...                    ...   ...       ...          ...  ...          ...   \n",
       "1941                   NaN     1  Westeros          NaN  ...          NaN   \n",
       "1942                   NaN     1       NaN          NaN  ...          NaN   \n",
       "1943                   NaN     1       NaN          NaN  ...          NaN   \n",
       "1944                   NaN     1       NaN          NaN  ...          NaN   \n",
       "1945         Casterly Rock     1       NaN        220.0  ...          NaN   \n",
       "\n",
       "     isAliveSpouse isMarried isNoble   age numDeadRelations  \\\n",
       "0              NaN         0       0   NaN               11   \n",
       "1              1.0         1       1  97.0                1   \n",
       "2              NaN         0       1   NaN                0   \n",
       "3              0.0         1       1  23.0                0   \n",
       "4              1.0         1       1  29.0                0   \n",
       "...            ...       ...     ...   ...              ...   \n",
       "1941           NaN         0       0   NaN                0   \n",
       "1942           NaN         0       0   NaN                0   \n",
       "1943           NaN         0       0   NaN                0   \n",
       "1944           NaN         0       0   NaN                0   \n",
       "1945           1.0         1       1  47.0                4   \n",
       "\n",
       "      boolDeadRelations  isPopular  popularity  isAlive  \n",
       "0                     1          1    0.605351        0  \n",
       "1                     1          1    0.896321        1  \n",
       "2                     0          0    0.267559        1  \n",
       "3                     0          0    0.183946        0  \n",
       "4                     0          0    0.043478        1  \n",
       "...                 ...        ...         ...      ...  \n",
       "1941                  0          1    0.351171        0  \n",
       "1942                  0          0    0.096990        0  \n",
       "1943                  0          0    0.030100        1  \n",
       "1944                  0          0    0.130435        1  \n",
       "1945                  1          0    0.210702        0  \n",
       "\n",
       "[1946 rows x 33 columns]"
      ]
     },
     "execution_count": 440,
     "metadata": {},
     "output_type": "execute_result"
    }
   ],
   "source": [
    "checking"
   ]
  },
  {
   "cell_type": "code",
   "execution_count": 516,
   "id": "37a26eb3",
   "metadata": {
    "ExecuteTime": {
     "end_time": "2023-11-28T17:58:58.640323Z",
     "start_time": "2023-11-28T17:58:58.610126Z"
    }
   },
   "outputs": [
    {
     "data": {
      "text/html": [
       "<div>\n",
       "<style scoped>\n",
       "    .dataframe tbody tr th:only-of-type {\n",
       "        vertical-align: middle;\n",
       "    }\n",
       "\n",
       "    .dataframe tbody tr th {\n",
       "        vertical-align: top;\n",
       "    }\n",
       "\n",
       "    .dataframe thead th {\n",
       "        text-align: right;\n",
       "    }\n",
       "</style>\n",
       "<table border=\"1\" class=\"dataframe\">\n",
       "  <thead>\n",
       "    <tr style=\"text-align: right;\">\n",
       "      <th></th>\n",
       "      <th>S.No</th>\n",
       "      <th>actual</th>\n",
       "      <th>pred</th>\n",
       "      <th>alive</th>\n",
       "      <th>plod</th>\n",
       "      <th>name</th>\n",
       "      <th>title</th>\n",
       "      <th>male</th>\n",
       "      <th>culture</th>\n",
       "      <th>dateOfBirth</th>\n",
       "      <th>...</th>\n",
       "      <th>isAliveHeir</th>\n",
       "      <th>isAliveSpouse</th>\n",
       "      <th>isMarried</th>\n",
       "      <th>isNoble</th>\n",
       "      <th>age</th>\n",
       "      <th>numDeadRelations</th>\n",
       "      <th>boolDeadRelations</th>\n",
       "      <th>isPopular</th>\n",
       "      <th>popularity</th>\n",
       "      <th>isAlive</th>\n",
       "    </tr>\n",
       "  </thead>\n",
       "  <tbody>\n",
       "    <tr>\n",
       "      <th>635</th>\n",
       "      <td>636</td>\n",
       "      <td>0</td>\n",
       "      <td>0</td>\n",
       "      <td>0.002</td>\n",
       "      <td>0.998</td>\n",
       "      <td>Jeyne Waters</td>\n",
       "      <td>NaN</td>\n",
       "      <td>1</td>\n",
       "      <td>Westeros</td>\n",
       "      <td>171.0</td>\n",
       "      <td>...</td>\n",
       "      <td>NaN</td>\n",
       "      <td>NaN</td>\n",
       "      <td>0</td>\n",
       "      <td>0</td>\n",
       "      <td>100.0</td>\n",
       "      <td>0</td>\n",
       "      <td>0</td>\n",
       "      <td>0</td>\n",
       "      <td>0.073579</td>\n",
       "      <td>0</td>\n",
       "    </tr>\n",
       "    <tr>\n",
       "      <th>1907</th>\n",
       "      <td>1908</td>\n",
       "      <td>0</td>\n",
       "      <td>0</td>\n",
       "      <td>0.295</td>\n",
       "      <td>0.705</td>\n",
       "      <td>Mycah</td>\n",
       "      <td>NaN</td>\n",
       "      <td>1</td>\n",
       "      <td>Westeros</td>\n",
       "      <td>285.0</td>\n",
       "      <td>...</td>\n",
       "      <td>NaN</td>\n",
       "      <td>NaN</td>\n",
       "      <td>0</td>\n",
       "      <td>0</td>\n",
       "      <td>13.0</td>\n",
       "      <td>0</td>\n",
       "      <td>0</td>\n",
       "      <td>0</td>\n",
       "      <td>0.103679</td>\n",
       "      <td>0</td>\n",
       "    </tr>\n",
       "  </tbody>\n",
       "</table>\n",
       "<p>2 rows × 33 columns</p>\n",
       "</div>"
      ],
      "text/plain": [
       "      S.No  actual  pred  alive   plod          name title  male   culture  \\\n",
       "635    636       0     0  0.002  0.998  Jeyne Waters   NaN     1  Westeros   \n",
       "1907  1908       0     0  0.295  0.705         Mycah   NaN     1  Westeros   \n",
       "\n",
       "      dateOfBirth  ...  isAliveHeir isAliveSpouse isMarried isNoble    age  \\\n",
       "635         171.0  ...          NaN           NaN         0       0  100.0   \n",
       "1907        285.0  ...          NaN           NaN         0       0   13.0   \n",
       "\n",
       "     numDeadRelations  boolDeadRelations  isPopular  popularity  isAlive  \n",
       "635                 0                  0          0    0.073579        0  \n",
       "1907                0                  0          0    0.103679        0  \n",
       "\n",
       "[2 rows x 33 columns]"
      ]
     },
     "execution_count": 516,
     "metadata": {},
     "output_type": "execute_result"
    }
   ],
   "source": [
    "checking.loc[(checking['culture'] == 'Westeros') & (checking['house'].isna())]"
   ]
  },
  {
   "cell_type": "code",
   "execution_count": null,
   "id": "66177c0c",
   "metadata": {},
   "outputs": [],
   "source": []
  },
  {
   "cell_type": "code",
   "execution_count": null,
   "id": "60a82e30",
   "metadata": {},
   "outputs": [],
   "source": []
  },
  {
   "cell_type": "code",
   "execution_count": null,
   "id": "6ed7731e",
   "metadata": {},
   "outputs": [],
   "source": []
  },
  {
   "cell_type": "code",
   "execution_count": null,
   "id": "5ab31144",
   "metadata": {},
   "outputs": [],
   "source": []
  },
  {
   "cell_type": "code",
   "execution_count": null,
   "id": "3fbac41f",
   "metadata": {},
   "outputs": [],
   "source": []
  },
  {
   "cell_type": "code",
   "execution_count": 97,
   "id": "119027b7",
   "metadata": {
    "ExecuteTime": {
     "end_time": "2023-11-28T11:22:11.910692Z",
     "start_time": "2023-11-28T11:22:11.897134Z"
    },
    "collapsed": true
   },
   "outputs": [
    {
     "data": {
      "text/plain": [
       "Allegiance                       \n",
       "House Lannister                      835\n",
       "None                                 432\n",
       "House Stark                          121\n",
       "Free Folk                            121\n",
       "Night's Watch                         79\n",
       "House Targaryen                       68\n",
       "House Bolton                          68\n",
       "Sons of the Harpy                     68\n",
       "House Baratheon of Dragonstone        67\n",
       "House Frey                            62\n",
       "Faith Militant                        52\n",
       "Smallfolk                             44\n",
       "House Greyjoy                         41\n",
       "Dothraki                              23\n",
       "House Baratheon of King's Landing     22\n",
       "The Masters                           14\n",
       "The Thirteen                          12\n",
       "Wise Masters                          12\n",
       "Brotherhood Without Banners           10\n",
       "House Martell                          8\n",
       "House Mormont                          8\n",
       "Good Masters                           7\n",
       "House Baelish                          6\n",
       "Great Masters                          6\n",
       "Children of the Forest                 6\n",
       "House Tyrell                           4\n",
       "White Walkers                          3\n",
       "Sand Snakes                            3\n",
       "House Arryn                            3\n",
       "House Baratheon of Storm's End         3\n",
       "House Clegane                          3\n",
       "House Umber                            2\n",
       "Second Sons                            2\n",
       "Faith of the Seven                     2\n",
       "Lord of Light                          1\n",
       "Order of Maesters                      1\n",
       "House Tully                            1\n",
       "Faceless Men                           1\n",
       "Warlocks of Qarth                      1\n",
       "House Moore                            1\n",
       "House Hollard                          1\n",
       "dtype: int64"
      ]
     },
     "execution_count": 97,
     "metadata": {},
     "output_type": "execute_result"
    }
   ],
   "source": [
    "dead.value_counts()"
   ]
  },
  {
   "cell_type": "code",
   "execution_count": null,
   "id": "c3c3e520",
   "metadata": {},
   "outputs": [],
   "source": []
  }
 ],
 "metadata": {
  "kernelspec": {
   "display_name": "Python 3 (ipykernel)",
   "language": "python",
   "name": "python3"
  },
  "language_info": {
   "codemirror_mode": {
    "name": "ipython",
    "version": 3
   },
   "file_extension": ".py",
   "mimetype": "text/x-python",
   "name": "python",
   "nbconvert_exporter": "python",
   "pygments_lexer": "ipython3",
   "version": "3.10.6"
  },
  "toc": {
   "base_numbering": 1,
   "nav_menu": {},
   "number_sections": true,
   "sideBar": true,
   "skip_h1_title": false,
   "title_cell": "Table of Contents",
   "title_sidebar": "Contents",
   "toc_cell": false,
   "toc_position": {},
   "toc_section_display": true,
   "toc_window_display": false
  }
 },
 "nbformat": 4,
 "nbformat_minor": 5
}
