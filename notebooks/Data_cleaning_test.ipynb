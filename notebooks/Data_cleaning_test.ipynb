{
 "cells": [
  {
   "cell_type": "markdown",
   "id": "89470b39",
   "metadata": {},
   "source": [
    "# Data Cleaning"
   ]
  },
  {
   "cell_type": "code",
   "execution_count": 1,
   "id": "8d881193",
   "metadata": {
    "ExecuteTime": {
     "end_time": "2023-11-27T10:36:52.342398Z",
     "start_time": "2023-11-27T10:36:47.508220Z"
    }
   },
   "outputs": [],
   "source": [
    "import os\n",
    "\n",
    "import numpy as np\n",
    "import pandas as pd\n",
    "\n",
    "import matplotlib as plt\n",
    "import seaborn as sns"
   ]
  },
  {
   "cell_type": "code",
   "execution_count": 7,
   "id": "310d2376",
   "metadata": {
    "ExecuteTime": {
     "end_time": "2023-11-27T10:41:05.422260Z",
     "start_time": "2023-11-27T10:40:58.939848Z"
    }
   },
   "outputs": [
    {
     "name": "stdout",
     "output_type": "stream",
     "text": [
      "Collecting openpyxl\n",
      "  Downloading openpyxl-3.1.2-py2.py3-none-any.whl (249 kB)\n",
      "\u001b[2K     \u001b[90m━━━━━━━━━━━━━━━━━━━━━━━━━━━━━━━━━━━━━━━\u001b[0m \u001b[32m250.0/250.0 kB\u001b[0m \u001b[31m3.8 MB/s\u001b[0m eta \u001b[36m0:00:00\u001b[0ma \u001b[36m0:00:01\u001b[0m\n",
      "\u001b[?25hCollecting et-xmlfile (from openpyxl)\n",
      "  Downloading et_xmlfile-1.1.0-py3-none-any.whl (4.7 kB)\n",
      "Installing collected packages: et-xmlfile, openpyxl\n",
      "Successfully installed et-xmlfile-1.1.0 openpyxl-3.1.2\n",
      "\n",
      "\u001b[1m[\u001b[0m\u001b[34;49mnotice\u001b[0m\u001b[1;39;49m]\u001b[0m\u001b[39;49m A new release of pip is available: \u001b[0m\u001b[31;49m23.2.1\u001b[0m\u001b[39;49m -> \u001b[0m\u001b[32;49m23.3.1\u001b[0m\n",
      "\u001b[1m[\u001b[0m\u001b[34;49mnotice\u001b[0m\u001b[1;39;49m]\u001b[0m\u001b[39;49m To update, run: \u001b[0m\u001b[32;49mpython3.10 -m pip install --upgrade pip\u001b[0m\n"
     ]
    }
   ],
   "source": [
    "!pip install openpyxl"
   ]
  },
  {
   "cell_type": "code",
   "execution_count": 8,
   "id": "319e434e",
   "metadata": {
    "ExecuteTime": {
     "end_time": "2023-11-27T10:41:08.949814Z",
     "start_time": "2023-11-27T10:41:08.803292Z"
    }
   },
   "outputs": [
    {
     "name": "stdout",
     "output_type": "stream",
     "text": [
      "\u001b[1m\u001b[36marchive\u001b[m\u001b[m                    only_dead.xlsx\r\n",
      "game-of-thones-deaths.xlsx\r\n"
     ]
    }
   ],
   "source": [
    "!ls data"
   ]
  },
  {
   "cell_type": "markdown",
   "id": "6b11c22e",
   "metadata": {},
   "source": [
    "## Game of thrones deaths\n",
    "\n",
    "https://www.kaggle.com/datasets/shitalgaikwad123/gameofthonesdeaths"
   ]
  },
  {
   "cell_type": "code",
   "execution_count": 15,
   "id": "4a6de55b",
   "metadata": {
    "ExecuteTime": {
     "end_time": "2023-11-27T10:43:27.558310Z",
     "start_time": "2023-11-27T10:43:27.104901Z"
    }
   },
   "outputs": [],
   "source": [
    "only_deaths = pd.read_excel('data/only_dead.xlsx', skiprows=1)"
   ]
  },
  {
   "cell_type": "code",
   "execution_count": 16,
   "id": "16144c5b",
   "metadata": {
    "ExecuteTime": {
     "end_time": "2023-11-27T10:43:28.310219Z",
     "start_time": "2023-11-27T10:43:28.281187Z"
    }
   },
   "outputs": [
    {
     "data": {
      "text/html": [
       "<div>\n",
       "<style scoped>\n",
       "    .dataframe tbody tr th:only-of-type {\n",
       "        vertical-align: middle;\n",
       "    }\n",
       "\n",
       "    .dataframe tbody tr th {\n",
       "        vertical-align: top;\n",
       "    }\n",
       "\n",
       "    .dataframe thead th {\n",
       "        text-align: right;\n",
       "    }\n",
       "</style>\n",
       "<table border=\"1\" class=\"dataframe\">\n",
       "  <thead>\n",
       "    <tr style=\"text-align: right;\">\n",
       "      <th></th>\n",
       "      <th>Allegiance</th>\n",
       "      <th>Death No.</th>\n",
       "      <th>Episode</th>\n",
       "      <th>Killer</th>\n",
       "      <th>Killers House</th>\n",
       "      <th>Location</th>\n",
       "      <th>Method</th>\n",
       "      <th>Name</th>\n",
       "      <th>Season</th>\n",
       "    </tr>\n",
       "  </thead>\n",
       "  <tbody>\n",
       "    <tr>\n",
       "      <th>0</th>\n",
       "      <td>Night's Watch</td>\n",
       "      <td>1</td>\n",
       "      <td>1</td>\n",
       "      <td>White Walker</td>\n",
       "      <td>None</td>\n",
       "      <td>Beyond the Wall</td>\n",
       "      <td>Ice sword</td>\n",
       "      <td>Waymar Royce</td>\n",
       "      <td>1</td>\n",
       "    </tr>\n",
       "    <tr>\n",
       "      <th>1</th>\n",
       "      <td>Night's Watch</td>\n",
       "      <td>2</td>\n",
       "      <td>1</td>\n",
       "      <td>White Walker</td>\n",
       "      <td>None</td>\n",
       "      <td>Beyond the Wall</td>\n",
       "      <td>Ice sword</td>\n",
       "      <td>Gared</td>\n",
       "      <td>1</td>\n",
       "    </tr>\n",
       "    <tr>\n",
       "      <th>2</th>\n",
       "      <td>Night's Watch</td>\n",
       "      <td>3</td>\n",
       "      <td>1</td>\n",
       "      <td>Ned Stark</td>\n",
       "      <td>House Stark</td>\n",
       "      <td>Winterfell</td>\n",
       "      <td>Sword</td>\n",
       "      <td>Will</td>\n",
       "      <td>1</td>\n",
       "    </tr>\n",
       "    <tr>\n",
       "      <th>3</th>\n",
       "      <td>None</td>\n",
       "      <td>4</td>\n",
       "      <td>1</td>\n",
       "      <td>Direwolf</td>\n",
       "      <td>None</td>\n",
       "      <td>Winterfell</td>\n",
       "      <td>Teeth</td>\n",
       "      <td>Stag</td>\n",
       "      <td>1</td>\n",
       "    </tr>\n",
       "    <tr>\n",
       "      <th>4</th>\n",
       "      <td>None</td>\n",
       "      <td>5</td>\n",
       "      <td>1</td>\n",
       "      <td>Stag</td>\n",
       "      <td>None</td>\n",
       "      <td>Winterfell</td>\n",
       "      <td>Antler</td>\n",
       "      <td>Direwolf</td>\n",
       "      <td>1</td>\n",
       "    </tr>\n",
       "    <tr>\n",
       "      <th>...</th>\n",
       "      <td>...</td>\n",
       "      <td>...</td>\n",
       "      <td>...</td>\n",
       "      <td>...</td>\n",
       "      <td>...</td>\n",
       "      <td>...</td>\n",
       "      <td>...</td>\n",
       "      <td>...</td>\n",
       "      <td>...</td>\n",
       "    </tr>\n",
       "    <tr>\n",
       "      <th>2219</th>\n",
       "      <td>None</td>\n",
       "      <td>2207</td>\n",
       "      <td>5</td>\n",
       "      <td>Daenerys Targaryen</td>\n",
       "      <td>House Targaryen</td>\n",
       "      <td>King's Landing</td>\n",
       "      <td>Dragonfire (Dragon)</td>\n",
       "      <td>King's Landing Citizen</td>\n",
       "      <td>8</td>\n",
       "    </tr>\n",
       "    <tr>\n",
       "      <th>2220</th>\n",
       "      <td>None</td>\n",
       "      <td>2208</td>\n",
       "      <td>5</td>\n",
       "      <td>Daenerys Targaryen</td>\n",
       "      <td>House Targaryen</td>\n",
       "      <td>King's Landing</td>\n",
       "      <td>Dragonfire (Dragon)</td>\n",
       "      <td>King's Landing Citizen</td>\n",
       "      <td>8</td>\n",
       "    </tr>\n",
       "    <tr>\n",
       "      <th>2221</th>\n",
       "      <td>None</td>\n",
       "      <td>2209</td>\n",
       "      <td>5</td>\n",
       "      <td>Daenerys Targaryen</td>\n",
       "      <td>House Targaryen</td>\n",
       "      <td>King's Landing</td>\n",
       "      <td>Dragonfire (Dragon)</td>\n",
       "      <td>King's Landing Citizen</td>\n",
       "      <td>8</td>\n",
       "    </tr>\n",
       "    <tr>\n",
       "      <th>2222</th>\n",
       "      <td>None</td>\n",
       "      <td>2210</td>\n",
       "      <td>5</td>\n",
       "      <td>Daenerys Targaryen</td>\n",
       "      <td>House Targaryen</td>\n",
       "      <td>King's Landing</td>\n",
       "      <td>Dragonfire (Dragon)</td>\n",
       "      <td>King's Landing Citizen</td>\n",
       "      <td>8</td>\n",
       "    </tr>\n",
       "    <tr>\n",
       "      <th>2223</th>\n",
       "      <td>House Targaryen</td>\n",
       "      <td>2224</td>\n",
       "      <td>6</td>\n",
       "      <td>Jon Snow</td>\n",
       "      <td>House Stark</td>\n",
       "      <td>King's Landing</td>\n",
       "      <td>Knife</td>\n",
       "      <td>Daenerys Targaryen</td>\n",
       "      <td>8</td>\n",
       "    </tr>\n",
       "  </tbody>\n",
       "</table>\n",
       "<p>2224 rows × 9 columns</p>\n",
       "</div>"
      ],
      "text/plain": [
       "           Allegiance  Death No.  Episode              Killer  \\\n",
       "0       Night's Watch          1        1        White Walker   \n",
       "1       Night's Watch          2        1        White Walker   \n",
       "2       Night's Watch          3        1           Ned Stark   \n",
       "3                None          4        1            Direwolf   \n",
       "4                None          5        1                Stag   \n",
       "...               ...        ...      ...                 ...   \n",
       "2219             None       2207        5  Daenerys Targaryen   \n",
       "2220             None       2208        5  Daenerys Targaryen   \n",
       "2221             None       2209        5  Daenerys Targaryen   \n",
       "2222             None       2210        5  Daenerys Targaryen   \n",
       "2223  House Targaryen       2224        6            Jon Snow   \n",
       "\n",
       "        Killers House         Location               Method  \\\n",
       "0                None  Beyond the Wall            Ice sword   \n",
       "1                None  Beyond the Wall            Ice sword   \n",
       "2         House Stark       Winterfell                Sword   \n",
       "3                None       Winterfell                Teeth   \n",
       "4                None       Winterfell               Antler   \n",
       "...               ...              ...                  ...   \n",
       "2219  House Targaryen   King's Landing  Dragonfire (Dragon)   \n",
       "2220  House Targaryen   King's Landing  Dragonfire (Dragon)   \n",
       "2221  House Targaryen   King's Landing  Dragonfire (Dragon)   \n",
       "2222  House Targaryen   King's Landing  Dragonfire (Dragon)   \n",
       "2223      House Stark   King's Landing                Knife   \n",
       "\n",
       "                        Name  Season  \n",
       "0               Waymar Royce       1  \n",
       "1                      Gared       1  \n",
       "2                       Will       1  \n",
       "3                       Stag       1  \n",
       "4                   Direwolf       1  \n",
       "...                      ...     ...  \n",
       "2219  King's Landing Citizen       8  \n",
       "2220  King's Landing Citizen       8  \n",
       "2221  King's Landing Citizen       8  \n",
       "2222  King's Landing Citizen       8  \n",
       "2223      Daenerys Targaryen       8  \n",
       "\n",
       "[2224 rows x 9 columns]"
      ]
     },
     "execution_count": 16,
     "metadata": {},
     "output_type": "execute_result"
    }
   ],
   "source": [
    "only_deaths"
   ]
  },
  {
   "cell_type": "code",
   "execution_count": 28,
   "id": "ea139deb",
   "metadata": {
    "ExecuteTime": {
     "end_time": "2023-11-27T10:57:19.153520Z",
     "start_time": "2023-11-27T10:57:19.145380Z"
    }
   },
   "outputs": [
    {
     "data": {
      "text/plain": [
       "(2224, 9)"
      ]
     },
     "execution_count": 28,
     "metadata": {},
     "output_type": "execute_result"
    }
   ],
   "source": [
    "only_deaths_shape = only_deaths.shape\n",
    "only_deaths_shape"
   ]
  },
  {
   "cell_type": "code",
   "execution_count": 26,
   "id": "36557871",
   "metadata": {
    "ExecuteTime": {
     "end_time": "2023-11-27T10:57:01.946446Z",
     "start_time": "2023-11-27T10:57:01.935992Z"
    }
   },
   "outputs": [
    {
     "data": {
      "text/plain": [
       "Index(['Allegiance', 'Death No.', 'Episode', 'Killer', 'Killers House',\n",
       "       'Location', 'Method', 'Name', 'Season'],\n",
       "      dtype='object')"
      ]
     },
     "execution_count": 26,
     "metadata": {},
     "output_type": "execute_result"
    }
   ],
   "source": [
    "only_deaths_cols = only_deaths.columns\n",
    "only_deaths_cols"
   ]
  },
  {
   "cell_type": "code",
   "execution_count": 30,
   "id": "a20ab06e",
   "metadata": {
    "ExecuteTime": {
     "end_time": "2023-11-27T10:57:37.688268Z",
     "start_time": "2023-11-27T10:57:37.646384Z"
    }
   },
   "outputs": [
    {
     "name": "stdout",
     "output_type": "stream",
     "text": [
      "<class 'pandas.core.frame.DataFrame'>\n",
      "RangeIndex: 2224 entries, 0 to 2223\n",
      "Data columns (total 9 columns):\n",
      " #   Column         Non-Null Count  Dtype \n",
      "---  ------         --------------  ----- \n",
      " 0   Allegiance     2224 non-null   object\n",
      " 1   Death No.      2224 non-null   int64 \n",
      " 2   Episode        2224 non-null   int64 \n",
      " 3   Killer         2224 non-null   object\n",
      " 4   Killers House  2224 non-null   object\n",
      " 5   Location       2224 non-null   object\n",
      " 6   Method         2224 non-null   object\n",
      " 7   Name           2224 non-null   object\n",
      " 8   Season         2224 non-null   int64 \n",
      "dtypes: int64(3), object(6)\n",
      "memory usage: 156.5+ KB\n"
     ]
    }
   ],
   "source": [
    "only_deaths.info()"
   ]
  },
  {
   "cell_type": "code",
   "execution_count": 32,
   "id": "6f6fada7",
   "metadata": {
    "ExecuteTime": {
     "end_time": "2023-11-27T10:58:06.376929Z",
     "start_time": "2023-11-27T10:58:06.358587Z"
    }
   },
   "outputs": [
    {
     "data": {
      "text/plain": [
       "0"
      ]
     },
     "execution_count": 32,
     "metadata": {},
     "output_type": "execute_result"
    }
   ],
   "source": [
    "only_deaths.duplicated().sum()"
   ]
  },
  {
   "cell_type": "code",
   "execution_count": 34,
   "id": "abfc8109",
   "metadata": {
    "ExecuteTime": {
     "end_time": "2023-11-27T10:59:07.802202Z",
     "start_time": "2023-11-27T10:59:07.787953Z"
    }
   },
   "outputs": [
    {
     "data": {
      "text/plain": [
       "Allegiance       0\n",
       "Death No.        0\n",
       "Episode          0\n",
       "Killer           0\n",
       "Killers House    0\n",
       "Location         0\n",
       "Method           0\n",
       "Name             0\n",
       "Season           0\n",
       "dtype: int64"
      ]
     },
     "execution_count": 34,
     "metadata": {},
     "output_type": "execute_result"
    }
   ],
   "source": [
    "only_deaths.isna().sum()"
   ]
  },
  {
   "cell_type": "code",
   "execution_count": 43,
   "id": "77d3bc23",
   "metadata": {
    "ExecuteTime": {
     "end_time": "2023-11-27T11:03:49.892300Z",
     "start_time": "2023-11-27T11:03:49.861419Z"
    }
   },
   "outputs": [
    {
     "name": "stdout",
     "output_type": "stream",
     "text": [
      "Allegiance    nunique: 41\n",
      "/n\n",
      "House Lannister                      835\n",
      "None                                 432\n",
      "House Stark                          121\n",
      "Free Folk                            121\n",
      "Night's Watch                         79\n",
      "House Bolton                          68\n",
      "Sons of the Harpy                     68\n",
      "House Targaryen                       68\n",
      "House Baratheon of Dragonstone        67\n",
      "House Frey                            62\n",
      "Faith Militant                        52\n",
      "Smallfolk                             44\n",
      "House Greyjoy                         41\n",
      "Dothraki                              23\n",
      "House Baratheon of King's Landing     22\n",
      "The Masters                           14\n",
      "The Thirteen                          12\n",
      "Wise Masters                          12\n",
      "Brotherhood Without Banners           10\n",
      "House Mormont                          8\n",
      "House Martell                          8\n",
      "Good Masters                           7\n",
      "House Baelish                          6\n",
      "Great Masters                          6\n",
      "Children of the Forest                 6\n",
      "House Tyrell                           4\n",
      "White Walkers                          3\n",
      "House Baratheon of Storm's End         3\n",
      "Sand Snakes                            3\n",
      "House Clegane                          3\n",
      "House Arryn                            3\n",
      "Second Sons                            2\n",
      "Faith of the Seven                     2\n",
      "House Umber                            2\n",
      "Lord of Light                          1\n",
      "House Tully                            1\n",
      "Order of Maesters                      1\n",
      "Warlocks of Qarth                      1\n",
      "House Hollard                          1\n",
      "House Moore                            1\n",
      "Faceless Men                           1\n",
      "Name: Allegiance, dtype: int64\n",
      "/n\n",
      "Death No.    nunique: 2224\n",
      "/n\n",
      "1       1\n",
      "1451    1\n",
      "1445    1\n",
      "1446    1\n",
      "1447    1\n",
      "       ..\n",
      "736     1\n",
      "735     1\n",
      "734     1\n",
      "733     1\n",
      "2224    1\n",
      "Name: Death No., Length: 2224, dtype: int64\n",
      "/n\n",
      "Episode    nunique: 10\n",
      "/n\n",
      "5     899\n",
      "9     400\n",
      "4     292\n",
      "10    249\n",
      "3      96\n",
      "1      90\n",
      "8      60\n",
      "2      56\n",
      "6      42\n",
      "7      40\n",
      "Name: Episode, dtype: int64\n",
      "/n\n",
      "Killer    nunique: 129\n",
      "/n\n",
      "Daenerys Targaryen    1008\n",
      "Cersei Lannister       199\n",
      "Arya Stark              68\n",
      "Wight                   54\n",
      "Jon Snow                51\n",
      "                      ... \n",
      "Selyse Florent           1\n",
      "Olenna Tyrell            1\n",
      "Walder Rivers            1\n",
      "The Tickler              1\n",
      "Qyburn                   1\n",
      "Name: Killer, Length: 129, dtype: int64\n",
      "/n\n",
      "Killers House    nunique: 33\n",
      "/n\n",
      "House Targaryen                      1148\n",
      "House Lannister                       296\n",
      "House Stark                           184\n",
      "White Walkers                          79\n",
      "House Bolton                           76\n",
      "Night's Watch                          69\n",
      "Free Folk                              62\n",
      "House Greyjoy                          44\n",
      "Sons of the Harpy                      38\n",
      "House Baratheon of King's Landing      34\n",
      "House Baratheon of Dragonstone         32\n",
      "None                                   30\n",
      "House Frey                             30\n",
      "House Clegane                          23\n",
      "House Tarth                            14\n",
      "Warlocks of Qarth                      11\n",
      "Lord of Light                           7\n",
      "House Umber                             7\n",
      "House Martell                           5\n",
      "House Tyrell                            5\n",
      "House Arryn                             5\n",
      "Dothraki                                4\n",
      "Sand Snakes                             3\n",
      "The Masters                             3\n",
      "Faceless Men                            3\n",
      "Brotherhood Without Banners             2\n",
      "Unknown                                 2\n",
      "House Baelish                           2\n",
      "House Karstark                          2\n",
      "Smallfolk                               1\n",
      "House Trant                             1\n",
      "House Payne                             1\n",
      "House Mormont                           1\n",
      "Name: Killers House, dtype: int64\n",
      "/n\n",
      "Location    nunique: 41\n",
      "/n\n",
      "King's Landing       1170\n",
      "Roseroad              207\n",
      "Winterfell            169\n",
      "Meereen               136\n",
      "The Twins              89\n",
      "Beyond the Wall        78\n",
      "Castle Black           66\n",
      "The Narrow Sea         35\n",
      "Riverlands             28\n",
      "The Wall               26\n",
      "Hardhome               23\n",
      "Casterly Rock          21\n",
      "Vaes Dothrak           18\n",
      "Dorne                  15\n",
      "Qarth                  15\n",
      "Yunkai                 13\n",
      "The Gift               13\n",
      "Dragonstone            13\n",
      "Eastern Road           12\n",
      "Dreadfort              11\n",
      "Mole's Town            10\n",
      "Astapor                 8\n",
      "Red Waste               7\n",
      "Braavos                 5\n",
      "Riverrun                5\n",
      "Unknown                 5\n",
      "Kingsroad               5\n",
      "Storm's End             3\n",
      "Harrenhal               3\n",
      "Robb Stark's camp       2\n",
      "Oxcross                 2\n",
      "The Eyrie               2\n",
      "Hollow Hill             1\n",
      "Moat Cailin             1\n",
      "The Vale                1\n",
      "Valyria                 1\n",
      "Lhazar                  1\n",
      "Iron Islands            1\n",
      "Highgarden              1\n",
      "Pentos                  1\n",
      "Last Hearth             1\n",
      "Name: Location, dtype: int64\n",
      "/n\n",
      "Method    nunique: 67\n",
      "/n\n",
      "Dragonfire (Dragon)    986\n",
      "Sword                  322\n",
      "Wildfire               210\n",
      "Knife                  119\n",
      "Arrow                   95\n",
      "                      ... \n",
      "Nail                     1\n",
      "Bludgeon                 1\n",
      "Moon Door                1\n",
      "Hanging                  1\n",
      "Illness                  1\n",
      "Name: Method, Length: 67, dtype: int64\n",
      "/n\n",
      "Name    nunique: 253\n",
      "/n\n",
      "Lannister soldier          439\n",
      "Golden Company soldier     374\n",
      "King's Landing Citizen     233\n",
      "King's Landing Noble       138\n",
      "Wildling                   106\n",
      "                          ... \n",
      "Joyeuse Frey                 1\n",
      "Catelyn Stark                1\n",
      "Lowell (King's Soldier)      1\n",
      "Polliver                     1\n",
      "Daenerys Targaryen           1\n",
      "Name: Name, Length: 253, dtype: int64\n",
      "/n\n",
      "Season    nunique: 8\n",
      "/n\n",
      "8    892\n",
      "6    396\n",
      "7    334\n",
      "4    170\n",
      "5    158\n",
      "2    130\n",
      "3     86\n",
      "1     58\n",
      "Name: Season, dtype: int64\n",
      "/n\n"
     ]
    }
   ],
   "source": [
    "for col in only_deaths_cols:\n",
    "    print(col,'   nunique:',len(only_deaths[col].value_counts()))\n",
    "    print('/n')\n",
    "    print(only_deaths[col].value_counts())\n",
    "    print('/n')"
   ]
  },
  {
   "cell_type": "code",
   "execution_count": 44,
   "id": "432e47fb",
   "metadata": {
    "ExecuteTime": {
     "end_time": "2023-11-27T11:05:30.530169Z",
     "start_time": "2023-11-27T11:05:30.521175Z"
    }
   },
   "outputs": [
    {
     "data": {
      "text/plain": [
       "Index(['Allegiance', 'Death No.', 'Episode', 'Killer', 'Killers House',\n",
       "       'Location', 'Method', 'Name', 'Season'],\n",
       "      dtype='object')"
      ]
     },
     "execution_count": 44,
     "metadata": {},
     "output_type": "execute_result"
    }
   ],
   "source": [
    "only_deaths_cols"
   ]
  },
  {
   "cell_type": "code",
   "execution_count": 45,
   "id": "017d696c",
   "metadata": {
    "ExecuteTime": {
     "end_time": "2023-11-27T11:05:52.106904Z",
     "start_time": "2023-11-27T11:05:52.097447Z"
    }
   },
   "outputs": [
    {
     "data": {
      "text/plain": [
       "(2224, 9)"
      ]
     },
     "execution_count": 45,
     "metadata": {},
     "output_type": "execute_result"
    }
   ],
   "source": [
    "only_deaths_shape"
   ]
  },
  {
   "cell_type": "code",
   "execution_count": 71,
   "id": "c875bae3",
   "metadata": {
    "ExecuteTime": {
     "end_time": "2023-11-27T11:36:25.607379Z",
     "start_time": "2023-11-27T11:36:25.594245Z"
    }
   },
   "outputs": [
    {
     "data": {
      "text/plain": [
       "389"
      ]
     },
     "execution_count": 71,
     "metadata": {},
     "output_type": "execute_result"
    }
   ],
   "source": [
    "#get rows that have \"King's Landing\" on name\n",
    "only_deaths['Name'].str.contains(\"King's Landing\").sum()\n"
   ]
  },
  {
   "cell_type": "code",
   "execution_count": 109,
   "id": "20a13e53",
   "metadata": {
    "ExecuteTime": {
     "end_time": "2023-11-27T11:53:04.608071Z",
     "start_time": "2023-11-27T11:53:04.602921Z"
    }
   },
   "outputs": [],
   "source": [
    "only_deaths_cols = only_deaths.columns"
   ]
  },
  {
   "cell_type": "code",
   "execution_count": 111,
   "id": "5dadea93",
   "metadata": {
    "ExecuteTime": {
     "end_time": "2023-11-27T11:53:21.456172Z",
     "start_time": "2023-11-27T11:53:21.450766Z"
    }
   },
   "outputs": [],
   "source": [
    "only_deaths_cols_without_deathno = only_deaths_cols.copy().to_list()\n"
   ]
  },
  {
   "cell_type": "code",
   "execution_count": 112,
   "id": "73518880",
   "metadata": {
    "ExecuteTime": {
     "end_time": "2023-11-27T11:53:30.234528Z",
     "start_time": "2023-11-27T11:53:30.227144Z"
    }
   },
   "outputs": [
    {
     "data": {
      "text/plain": [
       "['Allegiance',\n",
       " 'Death No.',\n",
       " 'Episode',\n",
       " 'Killer',\n",
       " 'Killers House',\n",
       " 'Location',\n",
       " 'Method',\n",
       " 'Name',\n",
       " 'Season']"
      ]
     },
     "execution_count": 112,
     "metadata": {},
     "output_type": "execute_result"
    }
   ],
   "source": [
    "only_deaths_cols_without_deathno"
   ]
  },
  {
   "cell_type": "code",
   "execution_count": 114,
   "id": "3db1527c",
   "metadata": {
    "ExecuteTime": {
     "end_time": "2023-11-27T11:53:42.822456Z",
     "start_time": "2023-11-27T11:53:42.817966Z"
    }
   },
   "outputs": [],
   "source": [
    "only_deaths_cols_without_deathno.remove('Death No.')"
   ]
  },
  {
   "cell_type": "code",
   "execution_count": 115,
   "id": "d286cbd4",
   "metadata": {
    "ExecuteTime": {
     "end_time": "2023-11-27T11:53:43.617179Z",
     "start_time": "2023-11-27T11:53:43.608397Z"
    }
   },
   "outputs": [
    {
     "data": {
      "text/plain": [
       "Index(['Allegiance', 'Death No.', 'Episode', 'Killer', 'Killers House',\n",
       "       'Location', 'Method', 'Name', 'Season'],\n",
       "      dtype='object')"
      ]
     },
     "execution_count": 115,
     "metadata": {},
     "output_type": "execute_result"
    }
   ],
   "source": [
    "only_deaths_cols"
   ]
  },
  {
   "cell_type": "code",
   "execution_count": 116,
   "id": "362db197",
   "metadata": {
    "ExecuteTime": {
     "end_time": "2023-11-27T11:53:49.977337Z",
     "start_time": "2023-11-27T11:53:49.969242Z"
    }
   },
   "outputs": [
    {
     "data": {
      "text/plain": [
       "['Allegiance',\n",
       " 'Episode',\n",
       " 'Killer',\n",
       " 'Killers House',\n",
       " 'Location',\n",
       " 'Method',\n",
       " 'Name',\n",
       " 'Season']"
      ]
     },
     "execution_count": 116,
     "metadata": {},
     "output_type": "execute_result"
    }
   ],
   "source": [
    "only_deaths_cols_without_deathno"
   ]
  },
  {
   "cell_type": "code",
   "execution_count": 121,
   "id": "b05bc54a",
   "metadata": {
    "ExecuteTime": {
     "end_time": "2023-11-27T11:57:00.071139Z",
     "start_time": "2023-11-27T11:57:00.057497Z"
    }
   },
   "outputs": [
    {
     "data": {
      "text/plain": [
       "1737"
      ]
     },
     "execution_count": 121,
     "metadata": {},
     "output_type": "execute_result"
    }
   ],
   "source": [
    "only_deaths.duplicated(subset=only_deaths_cols_without_deathno).sum()"
   ]
  },
  {
   "cell_type": "code",
   "execution_count": 124,
   "id": "38739ebf",
   "metadata": {
    "ExecuteTime": {
     "end_time": "2023-11-27T11:57:24.434857Z",
     "start_time": "2023-11-27T11:57:24.427027Z"
    }
   },
   "outputs": [
    {
     "data": {
      "text/plain": [
       "(2224, 9)"
      ]
     },
     "execution_count": 124,
     "metadata": {},
     "output_type": "execute_result"
    }
   ],
   "source": [
    "only_deaths.shape"
   ]
  },
  {
   "cell_type": "code",
   "execution_count": 125,
   "id": "d2af2bb9",
   "metadata": {
    "ExecuteTime": {
     "end_time": "2023-11-27T12:00:13.636052Z",
     "start_time": "2023-11-27T12:00:13.626968Z"
    }
   },
   "outputs": [],
   "source": [
    "only_deaths_wo_deathno = only_deaths.drop('Death No.',axis=1)"
   ]
  },
  {
   "cell_type": "code",
   "execution_count": 129,
   "id": "55439ec8",
   "metadata": {
    "ExecuteTime": {
     "end_time": "2023-11-27T12:00:40.102980Z",
     "start_time": "2023-11-27T12:00:40.089342Z"
    }
   },
   "outputs": [
    {
     "data": {
      "text/plain": [
       "1737"
      ]
     },
     "execution_count": 129,
     "metadata": {},
     "output_type": "execute_result"
    }
   ],
   "source": [
    "only_deaths_wo_deathno.duplicated().sum()"
   ]
  },
  {
   "cell_type": "code",
   "execution_count": 130,
   "id": "a9dae7d1",
   "metadata": {
    "ExecuteTime": {
     "end_time": "2023-11-27T12:02:01.792171Z",
     "start_time": "2023-11-27T12:02:01.783456Z"
    }
   },
   "outputs": [
    {
     "data": {
      "text/plain": [
       "487"
      ]
     },
     "execution_count": 130,
     "metadata": {},
     "output_type": "execute_result"
    }
   ],
   "source": [
    "2224-1737"
   ]
  },
  {
   "cell_type": "markdown",
   "id": "1bdc3c08",
   "metadata": {},
   "source": [
    "## Character-deaths \n",
    "https://www.kaggle.com/datasets/mylesoneill/game-of-thrones/data\n",
    "\n",
    "\n",
    "two datasets: \n",
    "- character-deaths.csv\n",
    "- **character-predictions.csv --> death until season 4**"
   ]
  },
  {
   "cell_type": "markdown",
   "id": "a35986bb",
   "metadata": {},
   "source": [
    "### character-deaths.csv"
   ]
  },
  {
   "cell_type": "code",
   "execution_count": 17,
   "id": "d6b5047f",
   "metadata": {
    "ExecuteTime": {
     "end_time": "2023-11-27T10:44:36.460297Z",
     "start_time": "2023-11-27T10:44:36.441373Z"
    }
   },
   "outputs": [],
   "source": [
    "char_deaths = pd.read_csv('data/archive/character-deaths.csv')"
   ]
  },
  {
   "cell_type": "code",
   "execution_count": 18,
   "id": "f691ebb7",
   "metadata": {
    "ExecuteTime": {
     "end_time": "2023-11-27T10:44:43.199581Z",
     "start_time": "2023-11-27T10:44:43.167526Z"
    }
   },
   "outputs": [
    {
     "data": {
      "text/html": [
       "<div>\n",
       "<style scoped>\n",
       "    .dataframe tbody tr th:only-of-type {\n",
       "        vertical-align: middle;\n",
       "    }\n",
       "\n",
       "    .dataframe tbody tr th {\n",
       "        vertical-align: top;\n",
       "    }\n",
       "\n",
       "    .dataframe thead th {\n",
       "        text-align: right;\n",
       "    }\n",
       "</style>\n",
       "<table border=\"1\" class=\"dataframe\">\n",
       "  <thead>\n",
       "    <tr style=\"text-align: right;\">\n",
       "      <th></th>\n",
       "      <th>Name</th>\n",
       "      <th>Allegiances</th>\n",
       "      <th>Death Year</th>\n",
       "      <th>Book of Death</th>\n",
       "      <th>Death Chapter</th>\n",
       "      <th>Book Intro Chapter</th>\n",
       "      <th>Gender</th>\n",
       "      <th>Nobility</th>\n",
       "      <th>GoT</th>\n",
       "      <th>CoK</th>\n",
       "      <th>SoS</th>\n",
       "      <th>FfC</th>\n",
       "      <th>DwD</th>\n",
       "    </tr>\n",
       "  </thead>\n",
       "  <tbody>\n",
       "    <tr>\n",
       "      <th>0</th>\n",
       "      <td>Addam Marbrand</td>\n",
       "      <td>Lannister</td>\n",
       "      <td>NaN</td>\n",
       "      <td>NaN</td>\n",
       "      <td>NaN</td>\n",
       "      <td>56.0</td>\n",
       "      <td>1</td>\n",
       "      <td>1</td>\n",
       "      <td>1</td>\n",
       "      <td>1</td>\n",
       "      <td>1</td>\n",
       "      <td>1</td>\n",
       "      <td>0</td>\n",
       "    </tr>\n",
       "    <tr>\n",
       "      <th>1</th>\n",
       "      <td>Aegon Frey (Jinglebell)</td>\n",
       "      <td>None</td>\n",
       "      <td>299.0</td>\n",
       "      <td>3.0</td>\n",
       "      <td>51.0</td>\n",
       "      <td>49.0</td>\n",
       "      <td>1</td>\n",
       "      <td>1</td>\n",
       "      <td>0</td>\n",
       "      <td>0</td>\n",
       "      <td>1</td>\n",
       "      <td>0</td>\n",
       "      <td>0</td>\n",
       "    </tr>\n",
       "    <tr>\n",
       "      <th>2</th>\n",
       "      <td>Aegon Targaryen</td>\n",
       "      <td>House Targaryen</td>\n",
       "      <td>NaN</td>\n",
       "      <td>NaN</td>\n",
       "      <td>NaN</td>\n",
       "      <td>5.0</td>\n",
       "      <td>1</td>\n",
       "      <td>1</td>\n",
       "      <td>0</td>\n",
       "      <td>0</td>\n",
       "      <td>0</td>\n",
       "      <td>0</td>\n",
       "      <td>1</td>\n",
       "    </tr>\n",
       "    <tr>\n",
       "      <th>3</th>\n",
       "      <td>Adrack Humble</td>\n",
       "      <td>House Greyjoy</td>\n",
       "      <td>300.0</td>\n",
       "      <td>5.0</td>\n",
       "      <td>20.0</td>\n",
       "      <td>20.0</td>\n",
       "      <td>1</td>\n",
       "      <td>1</td>\n",
       "      <td>0</td>\n",
       "      <td>0</td>\n",
       "      <td>0</td>\n",
       "      <td>0</td>\n",
       "      <td>1</td>\n",
       "    </tr>\n",
       "    <tr>\n",
       "      <th>4</th>\n",
       "      <td>Aemon Costayne</td>\n",
       "      <td>Lannister</td>\n",
       "      <td>NaN</td>\n",
       "      <td>NaN</td>\n",
       "      <td>NaN</td>\n",
       "      <td>NaN</td>\n",
       "      <td>1</td>\n",
       "      <td>1</td>\n",
       "      <td>0</td>\n",
       "      <td>0</td>\n",
       "      <td>1</td>\n",
       "      <td>0</td>\n",
       "      <td>0</td>\n",
       "    </tr>\n",
       "    <tr>\n",
       "      <th>...</th>\n",
       "      <td>...</td>\n",
       "      <td>...</td>\n",
       "      <td>...</td>\n",
       "      <td>...</td>\n",
       "      <td>...</td>\n",
       "      <td>...</td>\n",
       "      <td>...</td>\n",
       "      <td>...</td>\n",
       "      <td>...</td>\n",
       "      <td>...</td>\n",
       "      <td>...</td>\n",
       "      <td>...</td>\n",
       "      <td>...</td>\n",
       "    </tr>\n",
       "    <tr>\n",
       "      <th>912</th>\n",
       "      <td>Zollo</td>\n",
       "      <td>None</td>\n",
       "      <td>NaN</td>\n",
       "      <td>NaN</td>\n",
       "      <td>NaN</td>\n",
       "      <td>21.0</td>\n",
       "      <td>1</td>\n",
       "      <td>0</td>\n",
       "      <td>0</td>\n",
       "      <td>0</td>\n",
       "      <td>1</td>\n",
       "      <td>0</td>\n",
       "      <td>0</td>\n",
       "    </tr>\n",
       "    <tr>\n",
       "      <th>913</th>\n",
       "      <td>Yurkhaz zo Yunzak</td>\n",
       "      <td>None</td>\n",
       "      <td>300.0</td>\n",
       "      <td>5.0</td>\n",
       "      <td>59.0</td>\n",
       "      <td>47.0</td>\n",
       "      <td>1</td>\n",
       "      <td>0</td>\n",
       "      <td>0</td>\n",
       "      <td>0</td>\n",
       "      <td>0</td>\n",
       "      <td>0</td>\n",
       "      <td>1</td>\n",
       "    </tr>\n",
       "    <tr>\n",
       "      <th>914</th>\n",
       "      <td>Yezzan Zo Qaggaz</td>\n",
       "      <td>None</td>\n",
       "      <td>300.0</td>\n",
       "      <td>5.0</td>\n",
       "      <td>57.0</td>\n",
       "      <td>25.0</td>\n",
       "      <td>1</td>\n",
       "      <td>1</td>\n",
       "      <td>0</td>\n",
       "      <td>0</td>\n",
       "      <td>0</td>\n",
       "      <td>0</td>\n",
       "      <td>1</td>\n",
       "    </tr>\n",
       "    <tr>\n",
       "      <th>915</th>\n",
       "      <td>Torwynd the Tame</td>\n",
       "      <td>Wildling</td>\n",
       "      <td>300.0</td>\n",
       "      <td>5.0</td>\n",
       "      <td>73.0</td>\n",
       "      <td>73.0</td>\n",
       "      <td>1</td>\n",
       "      <td>0</td>\n",
       "      <td>0</td>\n",
       "      <td>0</td>\n",
       "      <td>1</td>\n",
       "      <td>0</td>\n",
       "      <td>0</td>\n",
       "    </tr>\n",
       "    <tr>\n",
       "      <th>916</th>\n",
       "      <td>Talbert Serry</td>\n",
       "      <td>Tyrell</td>\n",
       "      <td>300.0</td>\n",
       "      <td>4.0</td>\n",
       "      <td>29.0</td>\n",
       "      <td>29.0</td>\n",
       "      <td>1</td>\n",
       "      <td>1</td>\n",
       "      <td>0</td>\n",
       "      <td>0</td>\n",
       "      <td>0</td>\n",
       "      <td>1</td>\n",
       "      <td>0</td>\n",
       "    </tr>\n",
       "  </tbody>\n",
       "</table>\n",
       "<p>917 rows × 13 columns</p>\n",
       "</div>"
      ],
      "text/plain": [
       "                        Name      Allegiances  Death Year  Book of Death  \\\n",
       "0             Addam Marbrand        Lannister         NaN            NaN   \n",
       "1    Aegon Frey (Jinglebell)             None       299.0            3.0   \n",
       "2            Aegon Targaryen  House Targaryen         NaN            NaN   \n",
       "3              Adrack Humble    House Greyjoy       300.0            5.0   \n",
       "4             Aemon Costayne        Lannister         NaN            NaN   \n",
       "..                       ...              ...         ...            ...   \n",
       "912                    Zollo             None         NaN            NaN   \n",
       "913        Yurkhaz zo Yunzak             None       300.0            5.0   \n",
       "914         Yezzan Zo Qaggaz             None       300.0            5.0   \n",
       "915         Torwynd the Tame         Wildling       300.0            5.0   \n",
       "916            Talbert Serry           Tyrell       300.0            4.0   \n",
       "\n",
       "     Death Chapter  Book Intro Chapter  Gender  Nobility  GoT  CoK  SoS  FfC  \\\n",
       "0              NaN                56.0       1         1    1    1    1    1   \n",
       "1             51.0                49.0       1         1    0    0    1    0   \n",
       "2              NaN                 5.0       1         1    0    0    0    0   \n",
       "3             20.0                20.0       1         1    0    0    0    0   \n",
       "4              NaN                 NaN       1         1    0    0    1    0   \n",
       "..             ...                 ...     ...       ...  ...  ...  ...  ...   \n",
       "912            NaN                21.0       1         0    0    0    1    0   \n",
       "913           59.0                47.0       1         0    0    0    0    0   \n",
       "914           57.0                25.0       1         1    0    0    0    0   \n",
       "915           73.0                73.0       1         0    0    0    1    0   \n",
       "916           29.0                29.0       1         1    0    0    0    1   \n",
       "\n",
       "     DwD  \n",
       "0      0  \n",
       "1      0  \n",
       "2      1  \n",
       "3      1  \n",
       "4      0  \n",
       "..   ...  \n",
       "912    0  \n",
       "913    1  \n",
       "914    1  \n",
       "915    0  \n",
       "916    0  \n",
       "\n",
       "[917 rows x 13 columns]"
      ]
     },
     "execution_count": 18,
     "metadata": {},
     "output_type": "execute_result"
    }
   ],
   "source": [
    "char_deaths"
   ]
  },
  {
   "cell_type": "code",
   "execution_count": 51,
   "id": "0b7d394d",
   "metadata": {
    "ExecuteTime": {
     "end_time": "2023-11-27T11:19:52.407695Z",
     "start_time": "2023-11-27T11:19:52.398234Z"
    }
   },
   "outputs": [
    {
     "data": {
      "text/plain": [
       "(917, 13)"
      ]
     },
     "execution_count": 51,
     "metadata": {},
     "output_type": "execute_result"
    }
   ],
   "source": [
    "char_deaths.shape"
   ]
  },
  {
   "cell_type": "code",
   "execution_count": 208,
   "id": "960320f7",
   "metadata": {
    "ExecuteTime": {
     "end_time": "2023-11-27T14:41:39.324930Z",
     "start_time": "2023-11-27T14:41:39.312051Z"
    }
   },
   "outputs": [
    {
     "data": {
      "text/plain": [
       "Name                    0\n",
       "Allegiances             0\n",
       "Death Year            612\n",
       "Book of Death         610\n",
       "Death Chapter         618\n",
       "Book Intro Chapter     12\n",
       "Gender                  0\n",
       "Nobility                0\n",
       "GoT                     0\n",
       "CoK                     0\n",
       "SoS                     0\n",
       "FfC                     0\n",
       "DwD                     0\n",
       "dtype: int64"
      ]
     },
     "execution_count": 208,
     "metadata": {},
     "output_type": "execute_result"
    }
   ],
   "source": [
    "char_deaths.isna().sum()"
   ]
  },
  {
   "cell_type": "markdown",
   "id": "8a1694b4",
   "metadata": {},
   "source": [
    "### character-predictions.csv"
   ]
  },
  {
   "cell_type": "markdown",
   "id": "a4950444",
   "metadata": {},
   "source": [
    "The **‘actual’** column contains the life or death state of the characters in the books.\n",
    "\n",
    "The **‘pred’** column contains the prediction of whether a character will live or die.\n",
    "\n",
    "The **‘alive’** column contains the probability of a character to stay alive.\n",
    "\n",
    "The **‘plod’** column contains the probability of a character’s death."
   ]
  },
  {
   "cell_type": "code",
   "execution_count": 210,
   "id": "cd196eb0",
   "metadata": {
    "ExecuteTime": {
     "end_time": "2023-11-27T14:48:15.748164Z",
     "start_time": "2023-11-27T14:48:15.728212Z"
    }
   },
   "outputs": [],
   "source": [
    "char_preds = pd.read_csv('data/archive/character-predictions.csv')"
   ]
  },
  {
   "cell_type": "code",
   "execution_count": 144,
   "id": "54311ffd",
   "metadata": {
    "ExecuteTime": {
     "end_time": "2023-11-27T12:29:46.482016Z",
     "start_time": "2023-11-27T12:29:46.473050Z"
    }
   },
   "outputs": [
    {
     "data": {
      "text/plain": [
       "Index(['name', 'title', 'male', 'culture', 'dateOfBirth', 'DateoFdeath',\n",
       "       'mother', 'father', 'heir', 'house', 'spouse', 'book1', 'book2',\n",
       "       'book3', 'book4', 'book5', 'isAliveMother', 'isAliveFather',\n",
       "       'isAliveHeir', 'isAliveSpouse', 'isMarried', 'isNoble', 'age',\n",
       "       'numDeadRelations', 'boolDeadRelations', 'isPopular', 'popularity',\n",
       "       'isAlive'],\n",
       "      dtype='object')"
      ]
     },
     "execution_count": 144,
     "metadata": {},
     "output_type": "execute_result"
    }
   ],
   "source": [
    "char_preds_cols = char_preds.columns\n",
    "char_preds_cols"
   ]
  },
  {
   "cell_type": "code",
   "execution_count": 161,
   "id": "0de77b19",
   "metadata": {
    "ExecuteTime": {
     "end_time": "2023-11-27T12:48:04.160798Z",
     "start_time": "2023-11-27T12:48:04.114844Z"
    },
    "collapsed": true
   },
   "outputs": [
    {
     "data": {
      "text/html": [
       "<div>\n",
       "<style scoped>\n",
       "    .dataframe tbody tr th:only-of-type {\n",
       "        vertical-align: middle;\n",
       "    }\n",
       "\n",
       "    .dataframe tbody tr th {\n",
       "        vertical-align: top;\n",
       "    }\n",
       "\n",
       "    .dataframe thead th {\n",
       "        text-align: right;\n",
       "    }\n",
       "</style>\n",
       "<table border=\"1\" class=\"dataframe\">\n",
       "  <thead>\n",
       "    <tr style=\"text-align: right;\">\n",
       "      <th></th>\n",
       "      <th>S.No</th>\n",
       "      <th>actual</th>\n",
       "      <th>pred</th>\n",
       "      <th>alive</th>\n",
       "      <th>plod</th>\n",
       "      <th>name</th>\n",
       "      <th>title</th>\n",
       "      <th>male</th>\n",
       "      <th>culture</th>\n",
       "      <th>dateOfBirth</th>\n",
       "      <th>...</th>\n",
       "      <th>isAliveHeir</th>\n",
       "      <th>isAliveSpouse</th>\n",
       "      <th>isMarried</th>\n",
       "      <th>isNoble</th>\n",
       "      <th>age</th>\n",
       "      <th>numDeadRelations</th>\n",
       "      <th>boolDeadRelations</th>\n",
       "      <th>isPopular</th>\n",
       "      <th>popularity</th>\n",
       "      <th>isAlive</th>\n",
       "    </tr>\n",
       "  </thead>\n",
       "  <tbody>\n",
       "    <tr>\n",
       "      <th>0</th>\n",
       "      <td>1</td>\n",
       "      <td>0</td>\n",
       "      <td>0</td>\n",
       "      <td>0.054</td>\n",
       "      <td>0.946</td>\n",
       "      <td>Viserys II Targaryen</td>\n",
       "      <td>NaN</td>\n",
       "      <td>1</td>\n",
       "      <td>NaN</td>\n",
       "      <td>NaN</td>\n",
       "      <td>...</td>\n",
       "      <td>0.0</td>\n",
       "      <td>NaN</td>\n",
       "      <td>0</td>\n",
       "      <td>0</td>\n",
       "      <td>NaN</td>\n",
       "      <td>11</td>\n",
       "      <td>1</td>\n",
       "      <td>1</td>\n",
       "      <td>0.605351</td>\n",
       "      <td>0</td>\n",
       "    </tr>\n",
       "    <tr>\n",
       "      <th>1</th>\n",
       "      <td>2</td>\n",
       "      <td>1</td>\n",
       "      <td>0</td>\n",
       "      <td>0.387</td>\n",
       "      <td>0.613</td>\n",
       "      <td>Walder Frey</td>\n",
       "      <td>Lord of the Crossing</td>\n",
       "      <td>1</td>\n",
       "      <td>Rivermen</td>\n",
       "      <td>208.0</td>\n",
       "      <td>...</td>\n",
       "      <td>NaN</td>\n",
       "      <td>1.0</td>\n",
       "      <td>1</td>\n",
       "      <td>1</td>\n",
       "      <td>97.0</td>\n",
       "      <td>1</td>\n",
       "      <td>1</td>\n",
       "      <td>1</td>\n",
       "      <td>0.896321</td>\n",
       "      <td>1</td>\n",
       "    </tr>\n",
       "    <tr>\n",
       "      <th>2</th>\n",
       "      <td>3</td>\n",
       "      <td>1</td>\n",
       "      <td>0</td>\n",
       "      <td>0.493</td>\n",
       "      <td>0.507</td>\n",
       "      <td>Addison Hill</td>\n",
       "      <td>Ser</td>\n",
       "      <td>1</td>\n",
       "      <td>NaN</td>\n",
       "      <td>NaN</td>\n",
       "      <td>...</td>\n",
       "      <td>NaN</td>\n",
       "      <td>NaN</td>\n",
       "      <td>0</td>\n",
       "      <td>1</td>\n",
       "      <td>NaN</td>\n",
       "      <td>0</td>\n",
       "      <td>0</td>\n",
       "      <td>0</td>\n",
       "      <td>0.267559</td>\n",
       "      <td>1</td>\n",
       "    </tr>\n",
       "    <tr>\n",
       "      <th>3</th>\n",
       "      <td>4</td>\n",
       "      <td>0</td>\n",
       "      <td>0</td>\n",
       "      <td>0.076</td>\n",
       "      <td>0.924</td>\n",
       "      <td>Aemma Arryn</td>\n",
       "      <td>Queen</td>\n",
       "      <td>0</td>\n",
       "      <td>NaN</td>\n",
       "      <td>82.0</td>\n",
       "      <td>...</td>\n",
       "      <td>NaN</td>\n",
       "      <td>0.0</td>\n",
       "      <td>1</td>\n",
       "      <td>1</td>\n",
       "      <td>23.0</td>\n",
       "      <td>0</td>\n",
       "      <td>0</td>\n",
       "      <td>0</td>\n",
       "      <td>0.183946</td>\n",
       "      <td>0</td>\n",
       "    </tr>\n",
       "    <tr>\n",
       "      <th>4</th>\n",
       "      <td>5</td>\n",
       "      <td>1</td>\n",
       "      <td>1</td>\n",
       "      <td>0.617</td>\n",
       "      <td>0.383</td>\n",
       "      <td>Sylva Santagar</td>\n",
       "      <td>Greenstone</td>\n",
       "      <td>0</td>\n",
       "      <td>Dornish</td>\n",
       "      <td>276.0</td>\n",
       "      <td>...</td>\n",
       "      <td>NaN</td>\n",
       "      <td>1.0</td>\n",
       "      <td>1</td>\n",
       "      <td>1</td>\n",
       "      <td>29.0</td>\n",
       "      <td>0</td>\n",
       "      <td>0</td>\n",
       "      <td>0</td>\n",
       "      <td>0.043478</td>\n",
       "      <td>1</td>\n",
       "    </tr>\n",
       "    <tr>\n",
       "      <th>...</th>\n",
       "      <td>...</td>\n",
       "      <td>...</td>\n",
       "      <td>...</td>\n",
       "      <td>...</td>\n",
       "      <td>...</td>\n",
       "      <td>...</td>\n",
       "      <td>...</td>\n",
       "      <td>...</td>\n",
       "      <td>...</td>\n",
       "      <td>...</td>\n",
       "      <td>...</td>\n",
       "      <td>...</td>\n",
       "      <td>...</td>\n",
       "      <td>...</td>\n",
       "      <td>...</td>\n",
       "      <td>...</td>\n",
       "      <td>...</td>\n",
       "      <td>...</td>\n",
       "      <td>...</td>\n",
       "      <td>...</td>\n",
       "      <td>...</td>\n",
       "    </tr>\n",
       "    <tr>\n",
       "      <th>1941</th>\n",
       "      <td>1942</td>\n",
       "      <td>0</td>\n",
       "      <td>1</td>\n",
       "      <td>0.803</td>\n",
       "      <td>0.197</td>\n",
       "      <td>Luwin</td>\n",
       "      <td>NaN</td>\n",
       "      <td>1</td>\n",
       "      <td>Westeros</td>\n",
       "      <td>NaN</td>\n",
       "      <td>...</td>\n",
       "      <td>NaN</td>\n",
       "      <td>NaN</td>\n",
       "      <td>0</td>\n",
       "      <td>0</td>\n",
       "      <td>NaN</td>\n",
       "      <td>0</td>\n",
       "      <td>0</td>\n",
       "      <td>1</td>\n",
       "      <td>0.351171</td>\n",
       "      <td>0</td>\n",
       "    </tr>\n",
       "    <tr>\n",
       "      <th>1942</th>\n",
       "      <td>1943</td>\n",
       "      <td>0</td>\n",
       "      <td>1</td>\n",
       "      <td>0.987</td>\n",
       "      <td>0.013</td>\n",
       "      <td>Reek</td>\n",
       "      <td>NaN</td>\n",
       "      <td>1</td>\n",
       "      <td>NaN</td>\n",
       "      <td>NaN</td>\n",
       "      <td>...</td>\n",
       "      <td>NaN</td>\n",
       "      <td>NaN</td>\n",
       "      <td>0</td>\n",
       "      <td>0</td>\n",
       "      <td>NaN</td>\n",
       "      <td>0</td>\n",
       "      <td>0</td>\n",
       "      <td>0</td>\n",
       "      <td>0.096990</td>\n",
       "      <td>0</td>\n",
       "    </tr>\n",
       "    <tr>\n",
       "      <th>1943</th>\n",
       "      <td>1944</td>\n",
       "      <td>1</td>\n",
       "      <td>1</td>\n",
       "      <td>0.520</td>\n",
       "      <td>0.480</td>\n",
       "      <td>Symeon Star-Eyes</td>\n",
       "      <td>NaN</td>\n",
       "      <td>1</td>\n",
       "      <td>NaN</td>\n",
       "      <td>NaN</td>\n",
       "      <td>...</td>\n",
       "      <td>NaN</td>\n",
       "      <td>NaN</td>\n",
       "      <td>0</td>\n",
       "      <td>0</td>\n",
       "      <td>NaN</td>\n",
       "      <td>0</td>\n",
       "      <td>0</td>\n",
       "      <td>0</td>\n",
       "      <td>0.030100</td>\n",
       "      <td>1</td>\n",
       "    </tr>\n",
       "    <tr>\n",
       "      <th>1944</th>\n",
       "      <td>1945</td>\n",
       "      <td>1</td>\n",
       "      <td>1</td>\n",
       "      <td>0.637</td>\n",
       "      <td>0.363</td>\n",
       "      <td>Coldhands</td>\n",
       "      <td>NaN</td>\n",
       "      <td>1</td>\n",
       "      <td>NaN</td>\n",
       "      <td>NaN</td>\n",
       "      <td>...</td>\n",
       "      <td>NaN</td>\n",
       "      <td>NaN</td>\n",
       "      <td>0</td>\n",
       "      <td>0</td>\n",
       "      <td>NaN</td>\n",
       "      <td>0</td>\n",
       "      <td>0</td>\n",
       "      <td>0</td>\n",
       "      <td>0.130435</td>\n",
       "      <td>1</td>\n",
       "    </tr>\n",
       "    <tr>\n",
       "      <th>1945</th>\n",
       "      <td>1946</td>\n",
       "      <td>0</td>\n",
       "      <td>0</td>\n",
       "      <td>0.093</td>\n",
       "      <td>0.907</td>\n",
       "      <td>Tytos Lannister</td>\n",
       "      <td>Casterly Rock</td>\n",
       "      <td>1</td>\n",
       "      <td>NaN</td>\n",
       "      <td>220.0</td>\n",
       "      <td>...</td>\n",
       "      <td>NaN</td>\n",
       "      <td>1.0</td>\n",
       "      <td>1</td>\n",
       "      <td>1</td>\n",
       "      <td>47.0</td>\n",
       "      <td>4</td>\n",
       "      <td>1</td>\n",
       "      <td>0</td>\n",
       "      <td>0.210702</td>\n",
       "      <td>0</td>\n",
       "    </tr>\n",
       "  </tbody>\n",
       "</table>\n",
       "<p>1946 rows × 33 columns</p>\n",
       "</div>"
      ],
      "text/plain": [
       "      S.No  actual  pred  alive   plod                  name  \\\n",
       "0        1       0     0  0.054  0.946  Viserys II Targaryen   \n",
       "1        2       1     0  0.387  0.613           Walder Frey   \n",
       "2        3       1     0  0.493  0.507          Addison Hill   \n",
       "3        4       0     0  0.076  0.924           Aemma Arryn   \n",
       "4        5       1     1  0.617  0.383        Sylva Santagar   \n",
       "...    ...     ...   ...    ...    ...                   ...   \n",
       "1941  1942       0     1  0.803  0.197                 Luwin   \n",
       "1942  1943       0     1  0.987  0.013                  Reek   \n",
       "1943  1944       1     1  0.520  0.480      Symeon Star-Eyes   \n",
       "1944  1945       1     1  0.637  0.363             Coldhands   \n",
       "1945  1946       0     0  0.093  0.907       Tytos Lannister   \n",
       "\n",
       "                     title  male   culture  dateOfBirth  ...  isAliveHeir  \\\n",
       "0                      NaN     1       NaN          NaN  ...          0.0   \n",
       "1     Lord of the Crossing     1  Rivermen        208.0  ...          NaN   \n",
       "2                      Ser     1       NaN          NaN  ...          NaN   \n",
       "3                    Queen     0       NaN         82.0  ...          NaN   \n",
       "4               Greenstone     0   Dornish        276.0  ...          NaN   \n",
       "...                    ...   ...       ...          ...  ...          ...   \n",
       "1941                   NaN     1  Westeros          NaN  ...          NaN   \n",
       "1942                   NaN     1       NaN          NaN  ...          NaN   \n",
       "1943                   NaN     1       NaN          NaN  ...          NaN   \n",
       "1944                   NaN     1       NaN          NaN  ...          NaN   \n",
       "1945         Casterly Rock     1       NaN        220.0  ...          NaN   \n",
       "\n",
       "     isAliveSpouse isMarried isNoble   age numDeadRelations  \\\n",
       "0              NaN         0       0   NaN               11   \n",
       "1              1.0         1       1  97.0                1   \n",
       "2              NaN         0       1   NaN                0   \n",
       "3              0.0         1       1  23.0                0   \n",
       "4              1.0         1       1  29.0                0   \n",
       "...            ...       ...     ...   ...              ...   \n",
       "1941           NaN         0       0   NaN                0   \n",
       "1942           NaN         0       0   NaN                0   \n",
       "1943           NaN         0       0   NaN                0   \n",
       "1944           NaN         0       0   NaN                0   \n",
       "1945           1.0         1       1  47.0                4   \n",
       "\n",
       "      boolDeadRelations  isPopular  popularity  isAlive  \n",
       "0                     1          1    0.605351        0  \n",
       "1                     1          1    0.896321        1  \n",
       "2                     0          0    0.267559        1  \n",
       "3                     0          0    0.183946        0  \n",
       "4                     0          0    0.043478        1  \n",
       "...                 ...        ...         ...      ...  \n",
       "1941                  0          1    0.351171        0  \n",
       "1942                  0          0    0.096990        0  \n",
       "1943                  0          0    0.030100        1  \n",
       "1944                  0          0    0.130435        1  \n",
       "1945                  1          0    0.210702        0  \n",
       "\n",
       "[1946 rows x 33 columns]"
      ]
     },
     "execution_count": 161,
     "metadata": {},
     "output_type": "execute_result"
    }
   ],
   "source": [
    "char_preds"
   ]
  },
  {
   "cell_type": "code",
   "execution_count": 211,
   "id": "73b785d0",
   "metadata": {
    "ExecuteTime": {
     "end_time": "2023-11-27T14:48:19.860417Z",
     "start_time": "2023-11-27T14:48:19.855989Z"
    }
   },
   "outputs": [],
   "source": [
    "char_preds_droped_cols=['S.No', 'pred', 'actual','alive','plod']"
   ]
  },
  {
   "cell_type": "code",
   "execution_count": 143,
   "id": "e9a84b33",
   "metadata": {
    "ExecuteTime": {
     "end_time": "2023-11-27T12:29:43.960386Z",
     "start_time": "2023-11-27T12:29:43.952265Z"
    }
   },
   "outputs": [
    {
     "data": {
      "text/plain": [
       "(1946, 28)"
      ]
     },
     "execution_count": 143,
     "metadata": {},
     "output_type": "execute_result"
    }
   ],
   "source": [
    "char_preds_shape = char_preds.shape\n",
    "char_preds_shape"
   ]
  },
  {
   "cell_type": "code",
   "execution_count": 145,
   "id": "d45470a6",
   "metadata": {
    "ExecuteTime": {
     "end_time": "2023-11-27T12:30:12.684951Z",
     "start_time": "2023-11-27T12:30:12.656558Z"
    }
   },
   "outputs": [
    {
     "name": "stdout",
     "output_type": "stream",
     "text": [
      "<class 'pandas.core.frame.DataFrame'>\n",
      "RangeIndex: 1946 entries, 0 to 1945\n",
      "Data columns (total 28 columns):\n",
      " #   Column             Non-Null Count  Dtype  \n",
      "---  ------             --------------  -----  \n",
      " 0   name               1946 non-null   object \n",
      " 1   title              938 non-null    object \n",
      " 2   male               1946 non-null   int64  \n",
      " 3   culture            677 non-null    object \n",
      " 4   dateOfBirth        433 non-null    float64\n",
      " 5   DateoFdeath        444 non-null    float64\n",
      " 6   mother             21 non-null     object \n",
      " 7   father             26 non-null     object \n",
      " 8   heir               23 non-null     object \n",
      " 9   house              1519 non-null   object \n",
      " 10  spouse             276 non-null    object \n",
      " 11  book1              1946 non-null   int64  \n",
      " 12  book2              1946 non-null   int64  \n",
      " 13  book3              1946 non-null   int64  \n",
      " 14  book4              1946 non-null   int64  \n",
      " 15  book5              1946 non-null   int64  \n",
      " 16  isAliveMother      21 non-null     float64\n",
      " 17  isAliveFather      26 non-null     float64\n",
      " 18  isAliveHeir        23 non-null     float64\n",
      " 19  isAliveSpouse      276 non-null    float64\n",
      " 20  isMarried          1946 non-null   int64  \n",
      " 21  isNoble            1946 non-null   int64  \n",
      " 22  age                433 non-null    float64\n",
      " 23  numDeadRelations   1946 non-null   int64  \n",
      " 24  boolDeadRelations  1946 non-null   int64  \n",
      " 25  isPopular          1946 non-null   int64  \n",
      " 26  popularity         1946 non-null   float64\n",
      " 27  isAlive            1946 non-null   int64  \n",
      "dtypes: float64(8), int64(12), object(8)\n",
      "memory usage: 425.8+ KB\n"
     ]
    }
   ],
   "source": [
    "char_preds.info()"
   ]
  },
  {
   "cell_type": "code",
   "execution_count": 212,
   "id": "1f00602f",
   "metadata": {
    "ExecuteTime": {
     "end_time": "2023-11-27T14:48:23.392136Z",
     "start_time": "2023-11-27T14:48:23.384820Z"
    }
   },
   "outputs": [],
   "source": [
    "char_preds_droped_cols = char_preds_droped_cols + ['isPopular','culture','dateOfBirth','DateoFdeath', 'age', 'title','mother','father','heir','spouse','isAliveMother','isAliveFather','isAliveHeir','isAliveSpouse']"
   ]
  },
  {
   "cell_type": "code",
   "execution_count": 213,
   "id": "12f8f66e",
   "metadata": {
    "ExecuteTime": {
     "end_time": "2023-11-27T14:48:24.237275Z",
     "start_time": "2023-11-27T14:48:24.230455Z"
    }
   },
   "outputs": [],
   "source": [
    "char_preds.drop(labels=char_preds_droped_cols, axis=1, inplace=True)"
   ]
  },
  {
   "cell_type": "code",
   "execution_count": 214,
   "id": "e739cc30",
   "metadata": {
    "ExecuteTime": {
     "end_time": "2023-11-27T14:48:25.246231Z",
     "start_time": "2023-11-27T14:48:25.231683Z"
    }
   },
   "outputs": [
    {
     "data": {
      "text/plain": [
       "0"
      ]
     },
     "execution_count": 214,
     "metadata": {},
     "output_type": "execute_result"
    }
   ],
   "source": [
    "char_preds.duplicated().sum()"
   ]
  },
  {
   "cell_type": "markdown",
   "id": "19e0430d",
   "metadata": {},
   "source": [
    "** Deleted: culture,dateOfBirth,DateoFdeath,age**\n",
    "\n",
    "We could keep them only if the webscrapping can fill the NAs\n",
    "\n",
    "Feature               NAs\n",
    "\n",
    "culture              1269\n",
    "\n",
    "dateOfBirth          1513\n",
    "\n",
    "DateoFdeath          1502\n",
    "\n",
    "age                  1513"
   ]
  },
  {
   "cell_type": "markdown",
   "id": "cd44c856",
   "metadata": {},
   "source": [
    "We leave the culture for the age character history but not for the model prediction"
   ]
  },
  {
   "cell_type": "code",
   "execution_count": 215,
   "id": "9f2969eb",
   "metadata": {
    "ExecuteTime": {
     "end_time": "2023-11-27T14:48:34.995030Z",
     "start_time": "2023-11-27T14:48:34.990286Z"
    }
   },
   "outputs": [],
   "source": [
    "#char_preds.culture.value_counts()"
   ]
  },
  {
   "cell_type": "code",
   "execution_count": 216,
   "id": "39961799",
   "metadata": {
    "ExecuteTime": {
     "end_time": "2023-11-27T14:48:35.514817Z",
     "start_time": "2023-11-27T14:48:35.503342Z"
    }
   },
   "outputs": [
    {
     "data": {
      "text/plain": [
       "Night's Watch      105\n",
       "House Frey          97\n",
       "House Stark         72\n",
       "House Targaryen     62\n",
       "House Lannister     49\n",
       "                  ... \n",
       "House Gower          1\n",
       "House Borrell        1\n",
       "Citadel              1\n",
       "Wise Masters         1\n",
       "Three-eyed crow      1\n",
       "Name: house, Length: 347, dtype: int64"
      ]
     },
     "execution_count": 216,
     "metadata": {},
     "output_type": "execute_result"
    }
   ],
   "source": [
    "char_preds.house.value_counts()"
   ]
  },
  {
   "cell_type": "code",
   "execution_count": 217,
   "id": "b61d40bd",
   "metadata": {
    "ExecuteTime": {
     "end_time": "2023-11-27T14:48:36.477510Z",
     "start_time": "2023-11-27T14:48:36.470973Z"
    }
   },
   "outputs": [],
   "source": [
    "char_preds[\"house\"]=char_preds[\"house\"].fillna(\"No house\")"
   ]
  },
  {
   "cell_type": "code",
   "execution_count": 218,
   "id": "94e719ba",
   "metadata": {
    "ExecuteTime": {
     "end_time": "2023-11-27T14:48:37.154352Z",
     "start_time": "2023-11-27T14:48:37.142072Z"
    }
   },
   "outputs": [
    {
     "data": {
      "text/plain": [
       "name                 0\n",
       "male                 0\n",
       "house                0\n",
       "book1                0\n",
       "book2                0\n",
       "book3                0\n",
       "book4                0\n",
       "book5                0\n",
       "isMarried            0\n",
       "isNoble              0\n",
       "numDeadRelations     0\n",
       "boolDeadRelations    0\n",
       "popularity           0\n",
       "isAlive              0\n",
       "dtype: int64"
      ]
     },
     "execution_count": 218,
     "metadata": {},
     "output_type": "execute_result"
    }
   ],
   "source": [
    "char_preds.isna().sum()"
   ]
  },
  {
   "cell_type": "code",
   "execution_count": 246,
   "id": "1c6d6005",
   "metadata": {
    "ExecuteTime": {
     "end_time": "2023-11-27T15:03:26.537599Z",
     "start_time": "2023-11-27T15:03:26.254058Z"
    }
   },
   "outputs": [
    {
     "data": {
      "text/plain": [
       "<AxesSubplot:>"
      ]
     },
     "execution_count": 246,
     "metadata": {},
     "output_type": "execute_result"
    },
    {
     "data": {
      "image/png": "[encoded data removed]",
      "text/plain": [
       "<Figure size 640x480 with 1 Axes>"
      ]
     },
     "metadata": {},
     "output_type": "display_data"
    }
   ],
   "source": [
    "char_preds.boxplot(\"popularity\")"
   ]
  },
  {
   "cell_type": "code",
   "execution_count": 222,
   "id": "b8529c28",
   "metadata": {
    "ExecuteTime": {
     "end_time": "2023-11-27T14:49:01.020651Z",
     "start_time": "2023-11-27T14:49:00.765957Z"
    }
   },
   "outputs": [
    {
     "data": {
      "text/plain": [
       "<AxesSubplot:>"
      ]
     },
     "execution_count": 222,
     "metadata": {},
     "output_type": "execute_result"
    },
    {
     "data": {
      "image/png": "[encoded data removed]",
      "text/plain": [
       "<Figure size 640x480 with 1 Axes>"
      ]
     },
     "metadata": {},
     "output_type": "display_data"
    }
   ],
   "source": [
    "char_preds.popularity.hist()"
   ]
  },
  {
   "cell_type": "code",
   "execution_count": 225,
   "id": "53e4fc5c",
   "metadata": {
    "ExecuteTime": {
     "end_time": "2023-11-27T14:49:54.583287Z",
     "start_time": "2023-11-27T14:49:54.556785Z"
    }
   },
   "outputs": [],
   "source": [
    "#char_preds.to_csv('data/20231127_char_pred.csv')  "
   ]
  },
  {
   "cell_type": "code",
   "execution_count": 227,
   "id": "44ce40d7",
   "metadata": {
    "ExecuteTime": {
     "end_time": "2023-11-27T14:49:58.752509Z",
     "start_time": "2023-11-27T14:49:58.612025Z"
    }
   },
   "outputs": [
    {
     "name": "stdout",
     "output_type": "stream",
     "text": [
      "20231127_char_pred.csv     game-of-thones-deaths.xlsx\r\n",
      "\u001b[1m\u001b[36marchive\u001b[m\u001b[m                    only_dead.xlsx\r\n"
     ]
    }
   ],
   "source": [
    "#!ls data"
   ]
  },
  {
   "cell_type": "code",
   "execution_count": 229,
   "id": "cfec791f",
   "metadata": {
    "ExecuteTime": {
     "end_time": "2023-11-27T14:53:19.543656Z",
     "start_time": "2023-11-27T14:53:19.509929Z"
    }
   },
   "outputs": [
    {
     "name": "stdout",
     "output_type": "stream",
     "text": [
      "<class 'pandas.core.frame.DataFrame'>\n",
      "RangeIndex: 1946 entries, 0 to 1945\n",
      "Data columns (total 14 columns):\n",
      " #   Column             Non-Null Count  Dtype  \n",
      "---  ------             --------------  -----  \n",
      " 0   name               1946 non-null   object \n",
      " 1   male               1946 non-null   int64  \n",
      " 2   house              1946 non-null   object \n",
      " 3   book1              1946 non-null   int64  \n",
      " 4   book2              1946 non-null   int64  \n",
      " 5   book3              1946 non-null   int64  \n",
      " 6   book4              1946 non-null   int64  \n",
      " 7   book5              1946 non-null   int64  \n",
      " 8   isMarried          1946 non-null   int64  \n",
      " 9   isNoble            1946 non-null   int64  \n",
      " 10  numDeadRelations   1946 non-null   int64  \n",
      " 11  boolDeadRelations  1946 non-null   int64  \n",
      " 12  popularity         1946 non-null   float64\n",
      " 13  isAlive            1946 non-null   int64  \n",
      "dtypes: float64(1), int64(11), object(2)\n",
      "memory usage: 213.0+ KB\n"
     ]
    }
   ],
   "source": [
    "char_preds.info()"
   ]
  },
  {
   "cell_type": "code",
   "execution_count": 231,
   "id": "53a3ede4",
   "metadata": {
    "ExecuteTime": {
     "end_time": "2023-11-27T14:55:49.088547Z",
     "start_time": "2023-11-27T14:55:49.078046Z"
    }
   },
   "outputs": [
    {
     "data": {
      "text/plain": [
       "1    1205\n",
       "0     741\n",
       "Name: male, dtype: int64"
      ]
     },
     "execution_count": 231,
     "metadata": {},
     "output_type": "execute_result"
    }
   ],
   "source": [
    "char_preds.male.value_counts()"
   ]
  },
  {
   "cell_type": "code",
   "execution_count": 232,
   "id": "6536d3d5",
   "metadata": {
    "ExecuteTime": {
     "end_time": "2023-11-27T14:55:57.879380Z",
     "start_time": "2023-11-27T14:55:57.852150Z"
    }
   },
   "outputs": [
    {
     "data": {
      "text/plain": [
       "No house           427\n",
       "Night's Watch      105\n",
       "House Frey          97\n",
       "House Stark         72\n",
       "House Targaryen     62\n",
       "                  ... \n",
       "House Gower          1\n",
       "House Borrell        1\n",
       "Citadel              1\n",
       "Wise Masters         1\n",
       "Three-eyed crow      1\n",
       "Name: house, Length: 348, dtype: int64"
      ]
     },
     "execution_count": 232,
     "metadata": {},
     "output_type": "execute_result"
    }
   ],
   "source": [
    "char_preds.house.value_counts()"
   ]
  },
  {
   "cell_type": "code",
   "execution_count": 233,
   "id": "afc0a6ec",
   "metadata": {
    "ExecuteTime": {
     "end_time": "2023-11-27T14:58:37.937460Z",
     "start_time": "2023-11-27T14:58:37.927586Z"
    }
   },
   "outputs": [
    {
     "data": {
      "text/plain": [
       "0    1560\n",
       "1     386\n",
       "Name: book1, dtype: int64"
      ]
     },
     "execution_count": 233,
     "metadata": {},
     "output_type": "execute_result"
    }
   ],
   "source": [
    "char_preds.book1.value_counts()"
   ]
  },
  {
   "cell_type": "code",
   "execution_count": 234,
   "id": "f6e99698",
   "metadata": {
    "ExecuteTime": {
     "end_time": "2023-11-27T14:59:04.875855Z",
     "start_time": "2023-11-27T14:59:04.862929Z"
    }
   },
   "outputs": [
    {
     "data": {
      "text/plain": [
       "0    1217\n",
       "1     729\n",
       "Name: book2, dtype: int64"
      ]
     },
     "execution_count": 234,
     "metadata": {},
     "output_type": "execute_result"
    }
   ],
   "source": [
    "char_preds.book2.value_counts()"
   ]
  },
  {
   "cell_type": "code",
   "execution_count": 235,
   "id": "11e9a51b",
   "metadata": {
    "ExecuteTime": {
     "end_time": "2023-11-27T14:59:08.669663Z",
     "start_time": "2023-11-27T14:59:08.653697Z"
    }
   },
   "outputs": [
    {
     "data": {
      "text/plain": [
       "0    1011\n",
       "1     935\n",
       "Name: book3, dtype: int64"
      ]
     },
     "execution_count": 235,
     "metadata": {},
     "output_type": "execute_result"
    }
   ],
   "source": [
    "char_preds.book3.value_counts()"
   ]
  },
  {
   "cell_type": "code",
   "execution_count": 236,
   "id": "78a74cc9",
   "metadata": {
    "ExecuteTime": {
     "end_time": "2023-11-27T14:59:11.869275Z",
     "start_time": "2023-11-27T14:59:11.858250Z"
    }
   },
   "outputs": [
    {
     "data": {
      "text/plain": [
       "1    1152\n",
       "0     794\n",
       "Name: book4, dtype: int64"
      ]
     },
     "execution_count": 236,
     "metadata": {},
     "output_type": "execute_result"
    }
   ],
   "source": [
    "char_preds.book4.value_counts()"
   ]
  },
  {
   "cell_type": "code",
   "execution_count": 237,
   "id": "73a6d932",
   "metadata": {
    "ExecuteTime": {
     "end_time": "2023-11-27T14:59:15.928365Z",
     "start_time": "2023-11-27T14:59:15.918183Z"
    }
   },
   "outputs": [
    {
     "data": {
      "text/plain": [
       "0    1177\n",
       "1     769\n",
       "Name: book5, dtype: int64"
      ]
     },
     "execution_count": 237,
     "metadata": {},
     "output_type": "execute_result"
    }
   ],
   "source": [
    "char_preds.book5.value_counts()"
   ]
  },
  {
   "cell_type": "code",
   "execution_count": 240,
   "id": "d0321132",
   "metadata": {
    "ExecuteTime": {
     "end_time": "2023-11-27T15:00:10.883058Z",
     "start_time": "2023-11-27T15:00:10.868099Z"
    }
   },
   "outputs": [
    {
     "data": {
      "text/plain": [
       "1    0.745632\n",
       "0    0.254368\n",
       "Name: isAlive, dtype: float64"
      ]
     },
     "execution_count": 240,
     "metadata": {},
     "output_type": "execute_result"
    }
   ],
   "source": [
    "char_preds.isAlive.value_counts()/len(char_preds)"
   ]
  },
  {
   "cell_type": "code",
   "execution_count": 241,
   "id": "a84c5702",
   "metadata": {
    "ExecuteTime": {
     "end_time": "2023-11-27T15:01:27.118202Z",
     "start_time": "2023-11-27T15:01:27.106173Z"
    }
   },
   "outputs": [
    {
     "data": {
      "text/plain": [
       "0     1801\n",
       "1       49\n",
       "5       25\n",
       "4       18\n",
       "2       12\n",
       "7       10\n",
       "6        8\n",
       "10       5\n",
       "8        5\n",
       "3        4\n",
       "11       3\n",
       "12       2\n",
       "15       2\n",
       "9        2\n",
       "Name: numDeadRelations, dtype: int64"
      ]
     },
     "execution_count": 241,
     "metadata": {},
     "output_type": "execute_result"
    }
   ],
   "source": [
    "char_preds.numDeadRelations.value_counts()"
   ]
  },
  {
   "cell_type": "code",
   "execution_count": 242,
   "id": "73de944b",
   "metadata": {
    "ExecuteTime": {
     "end_time": "2023-11-27T15:02:04.912738Z",
     "start_time": "2023-11-27T15:02:04.419743Z"
    }
   },
   "outputs": [
    {
     "data": {
      "text/plain": [
       "<AxesSubplot:>"
      ]
     },
     "execution_count": 242,
     "metadata": {},
     "output_type": "execute_result"
    },
    {
     "data": {
      "image/png": "[encoded data removed]",
      "text/plain": [
       "<Figure size 640x480 with 1 Axes>"
      ]
     },
     "metadata": {},
     "output_type": "display_data"
    }
   ],
   "source": [
    "char_preds.numDeadRelations.hist()"
   ]
  },
  {
   "cell_type": "code",
   "execution_count": 247,
   "id": "27ef1c7c",
   "metadata": {
    "ExecuteTime": {
     "end_time": "2023-11-27T15:03:42.987526Z",
     "start_time": "2023-11-27T15:03:42.669614Z"
    }
   },
   "outputs": [
    {
     "data": {
      "text/plain": [
       "<AxesSubplot:>"
      ]
     },
     "execution_count": 247,
     "metadata": {},
     "output_type": "execute_result"
    },
    {
     "data": {
      "image/png": "[encoded data removed]",
      "text/plain": [
       "<Figure size 640x480 with 1 Axes>"
      ]
     },
     "metadata": {},
     "output_type": "display_data"
    }
   ],
   "source": [
    "char_preds.boxplot(\"numDeadRelations\")"
   ]
  },
  {
   "cell_type": "markdown",
   "id": "c563caa7",
   "metadata": {},
   "source": [
    "### Getting alliance column from only_deaths.Allegiance to char_preds for each row by name"
   ]
  },
  {
   "cell_type": "code",
   "execution_count": 248,
   "id": "b7b5265a",
   "metadata": {
    "ExecuteTime": {
     "end_time": "2023-11-27T15:18:07.414949Z",
     "start_time": "2023-11-27T15:18:07.403737Z"
    }
   },
   "outputs": [
    {
     "data": {
      "text/plain": [
       "0                 Waymar Royce\n",
       "1                        Gared\n",
       "2                         Will\n",
       "3                         Stag\n",
       "4                     Direwolf\n",
       "                 ...          \n",
       "2219    King's Landing Citizen\n",
       "2220    King's Landing Citizen\n",
       "2221    King's Landing Citizen\n",
       "2222    King's Landing Citizen\n",
       "2223        Daenerys Targaryen\n",
       "Name: Name, Length: 2224, dtype: object"
      ]
     },
     "execution_count": 248,
     "metadata": {},
     "output_type": "execute_result"
    }
   ],
   "source": [
    "only_deaths.Name"
   ]
  },
  {
   "cell_type": "code",
   "execution_count": null,
   "id": "4990c77b",
   "metadata": {},
   "outputs": [],
   "source": []
  },
  {
   "cell_type": "code",
   "execution_count": null,
   "id": "c06fdec9",
   "metadata": {},
   "outputs": [],
   "source": [
    "df[\"exists\"] = data.drop(\"name\", 1).isin(df[\"target\"]).any(1)"
   ]
  }
 ],
 "metadata": {
  "kernelspec": {
   "display_name": "Python 3 (ipykernel)",
   "language": "python",
   "name": "python3"
  },
  "language_info": {
   "codemirror_mode": {
    "name": "ipython",
    "version": 3
   },
   "file_extension": ".py",
   "mimetype": "text/x-python",
   "name": "python",
   "nbconvert_exporter": "python",
   "pygments_lexer": "ipython3",
   "version": "3.10.6"
  },
  "toc": {
   "base_numbering": 1,
   "nav_menu": {},
   "number_sections": true,
   "sideBar": true,
   "skip_h1_title": false,
   "title_cell": "Table of Contents",
   "title_sidebar": "Contents",
   "toc_cell": false,
   "toc_position": {},
   "toc_section_display": true,
   "toc_window_display": false
  }
 },
 "nbformat": 4,
 "nbformat_minor": 5
}
